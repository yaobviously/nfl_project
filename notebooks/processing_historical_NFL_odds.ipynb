{
  "nbformat": 4,
  "nbformat_minor": 0,
  "metadata": {
    "colab": {
      "provenance": []
    },
    "kernelspec": {
      "name": "python3",
      "display_name": "Python 3"
    },
    "language_info": {
      "name": "python"
    }
  },
  "cells": [
    {
      "cell_type": "code",
      "execution_count": null,
      "metadata": {
        "id": "xpx1JdX-Magd"
      },
      "outputs": [],
      "source": [
        "from google.colab import files\n",
        "\n",
        "files.upload()"
      ]
    },
    {
      "cell_type": "code",
      "source": [
        "import pandas as pd\n",
        "import numpy as np\n",
        "import os"
      ],
      "metadata": {
        "id": "4A7SqVcnMpS0"
      },
      "execution_count": null,
      "outputs": []
    },
    {
      "cell_type": "code",
      "source": [
        "team_dict = {\n",
        "    'Minnesota' : 'MIN', 'NewOrleans' : 'NO', 'Carolina' : 'CAR',\n",
        "    'NYGiants' : 'NYG', 'Miami' : 'MIA', 'Cincinnati' : 'CIN', \n",
        "    'Buffalo' : 'BUF', 'Atlanta' : 'ATL', 'Pittsburgh' : 'PIT',\n",
        "    'Detroit' : 'DET', 'Chicago' : 'CHI', 'NewEngland' : 'NE',\n",
        "    'Cleveland' : 'CLE', 'TampaBay' : 'TB', 'Denver' : 'DEN',\n",
        "    'Jacksonville' : 'JAX', 'Indianapolis' : 'IND',\n",
        "    'Houston' : 'HOU', 'Oakland' : 'LV', 'Tennessee' : 'TEN',\n",
        "    'GreenBay' : 'GB', 'Philadelphia' : 'PHI', 'SanFrancisco' : 'SF',\n",
        "    'Seattle' : 'SEA', 'Arizona' : 'ARI', 'St.Louis' : 'LA', \n",
        "    'Dallas' : 'DAL', 'Washington' : 'WAS', 'Baltimore' : 'BAL',\n",
        "    'NYJets' : 'NYJ', 'SanDiego': 'LAC', 'KansasCity' : 'KC',\n",
        "    'HoustonTexans' : 'HOU', 'LasVegas' : 'LV', 'LAChargers' : 'LAC',\n",
        "    'LARams' : 'LA', 'LVRaiders' : 'LV', 'KCChiefs' : 'KC', 'Kansas' : 'KC',\n",
        "    'Tampa' : 'TB', 'Washingtom' : 'WAS', 'LosAngeles' : 'LA', 'BuffaloBills' : 'BUF',\n",
        "    'NewYork' : 'NYG'\n",
        "}"
      ],
      "metadata": {
        "id": "EVaI3qQ3Q2AF"
      },
      "execution_count": null,
      "outputs": []
    },
    {
      "cell_type": "code",
      "source": [
        "folder = '/content'\n",
        "\n",
        "df = pd.DataFrame()\n",
        "\n",
        "for file in os.listdir(folder):\n",
        "\n",
        "  if 'xlsx' in file:\n",
        "    df_ = pd.read_excel(file)\n",
        "    df_['year'] = file[9:13]\n",
        "    df = pd.concat([df, df_])\n",
        "\n",
        "\n",
        "df.columns = df.columns.str.lower()\n",
        "df['year'] = df['year'].astype(int)\n",
        "df['team'] = df['team'].map(team_dict)"
      ],
      "metadata": {
        "id": "Rrv7ISWVMsh1"
      },
      "execution_count": null,
      "outputs": []
    },
    {
      "cell_type": "code",
      "source": [
        "games = []\n",
        "for i in range(0, len(df), 2):\n",
        "  games.append(i)\n",
        "  games.append(i)\n",
        "\n",
        "df['game_identifier'] = games"
      ],
      "metadata": {
        "id": "zI8d9wHSNE41"
      },
      "execution_count": null,
      "outputs": []
    },
    {
      "cell_type": "code",
      "source": [
        "test = (\n",
        "    df\n",
        "    .groupby('game_identifier')\n",
        "    .agg({\n",
        "        'year' : 'first',\n",
        "        'date' : 'first',\n",
        "        'team' : ['first', 'last'],\n",
        "        'ml' : ['first', 'last']})\n",
        "    .reset_index(drop=True)\n",
        ")\n",
        "\n",
        "test.columns = ['year', 'date', 'away_team', 'home_team', 'away_ml', 'home_ml']"
      ],
      "metadata": {
        "id": "W3rwnuuGJHhB"
      },
      "execution_count": null,
      "outputs": []
    },
    {
      "cell_type": "code",
      "source": [
        "def calculate_win_probability(x):\n",
        "  \"func to convert a moneyline to a win probability\"\n",
        "\n",
        "  if x < 0 :\n",
        "    return abs(x) / (100 + abs(x))\n",
        "\n",
        "  else:\n",
        "    return 1 - abs(x) / (100 + abs(x))"
      ],
      "metadata": {
        "id": "A0DA3OWbXg0k"
      },
      "execution_count": null,
      "outputs": []
    },
    {
      "cell_type": "code",
      "source": [
        "# converting moneylines to win probabilities with vig\n",
        "\n",
        "test['away_win_proba_vig'] = test['away_ml'].apply(calculate_win_probability)\n",
        "test['home_win_proba_vig'] = test['home_ml'].apply(calculate_win_probability)\n",
        "\n",
        "# calculating win probabilities without vig through normalization\n",
        "\n",
        "test['sum_vig_proba'] = test['away_win_proba_vig'].add(test['home_win_proba_vig'])\n",
        "test['away_win_proba_no_vig'] = test['away_win_proba_vig'].div(test['sum_vig_proba'])\n",
        "test['home_win_proba_no_vig'] = test['home_win_proba_vig'].div(test['sum_vig_proba'])"
      ],
      "metadata": {
        "id": "YfG4ouZwYIn-"
      },
      "execution_count": null,
      "outputs": []
    },
    {
      "cell_type": "code",
      "source": [
        "# converting a messy date column into a proper pandas datetime w/weekday\n",
        "# the weekday column will be necessary to assign 'weeks' to create game_id col\n",
        "\n",
        "test['month'] = [str(x)[:-2] for x in test.date]\n",
        "test['day'] = [str(x)[-2:] for x in test.date]\n",
        "test['year'] = np.where(test.month.isin(['1', '2']), test['year'] + 1, test['year'])\n",
        "\n",
        "test['date_dt'] = [pd.to_datetime(str(x) + '-' + y + '-' + z) for x, y, z in zip(test.year, test.month, test.day)]\n",
        "test['weekday'] = test['date_dt'].dt.day_name()"
      ],
      "metadata": {
        "id": "UQrRQvUwF--V"
      },
      "execution_count": null,
      "outputs": []
    },
    {
      "cell_type": "code",
      "source": [
        "unique_dates = test.groupby(['year', 'date_dt'])['weekday'].unique().reset_index()\n",
        "unique_dates['weekday'] = unique_dates['weekday'].apply(lambda x: x[0])"
      ],
      "metadata": {
        "id": "ePS_kPxxUf7T"
      },
      "execution_count": null,
      "outputs": []
    },
    {
      "cell_type": "code",
      "source": [
        "unique_dates['season'] = (\n",
        "    np.where(\n",
        "        unique_dates['date_dt'].dt.month.isin([1, 2]),\n",
        "        unique_dates['year'] - 1,\n",
        "        unique_dates['year']\n",
        "        )\n",
        ")\n",
        "\n",
        "# counting each unique weekday in the season to figure out the NFL season week\n",
        "unique_dates['weekday_count'] = unique_dates.groupby(['season', 'weekday']).cumcount() + 1\n",
        "unique_dates['week'] = unique_dates['weekday_count']\n",
        "\n",
        "# matching the Saturday and Thursday weeks with the succeeding Sunday's week\n",
        "# order matters w/this solution\n",
        "\n",
        "unique_dates.loc[unique_dates['weekday'] == 'Saturday', 'week'] = unique_dates['weekday_count'].shift(-1)\n",
        "unique_dates.loc[unique_dates['weekday'] == 'Thursday', 'week'] = unique_dates['weekday_count'].shift(-1)"
      ],
      "metadata": {
        "id": "g56FrLtugVPZ"
      },
      "execution_count": null,
      "outputs": []
    },
    {
      "cell_type": "code",
      "source": [
        "final_df = test.merge(unique_dates[['date_dt', 'season', 'week']], how='left', on='date_dt')\n",
        "\n",
        "# converting columns to ints -> strs to create a game_id column that can be \n",
        "# used to merge onto the games_df\n",
        "\n",
        "final_df['week'] = final_df['week'].astype(int)\n",
        "final_df['week'] = final_df['week'].astype(str).str.zfill(width=2)\n",
        "final_df['season'] = final_df['season'].astype(str)\n",
        "\n",
        "final_df['game_id'] = [y + '_' + w + '_' + a + '_' + h for y, w, a,\n",
        "                       h in zip(final_df['season'], final_df['week'], final_df['away_team'], final_df['home_team'])]\n"
      ],
      "metadata": {
        "id": "GJEhb3WIRVDH"
      },
      "execution_count": null,
      "outputs": []
    },
    {
      "cell_type": "code",
      "source": [
        "final_df = final_df[['game_id', 'away_team', 'home_team', 'home_ml', 'home_win_proba_no_vig']].copy()\n",
        "\n",
        "final_df.to_csv('nfl_moneylines_2007_2021.csv', index=False)"
      ],
      "metadata": {
        "id": "gp2czLrSZijE"
      },
      "execution_count": null,
      "outputs": []
    }
  ]
}