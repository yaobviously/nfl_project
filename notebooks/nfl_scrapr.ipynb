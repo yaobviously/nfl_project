{
  "cells": [
    {
      "cell_type": "code",
      "execution_count": 11,
      "metadata": {
        "colab": {
          "base_uri": "https://localhost:8080/"
        },
        "id": "Nu-MfQlHpoRn",
        "outputId": "2b0733dc-feb3-4dcb-cd3c-abe86764be3e"
      },
      "outputs": [],
      "source": [
        "import os\n",
        "import numpy as np\n",
        "import pandas as pd\n",
        "import matplotlib.pyplot as plt\n",
        "import seaborn as sns\n",
        "import pickle\n",
        "import psycopg2 \n",
        "import io\n",
        "\n",
        "from sqlalchemy import create_engine\n"
      ]
    },
    {
      "cell_type": "code",
      "execution_count": 9,
      "metadata": {
        "colab": {
          "base_uri": "https://localhost:8080/"
        },
        "id": "bI_dkD_JqY95",
        "outputId": "57bcfda7-0a1d-4d0a-f0dc-9e8505d2b178"
      },
      "outputs": [
        {
          "name": "stdout",
          "output_type": "stream",
          "text": [
            "(1148717, 372)\n",
            "   play_id          game_id old_game_id home_team away_team season_type  week  \\\n",
            "0     35.0  1999_01_ARI_PHI  1999091200       PHI       ARI         REG     1   \n",
            "1     60.0  1999_01_ARI_PHI  1999091200       PHI       ARI         REG     1   \n",
            "2     82.0  1999_01_ARI_PHI  1999091200       PHI       ARI         REG     1   \n",
            "3    103.0  1999_01_ARI_PHI  1999091200       PHI       ARI         REG     1   \n",
            "4    126.0  1999_01_ARI_PHI  1999091200       PHI       ARI         REG     1   \n",
            "\n",
            "  posteam posteam_type defteam  ... out_of_bounds  home_opening_kickoff  \\\n",
            "0     PHI         home     ARI  ...           0.0                   1.0   \n",
            "1     PHI         home     ARI  ...           0.0                   1.0   \n",
            "2     PHI         home     ARI  ...           0.0                   1.0   \n",
            "3     PHI         home     ARI  ...           0.0                   1.0   \n",
            "4     PHI         home     ARI  ...           0.0                   1.0   \n",
            "\n",
            "     qb_epa  xyac_epa  xyac_mean_yardage  xyac_median_yardage xyac_success  \\\n",
            "0  0.126818       NaN                NaN                  NaN          NaN   \n",
            "1 -0.561568       NaN                NaN                  NaN          NaN   \n",
            "2 -0.641717       NaN                NaN                  NaN          NaN   \n",
            "3 -0.723302       NaN                NaN                  NaN          NaN   \n",
            "4  0.212661       NaN                NaN                  NaN          NaN   \n",
            "\n",
            "   xyac_fd  xpass  pass_oe  \n",
            "0      NaN    NaN      NaN  \n",
            "1      NaN    NaN      NaN  \n",
            "2      NaN    NaN      NaN  \n",
            "3      NaN    NaN      NaN  \n",
            "4      NaN    NaN      NaN  \n",
            "\n",
            "[5 rows x 372 columns]\n"
          ]
        }
      ],
      "source": [
        "# gettin the directory path\n",
        "current_dir = os.getcwd()\n",
        "parent_dir = os.path.abspath(os.path.join(current_dir, os.pardir))\n",
        "nfl_pbp_dir = 'data/pbp'\n",
        "\n",
        "# loading all of the parquets files at once using the directory path\n",
        "df = pd.read_parquet(f'{parent_dir}/{nfl_pbp_dir}')\n",
        "\n",
        "print(df.shape)"
      ]
    },
    {
      "cell_type": "code",
      "execution_count": 10,
      "metadata": {
        "id": "aSC_e52GPwn7"
      },
      "outputs": [],
      "source": [
        "lee_sharpe = 'https://raw.githubusercontent.com/nflverse/nfldata/master/data/games.csv'\n",
        "\n",
        "ls_cols = ['game_id', 'overtime', 'home_rest', 'away_rest', 'div_game','roof', \n",
        "           'surface', 'temp', 'wind', 'home_coach', 'away_coach', 'referee']\n",
        "\n",
        "ls = pd.read_csv(lee_sharpe, usecols=ls_cols)\n",
        "ls = ls.sort_values(by='game_id')"
      ]
    },
    {
      "cell_type": "code",
      "execution_count": null,
      "metadata": {
        "id": "2OTZX70GkVwE"
      },
      "outputs": [],
      "source": [
        "df['year'] = pd.to_datetime(df['game_date']).dt.year\n",
        "df['two_point_conv_result'] = (\n",
        "    df['two_point_conv_result']\n",
        "    .map(\n",
        "        {'success' : 1,\n",
        "         'failure' : 0,\n",
        "         }\n",
        "    )\n",
        "    .fillna('None')\n",
        ")\n",
        "\n",
        "df['game_date'] = pd.to_datetime(df['game_date'])\n",
        "df['spread_line'] = df['spread_line'] * -1\n",
        "df['field_goal_result'] = np.where(df['field_goal_result'] == 'made', 1, 0)\n",
        "df['time_between'] = df.groupby(['game_id'])['game_seconds_remaining'].transform(lambda x: x.sub(x.shift(-1)).fillna(0))\n",
        "df['play_type'] = np.where(df['two_point_attempt'] > 0.5, 'two_point_att', df['play_type'])\n",
        "df['air_yards_to_sticks'] = df['air_yards'].sub(df['ydstogo'])\n",
        "df['season'] = [int(x.split('_')[0]) for x in df.game_id]\n",
        "df['blocked_player_name'] = np.where(df['blocked_player_name'].notnull(), 1, 0)\n",
        "df['fg_0_39'] = np.where(((df['play_type'] == 'field_goal') & (df['kick_distance'].between(0,39))), 1, 0)\n",
        "df['fg_40_49'] = np.where(((df['play_type'] == 'field_goal') & (df['kick_distance'].between(40,49))), 1, 0)\n",
        "df['fg_50_on'] = np.where(((df['play_type'] == 'field_goal') & (df['kick_distance'].between(50,100))), 1, 0)\n",
        "df['extra_point_result'] = np.where(df['extra_point_result'] == 'good', 1, 0)"
      ]
    },
    {
      "cell_type": "code",
      "execution_count": null,
      "metadata": {
        "id": "uEk1xEoVrjOV"
      },
      "outputs": [],
      "source": [
        "success = []\n",
        "\n",
        "for a, b, c in zip(df['down'], df['ydstogo'], df['yards_gained']):\n",
        "  frac = 0.4 * b\n",
        "  \n",
        "  if b == 0.0:\n",
        "    success.append(np.nan)\n",
        "  \n",
        "  elif ((a==1) | (a==2)):\n",
        "    if c >= frac:\n",
        "      success.append(1)\n",
        "    else:\n",
        "      success.append(0)\n",
        "  elif ((a==3) | (a==4)):\n",
        "    if c >= b:\n",
        "      success.append(1)\n",
        "    else:\n",
        "      success.append(0)\n",
        "\n",
        "df['success'] = success"
      ]
    },
    {
      "cell_type": "code",
      "execution_count": null,
      "metadata": {
        "id": "nc7EWUGPC7QP"
      },
      "outputs": [],
      "source": [
        "# getting the receiving box score basics\n",
        "\n",
        "def get_receiving(df=df): \n",
        "  \n",
        "  rec_df = (\n",
        "      df.loc[df['qb_dropback'] == 1]\n",
        "      .groupby(['game_id', 'receiver_player_id','posteam'])\n",
        "      .agg({\n",
        "          'receiver_player_name' : lambda x: x.unique()[0],\n",
        "          'pass_attempt' : 'count',\n",
        "          'complete_pass' : 'sum',\n",
        "          'air_yards' : 'sum',\n",
        "          'yards_after_catch' : 'sum',\n",
        "          'yards_gained' : 'sum',\n",
        "          'touchdown' : 'sum'\n",
        "      })\n",
        "      .sort_index()\n",
        "      .reset_index()\n",
        "      )\n",
        "\n",
        "  rec_df.rename(\n",
        "      columns={\n",
        "      'receiver_player_id' : 'player_id',\n",
        "      'receiver_player_name' : 'player',\n",
        "      'pass_attempt' : 'targets',\n",
        "      'complete_pass' : 'rec',\n",
        "      'posteam' : 'team',\n",
        "      'yards_after_catch' : 'yac',\n",
        "      'yards_gained' : 'rec_yards',\n",
        "      'touchdown' : 'td'},\n",
        "      inplace=True)\n",
        "\n",
        "  rec_df['team_targets'] = rec_df.groupby(['game_id', 'team'])['targets'].transform('sum')\n",
        "  rec_df['target_share'] = rec_df['targets'].div(rec_df['team_targets']).round(3) * 100\n",
        "  rec_df['aDOT'] = rec_df['air_yards'].div(rec_df['targets']).fillna(np.nan)\n",
        "  rec_df['yrds_per_rec'] = rec_df['rec_yards'].div(rec_df['rec']).round(1)\n",
        "\n",
        "  rec_df['team_air_yards'] = rec_df.groupby(['game_id', 'team'])['air_yards'].transform('sum')\n",
        "  rec_df['air_yards_share'] = rec_df['air_yards'].div(rec_df['team_air_yards']).round(3) * 100\n",
        "  rec_df['yac_per_rec'] = rec_df['yac'].div(rec_df['rec']).round(1)\n",
        "\n",
        "  rec_df.drop(columns='team_targets', inplace=True)\n",
        "\n",
        "  return rec_df"
      ]
    },
    {
      "cell_type": "code",
      "execution_count": null,
      "metadata": {
        "id": "xhCgNxuEYS_4"
      },
      "outputs": [],
      "source": [
        "# creating the core table of quarterback results\n",
        "\n",
        "def get_qb_pass(df=df):\n",
        "  qb_df = (\n",
        "      df.loc[((df['pass_attempt'] == 1) & (~df['play_type'].isin(['two_point_att']) & (df['sack'] ==0)))]\n",
        "      .groupby(['game_id', 'passer_player_name', 'posteam'], as_index=False)\n",
        "      .agg({\n",
        "          'passer_player_id' : lambda x: x.unique()[0],\n",
        "          'season_type' : lambda x: x.unique()[0],\n",
        "          'pass_attempt' : 'sum',\n",
        "          'complete_pass' : 'sum',\n",
        "          'yards_gained' : 'sum',\n",
        "          'air_yards' : 'sum',\n",
        "          'yards_after_catch' : 'sum',\n",
        "          'air_yards_to_sticks' : 'sum',\n",
        "          'interception' : 'sum',\n",
        "          'total_line' : 'max',\n",
        "          'home_team' : lambda x: x.unique()[0],\n",
        "          'away_team' : lambda x: x.unique()[0],\n",
        "          'success' : 'sum',\n",
        "          'temp' : 'max',\n",
        "          'wind' : 'max',\n",
        "          'epa' : 'sum',\n",
        "          'cpoe' : 'sum'\n",
        "      })\n",
        "  )\n",
        "\n",
        "  qb_df.rename(\n",
        "      columns={\n",
        "          'passer_player_name' : 'player',\n",
        "          'passer_player_id' : 'player_id',\n",
        "          'pass_attempt' : 'att',\n",
        "          'complete_pass' : 'com',\n",
        "          'yards_gained' : 'pass_yards',\n",
        "          'posteam' : 'team',\n",
        "          'air_yards_to_sticks' : 'AYTS'},\n",
        "      inplace=True)\n",
        "  \n",
        "  sacks = (\n",
        "    df.groupby(['game_id', 'posteam', 'passer_player_name'], as_index=False)['sack']\n",
        "    .sum()\n",
        "    .rename(columns={'passer_player_name' : 'player',\n",
        "                     'posteam' : 'team'})\n",
        "  )\n",
        "\n",
        "  \n",
        "  qb_df = qb_df.merge(sacks, how='left', on=['game_id', 'team', 'player'])\n",
        "  qb_df['att'] = qb_df['att'].add(qb_df['sack'])\n",
        "  qb_df['comp_perc'] = qb_df['com'].div(qb_df['att']).round(3) * 100\n",
        "\n",
        "\n",
        "  qb_td = (\n",
        "      df.loc[((df['pass_attempt'] == 1) & (~df['play_type'].isin(['two_point_att']) & (df['sack'] ==0) & (df['interception'] == 0)))]\n",
        "      .groupby(['game_id', 'passer_player_id'], as_index=False)['touchdown']\n",
        "      .sum()\n",
        "      .rename(columns={'passer_player_id' : 'player_id'})\n",
        "      )\n",
        "\n",
        "  qb_df = qb_df.merge(qb_td, how='left', on=['game_id', 'player_id']) \n",
        "\n",
        "  ay_complete = (\n",
        "      df[df['complete_pass'] == 1]\n",
        "      .groupby(['game_id', 'posteam', 'passer_player_name'], as_index=False)['air_yards']\n",
        "      .sum()\n",
        "      .rename(columns={\n",
        "          'air_yards' : 'ay_completions',\n",
        "          'passer_player_name' : 'player',\n",
        "          'posteam' : 'team'})\n",
        "  )\n",
        "\n",
        "\n",
        "  ay_incomplete = (\n",
        "      df[((df['complete_pass'] == 0) & (df['play_type'] != 'two_point_att'))]\n",
        "      .groupby(['game_id', 'posteam', 'passer_player_name', 'complete_pass'], as_index=False)['air_yards']\n",
        "      .sum()\n",
        "      .rename(columns={\n",
        "          'passer_player_name' : 'player',\n",
        "          'air_yards' : 'ay_incompletions',\n",
        "          'posteam' : 'team'\n",
        "      })\n",
        "  )\n",
        "\n",
        "  qb_df = qb_df.merge(ay_complete, how='left', on=['game_id', 'team', 'player'])\n",
        "  qb_df['avg_ay_comp'] = qb_df['ay_completions'].div(qb_df['com']).round(1)\n",
        "  qb_df = qb_df.merge(ay_incomplete, how='left', on=['game_id', 'team', 'player'])\n",
        "  qb_df['avg_ay_incomp'] = qb_df['ay_incompletions'].div(qb_df['att'] - qb_df['com']).round(1)\n",
        "  qb_df['att'] = qb_df['att'].sub(qb_df['sack'])\n",
        "  qb_df['cpoe'] = qb_df['cpoe'].div(100)\n",
        "  qb_df['epa_per_dropback'] = qb_df['epa'].div(qb_df['att'] + qb_df['sack']).round(3)\n",
        "\n",
        "  # fixing qb names\n",
        "\n",
        "  qb_df['player'].replace('Ty.Taylor', 'T.Taylor', inplace=True)\n",
        "  qb_df['player'].replace('Aa.Rodgers', 'A.Rodgers', inplace=True)\n",
        "  qb_df['player'].replace('Alex Smith', 'A.Smith', inplace=True)\n",
        "  qb_df['player'].replace('Jos.Smith', 'J.Smith', inplace=True)\n",
        "\n",
        "  qb_dict = {x:x.split('.') for x in qb_df['player'].unique()}\n",
        "\n",
        "  new_values = []\n",
        "\n",
        "  for values in qb_dict.values():\n",
        "    new_last = values[1].lstrip()\n",
        "    new_values.append('.'.join([values[0], new_last]))\n",
        "\n",
        "  new_qb_dict = {k:v for k, v in zip(qb_dict.keys(), new_values)}\n",
        "  qb_df['player'] = qb_df['player'].map(new_qb_dict).fillna(qb_df['player'])\n",
        "\n",
        "  return qb_df"
      ]
    },
    {
      "cell_type": "code",
      "execution_count": null,
      "metadata": {
        "id": "-Hz634F5ghGF"
      },
      "outputs": [],
      "source": [
        "# creating the core table of rushing results\n",
        "\n",
        "def get_rushing(df=df):\n",
        "    \n",
        "  run_df = (\n",
        "      df[df['rush_attempt'] == 1]\n",
        "      .groupby(['game_id', 'rusher_player_id', 'posteam'])\n",
        "      .agg({\n",
        "          'rush_attempt' : 'sum',\n",
        "          'rusher_player_name' : lambda x: x.unique()[0],\n",
        "          'yards_gained' : 'sum',\n",
        "          'success' : 'sum',\n",
        "          'touchdown' : 'sum',\n",
        "          'total_line' : 'mean',\n",
        "          'epa' : 'sum',\n",
        "          'fumble_lost' : 'sum',\n",
        "          'success' : 'sum',\n",
        "          'home_team' : lambda x : x.unique()[0],\n",
        "          'away_team' : lambda x : x.unique()[0]\n",
        "      })\n",
        "      .sort_index()\n",
        "      .reset_index()\n",
        "  )\n",
        "\n",
        "  run_df.rename(\n",
        "      columns={\n",
        "          'rusher_player_id' : 'player_id',\n",
        "          'rusher_player_name' : 'player',\n",
        "          'rush_attempt' : 'rush_att',\n",
        "          'posteam' : 'team',\n",
        "          'fumble_lost' : 'fumbles',\n",
        "          'touchdown' : 'rush_td',\n",
        "          'yards_gained' : 'rush_yds',\n",
        "          'epa' : 'rush_epa'}, inplace=True)\n",
        "  \n",
        "  run_df['rush_yds_per_att'] = run_df['rush_yds'].div(run_df['rush_att']).round(1)\n",
        "  run_df['success_perc'] = run_df['success'].div(run_df['rush_att']).round(3)\n",
        "  run_df['team_rush_atts'] = run_df.groupby(['game_id', 'team'])['rush_att'].transform('sum')\n",
        "  run_df['rush_att_share'] = run_df['rush_att'].div(run_df['team_rush_atts']).round(2)\n",
        "  \n",
        "  return run_df"
      ]
    },
    {
      "cell_type": "code",
      "execution_count": null,
      "metadata": {
        "id": "LdQVTfsCarfx"
      },
      "outputs": [],
      "source": [
        "def get_opp_pass(df=df):\n",
        "\n",
        "  opp_pass = (\n",
        "      df[df['pass_attempt'] == 1]\n",
        "      .groupby(['game_id', 'defteam'], as_index=False)['yards_gained']\n",
        "      .sum()\n",
        "      .rename(columns={'defteam' : 'team',\n",
        "                      'yards_gained' : 'opp_pass_yds'})\n",
        "  )\n",
        "\n",
        "  return opp_pass"
      ]
    },
    {
      "cell_type": "code",
      "execution_count": null,
      "metadata": {
        "id": "8gmXQiUcbEwV"
      },
      "outputs": [],
      "source": [
        "def get_opp_rush(df=df):\n",
        "\n",
        "  opp_rush = (\n",
        "      df[df['rush_attempt'] == 1]\n",
        "      .groupby(['game_id', 'defteam'], as_index=False)['yards_gained']\n",
        "      .sum()\n",
        "      .rename(columns={'defteam' : 'team',\n",
        "                      'yards_gained' : 'opp_rush_yds'})\n",
        "  )\n",
        "\n",
        "  return opp_rush"
      ]
    },
    {
      "cell_type": "code",
      "execution_count": null,
      "metadata": {
        "id": "Nm4RS8sJnHV7"
      },
      "outputs": [],
      "source": [
        "def get_def_stats(df=df):\n",
        "\n",
        "  def_cols = ['interception', 'season', 'return_touchdown', 'fumble', \n",
        "              'sack', 'epa']\n",
        "\n",
        "  def_stats = (\n",
        "      df[~df['desc'].str.contains('Aborted')].copy()\n",
        "      .groupby(['game_id', 'defteam'], as_index=False)\n",
        "      .agg({\n",
        "          'interception' : 'sum',\n",
        "          'season' : lambda x: x.unique()[0],\n",
        "          'return_touchdown' : 'sum',\n",
        "          'fumble_lost' : 'sum',\n",
        "          'sack' : 'sum',\n",
        "          'safety' : 'sum',\n",
        "          'blocked_player_name' : 'sum'\n",
        "      })\n",
        "      .rename(columns={\n",
        "          'defteam' : 'team',\n",
        "          'interception' : 'def_int',\n",
        "          'return_touchdown' : 'def_td',\n",
        "          'sack' : 'def_sack',\n",
        "          'fumble' : 'def_fumble',\n",
        "          'blocked_player_name' : 'kick_blocked'})\n",
        "  )\n",
        "  \n",
        "  return def_stats"
      ]
    },
    {
      "cell_type": "code",
      "execution_count": null,
      "metadata": {
        "id": "AOjAZaHM-2cy"
      },
      "outputs": [],
      "source": [
        "def get_kicker_stats(df=df):\n",
        "\n",
        "  kicks = ['field_goal', 'extra_point']\n",
        "\n",
        "  df = df[df['desc'].str.contains('GOOD')].copy()\n",
        "\n",
        "  kick_df = (\n",
        "      \n",
        "      df[df['play_type'].isin(kicks)]\n",
        "      .groupby(['game_id', 'kicker_player_id'], as_index=False)\n",
        "      .agg({\n",
        "          'kicker_player_name' : lambda x: x.unique()[0],\n",
        "          'posteam' : lambda x: x.unique()[0],\n",
        "          'field_goal_result' : 'sum',\n",
        "          'extra_point_result' : 'sum',\n",
        "          'fg_0_39' : 'sum',\n",
        "          'fg_40_49' : 'sum',\n",
        "          'fg_50_on' : 'sum'\n",
        "\n",
        "      })\n",
        "      .rename(columns={\n",
        "          'kicker_player_name' : 'player',\n",
        "          'field_goal_result' : 'fgs',\n",
        "          'extra_point_result' : 'pats',\n",
        "          'posteam' : 'team'\n",
        "          })\n",
        "  )\n",
        "\n",
        "  return kick_df"
      ]
    },
    {
      "cell_type": "code",
      "execution_count": null,
      "metadata": {
        "id": "lESwft1k9zEd"
      },
      "outputs": [],
      "source": [
        "kicker_df = get_kicker_stats()"
      ]
    },
    {
      "cell_type": "code",
      "execution_count": null,
      "metadata": {
        "id": "t0npgpzNEXpz"
      },
      "outputs": [],
      "source": [
        "def get_team_adjusted_epa(df=df):\n",
        "\n",
        "  def_epa_cols = ['game_id', 'season', 'posteam', 'defteam', 'epa', 'play_type']\n",
        "\n",
        "  season_epa_def = (\n",
        "      df[df['play_type'].isin(['pass', 'run'])][def_epa_cols]\n",
        "  )\n",
        "\n",
        "  season_epa_def['season_epa_play'] = season_epa_def.groupby(['season', 'play_type'])['epa'].transform(lambda x: x.shift().expanding().mean())\n",
        "  season_epa_def['season_epa_def'] = season_epa_def.groupby(['season', 'defteam', 'play_type'])['epa'].transform(lambda x: x.shift().expanding().mean())\n",
        "  season_epa_def['season_epa_off'] = season_epa_def.groupby(['season', 'posteam', 'play_type'])['epa'].transform(lambda x: x.shift().expanding().mean())\n",
        "\n",
        "  season_epa_def['team_adjusted_off_epa'] = season_epa_def['season_epa_off'].sub(season_epa_def['season_epa_play']).round(3)\n",
        "  season_epa_def['team_adjusted_def_epa'] = season_epa_def['season_epa_def'].sub(season_epa_def['season_epa_play']).round(3)\n",
        "  \n",
        "\n",
        "  return season_epa_def"
      ]
    },
    {
      "cell_type": "code",
      "execution_count": null,
      "metadata": {
        "id": "lbQYxsx2xaiK"
      },
      "outputs": [],
      "source": [
        "def get_team_pass_yds(df=df):\n",
        "\n",
        "  team_pass_yds = (\n",
        "      df.loc[df['pass_attempt'] == 1]\n",
        "      .groupby(['game_id', 'posteam'], as_index=False)['yards_gained']\n",
        "      .sum()\n",
        "      .rename(columns={'posteam' : 'team',\n",
        "                      'yards_gained' : 'pass_yards'})\n",
        "  )\n",
        "\n",
        "  return team_pass_yds"
      ]
    },
    {
      "cell_type": "code",
      "execution_count": null,
      "metadata": {
        "id": "FXerPajt8eUC"
      },
      "outputs": [],
      "source": [
        "def get_team_rush_yds(df=df):\n",
        "\n",
        "  team_rush_yds = (\n",
        "      df.loc[df['rush_attempt'] == 1]\n",
        "      .groupby(['game_id', 'posteam'], as_index=False)['yards_gained']\n",
        "      .sum()\n",
        "      .rename(columns={'posteam' : 'team',\n",
        "                      'yards_gained' : 'rush_yards'})\n",
        "  )\n",
        "\n",
        "  return team_rush_yds"
      ]
    },
    {
      "cell_type": "code",
      "execution_count": null,
      "metadata": {
        "id": "grWyLEE_U0kZ"
      },
      "outputs": [],
      "source": [
        "def get_team_scores(df=df):\n",
        "\n",
        "  condition = df['td_team'] == df['posteam']\n",
        "\n",
        "  team_scores = (\n",
        "      df[condition]\n",
        "      .groupby(['game_id', 'posteam'], as_index=False)[['touchdown', 'field_goal_result', 'two_point_conv_result']]\n",
        "      .sum()\n",
        "      .rename(columns={\n",
        "          'touchdown' : 'off_td',\n",
        "          'posteam' : 'team',\n",
        "          'two_point_conv_result' : 'two_pts_conv',\n",
        "          'field_goal_result' : 'fgs'\n",
        "      })\n",
        "      .fillna(0)\n",
        "  )\n",
        "\n",
        "  return team_scores"
      ]
    },
    {
      "cell_type": "code",
      "execution_count": null,
      "metadata": {
        "id": "t1M15xpmuGoh"
      },
      "outputs": [],
      "source": [
        "# creating the core table of game results\n",
        "\n",
        "def get_game_results(df=df):\n",
        "\n",
        "  game_results_cols = ['year', 'week', 'season_type', 'home_team', 'away_team',\n",
        "                       'home_score', 'away_score', 'spread_line', 'total_line']\n",
        "  game_results = (\n",
        "      df\n",
        "      .groupby(['game_id', 'posteam'], as_index=False)[game_results_cols]\n",
        "      .max()\n",
        "  )\n",
        "\n",
        "  game_results['home'] = (game_results['posteam'] == game_results['home_team']).astype(int)\n",
        "  game_results['spread_line'] = [x if y == 1 else (x * -1) for x, y in zip(game_results['spread_line'], game_results['home'])]\n",
        "  game_results['actual_spread'] = (game_results['home_score'] - game_results['away_score']) * -1\n",
        "  game_results['points'] = np.where(game_results['home'] == 1, game_results['home_score'], game_results['away_score'])\n",
        "  game_results['opp_points'] = np.where(game_results['home'] == 0, game_results['home_score'], game_results['away_score'])\n",
        "\n",
        "  game_results.rename(columns={'posteam' : 'team'}, inplace=True)\n",
        "  # game_results.drop(columns={'home_score', 'away_score', 'home_team', 'away_team'}, inplace=True)\n",
        "\n",
        "  game_results = game_results.merge(team_rush_yds, how='left', on=['game_id', 'team'])\n",
        "  game_results = game_results.merge(team_pass_yds, how='left', on=['game_id', 'team'])\n",
        "  game_results = game_results.merge(opp_rush, how='left', on=['game_id', 'team'])\n",
        "  game_results = game_results.merge(opp_pass, how='left', on=['game_id', 'team'])\n",
        "  game_results = game_results.merge(team_scores, how='left', on=['game_id', 'team'])\n",
        "  game_results['actual_total'] = game_results['points'].add(game_results['opp_points'])\n",
        "  game_results['over'] = (game_results['actual_total'] > game_results['total_line']).astype(int)\n",
        "\n",
        "  game_results = game_results.merge(ls, how='left', on=['game_id'])\n",
        "  game_results['rest'] = np.where(game_results['home'] == 1, game_results['home_rest'], game_results['away_rest'])\n",
        "  game_results['opp_rest'] = np.where(game_results['home'] == 1, game_results['away_rest'], game_results['home_rest'])\n",
        "  game_results['coach'] = np.where(game_results['home'] == 1, game_results['home_coach'], game_results['away_coach'])\n",
        "  game_results['opp_coach'] = np.where(game_results['home'] == 1, game_results['away_coach'], game_results['home_coach'])\n",
        "  # game_results.drop(columns=['home_rest', 'away_rest', 'home_coach', 'away_coach'], inplace=True)\n",
        "\n",
        "  game_results['season'] = [int(x.split('_')[0]) for x in game_results.game_id]\n",
        "  game_results['season'] = game_results['season'].astype('category')\n",
        "  game_results = game_results[game_results['team'] != ''].copy()\n",
        "\n",
        "  return game_results"
      ]
    },
    {
      "cell_type": "code",
      "execution_count": null,
      "metadata": {
        "id": "ugiq_2Mf1xMa"
      },
      "outputs": [],
      "source": [
        "def create_ref_dict():\n",
        "\n",
        "  names = games_df['referee'].unique()\n",
        "  ref_dict = {}\n",
        "\n",
        "  for i in range(len(names)-1):\n",
        "    sim = process.extractOne(names[i], names[i+1:])\n",
        "    \n",
        "    if sim[1] > 85:\n",
        "      ref_dict[names[i]] = sim[0]\n",
        "\n",
        "  # del ref_dict['Jim Sprenger']\n",
        "  ref_rev_dict = {y : x  for x, y in ref_dict.items()}\n",
        "\n",
        "  return ref_rev_dict"
      ]
    },
    {
      "cell_type": "code",
      "execution_count": null,
      "metadata": {
        "id": "dP2cxw9bgnZh"
      },
      "outputs": [],
      "source": [
        "def get_drive_stats(df=df):\n",
        "\n",
        "  drive_cols = ['time_between', 'score_differential', 'score_differential_post', 'rush_attempt', \n",
        "                'pass_attempt', 'yards_gained', 'interception', 'fumble', 'sack', 'epa',\n",
        "                'success']\n",
        "\n",
        "\n",
        "  drive_details = (\n",
        "      df\n",
        "      .groupby(['game_id', 'posteam', 'drive'], as_index=False)[drive_cols]\n",
        "      .agg({\n",
        "          'time_between' : 'sum',\n",
        "          'score_differential' : 'first',\n",
        "          'score_differential_post' : 'last',\n",
        "          'rush_attempt' : 'sum',\n",
        "          'pass_attempt' : 'sum',\n",
        "          'yards_gained' : 'sum',\n",
        "          'interception' : 'sum',\n",
        "          'fumble' : 'sum',\n",
        "          'sack' : 'sum',\n",
        "          'success' : 'sum',\n",
        "          'epa' : 'sum'\n",
        "      }\n",
        "      )\n",
        "      .rename(\n",
        "          columns=\n",
        "          {'time_between' : 'poss_time',\n",
        "          'score_differential' : 'score_diff_start',\n",
        "          'score_differential_post' : 'score_diff_end',\n",
        "          'interception' : 'int',\n",
        "          'fumble' : 'fumble',\n",
        "          'posteam' : 'team'}\n",
        "      )\n",
        "  )\n",
        "\n",
        "  drive_details['score_gain'] = drive_details['score_diff_end'].sub(drive_details['score_diff_start'])\n",
        "  drive_details['td'] = (drive_details['score_gain'] >=6).astype(int)\n",
        "  drive_details['fg'] = (drive_details['score_gain'] == 3).astype(int)\n",
        "  drive_details['total_plays'] = drive_details['rush_attempt'].add(drive_details['pass_attempt']).astype(int)\n",
        "  drive_details.drop(columns=['score_gain'], inplace=True)\n",
        "\n",
        "  return drive_details"
      ]
    },
    {
      "cell_type": "code",
      "execution_count": null,
      "metadata": {
        "id": "Nh9tUUyMp9Nk"
      },
      "outputs": [],
      "source": [
        "def get_rolling_qb_epa(df=df):\n",
        "\n",
        "  qb_epa_dropback = df[df['qb_dropback'] == 1][['game_id', 'passer_player_name', 'epa', 'wp']].copy()\n",
        "  qb_epa_db = qb_epa_dropback[qb_epa_dropback['passer_player_name'].notnull()].copy()\n",
        "  qb_epa_db.replace('Jos.Allen', 'J.Allen', inplace=True)\n",
        "  qb_epa_db['1000_rolling_mean'] = qb_epa_db.groupby('passer_player_name')['epa'].transform(lambda x: x.shift().rolling(1000, min_periods=200).mean())\n",
        "  qb_epa_db['exp_career_mean'] = qb_epa_db.groupby('passer_player_name')['epa'].transform(lambda x: x.shift().expanding().mean())\n",
        "\n",
        "  return qb_epa_db.reset_index(drop=True)"
      ]
    },
    {
      "cell_type": "code",
      "execution_count": null,
      "metadata": {
        "id": "0sKDuteHbDD7"
      },
      "outputs": [],
      "source": [
        "# getting red zone statistics\n",
        "\n",
        "rz_df = df[df['yardline_100'] <= 20].copy()\n",
        "\n",
        "rz_rushing = get_rushing(df=rz_df)\n",
        "rz_receiving = get_receiving(df=rz_df)\n",
        "rz_qbs = get_qb_pass(df=rz_df)\n",
        "\n",
        "rz_qbs = (\n",
        "    rz_qbs\n",
        "    .merge(rz_rushing.drop(columns='success'), how='left', on=['game_id', 'player', 'player_id', 'team', 'total_line', 'home_team', 'away_team'])\n",
        "    .fillna(0)\n",
        ")"
      ]
    },
    {
      "cell_type": "code",
      "execution_count": null,
      "metadata": {
        "colab": {
          "base_uri": "https://localhost:8080/"
        },
        "id": "GuDFitXlXUxr",
        "outputId": "d42ce4f4-5d93-465f-a94a-49daa71a92ac"
      },
      "outputs": [
        {
          "name": "stdout",
          "output_type": "stream",
          "text": [
            "(7686, 39)\n",
            "(51751, 16)\n",
            "(26009, 17)\n"
          ]
        }
      ],
      "source": [
        "# creating tables for rushing, passing, and receiving. merging the rushing\n",
        "# and passing dataframes because sometimes quarterbacks run!\n",
        "\n",
        "rush_df = get_rushing()\n",
        "rec_df = get_receiving()\n",
        "qbs = get_qb_pass()\n",
        "\n",
        "qb_df = qbs.merge(rush_df.drop(columns='success'), how='left', on=['game_id', 'player', 'player_id', 'team', 'total_line', 'home_team', 'away_team'])\n",
        "qb_df.fillna(0, inplace=True)\n",
        "qb_df['total_epa'] = qb_df['rush_epa'].add(qb_df['epa'])\n",
        "\n",
        "print(qb_df.shape)\n",
        "print(rec_df.shape)\n",
        "print(rush_df.shape)"
      ]
    },
    {
      "cell_type": "code",
      "execution_count": null,
      "metadata": {
        "id": "aRZB6GesIGsR"
      },
      "outputs": [
        {
          "name": "stderr",
          "output_type": "stream",
          "text": [
            "C:\\Users\\yaobv\\AppData\\Local\\Temp\\ipykernel_14200\\535621605.py:8: FutureWarning: The default value of numeric_only in DataFrameGroupBy.sum is deprecated. In a future version, numeric_only will default to False. Either specify numeric_only or select only columns which should be valid for the function.\n",
            "  .sum()\n"
          ]
        }
      ],
      "source": [
        "team_pass_yds = get_team_pass_yds()\n",
        "team_rush_yds = get_team_rush_yds()\n",
        "\n",
        "opp_rush = get_opp_rush()\n",
        "opp_pass = get_opp_pass()\n",
        "\n",
        "def_stats = get_def_stats()\n",
        "team_scores = get_team_scores()"
      ]
    },
    {
      "cell_type": "code",
      "execution_count": null,
      "metadata": {
        "id": "RgIGs3SPIu3o"
      },
      "outputs": [],
      "source": [
        "games_df = get_game_results()"
      ]
    },
    {
      "cell_type": "code",
      "execution_count": null,
      "metadata": {
        "id": "OiLpJFFSKGWF"
      },
      "outputs": [
        {
          "ename": "NameError",
          "evalue": "name 'process' is not defined",
          "output_type": "error",
          "traceback": [
            "\u001b[1;31m---------------------------------------------------------------------------\u001b[0m",
            "\u001b[1;31mNameError\u001b[0m                                 Traceback (most recent call last)",
            "Cell \u001b[1;32mIn[37], line 1\u001b[0m\n\u001b[1;32m----> 1\u001b[0m ref_rev_dict \u001b[39m=\u001b[39m create_ref_dict()\n\u001b[0;32m      2\u001b[0m games_df[\u001b[39m'\u001b[39m\u001b[39mreferee\u001b[39m\u001b[39m'\u001b[39m] \u001b[39m=\u001b[39m games_df[\u001b[39m'\u001b[39m\u001b[39mreferee\u001b[39m\u001b[39m'\u001b[39m]\u001b[39m.\u001b[39mmap(ref_rev_dict)\u001b[39m.\u001b[39mfillna(games_df[\u001b[39m'\u001b[39m\u001b[39mreferee\u001b[39m\u001b[39m'\u001b[39m])\n",
            "Cell \u001b[1;32mIn[30], line 7\u001b[0m, in \u001b[0;36mcreate_ref_dict\u001b[1;34m()\u001b[0m\n\u001b[0;32m      4\u001b[0m ref_dict \u001b[39m=\u001b[39m {}\n\u001b[0;32m      6\u001b[0m \u001b[39mfor\u001b[39;00m i \u001b[39min\u001b[39;00m \u001b[39mrange\u001b[39m(\u001b[39mlen\u001b[39m(names)\u001b[39m-\u001b[39m\u001b[39m1\u001b[39m):\n\u001b[1;32m----> 7\u001b[0m   sim \u001b[39m=\u001b[39m process\u001b[39m.\u001b[39mextractOne(names[i], names[i\u001b[39m+\u001b[39m\u001b[39m1\u001b[39m:])\n\u001b[0;32m      9\u001b[0m   \u001b[39mif\u001b[39;00m sim[\u001b[39m1\u001b[39m] \u001b[39m>\u001b[39m \u001b[39m85\u001b[39m:\n\u001b[0;32m     10\u001b[0m     ref_dict[names[i]] \u001b[39m=\u001b[39m sim[\u001b[39m0\u001b[39m]\n",
            "\u001b[1;31mNameError\u001b[0m: name 'process' is not defined"
          ]
        }
      ],
      "source": [
        "ref_rev_dict = create_ref_dict()\n",
        "games_df['referee'] = games_df['referee'].map(ref_rev_dict).fillna(games_df['referee'])"
      ]
    },
    {
      "cell_type": "code",
      "execution_count": null,
      "metadata": {
        "id": "h7H52cw1HL-Y"
      },
      "outputs": [],
      "source": [
        "drive_stats = get_drive_stats()\n",
        "drive_summary = drive_stats.groupby(['game_id', 'team'], as_index=False).agg({'poss_time' : 'sum',\n",
        "                                                                              'rush_attempt' : 'sum',\n",
        "                                                                              'pass_attempt' : 'sum',\n",
        "                                                                              'total_plays' : 'sum'})"
      ]
    },
    {
      "cell_type": "code",
      "execution_count": null,
      "metadata": {
        "colab": {
          "base_uri": "https://localhost:8080/"
        },
        "id": "Pimm9o1UFEUD",
        "outputId": "b7e8b29b-f9dc-4fd0-ebb9-763ad87d924e"
      },
      "outputs": [
        {
          "name": "stderr",
          "output_type": "stream",
          "text": [
            "/usr/local/lib/python3.7/dist-packages/ipykernel_launcher.py:1: RuntimeWarning: invalid value encountered in double_scalars\n",
            "  \"\"\"Entry point for launching an IPython kernel.\n"
          ]
        },
        {
          "data": {
            "text/plain": [
              "team  score_diff_start\n",
              "ARI   -58.0               1.000000\n",
              "      -51.0               0.666667\n",
              "      -48.0               0.500000\n",
              "      -45.0               0.500000\n",
              "      -38.0                    NaN\n",
              "      -35.0               0.727273\n",
              "      -34.0               0.760000\n",
              "      -33.0               0.809524\n",
              "      -32.0               0.514286\n",
              "      -31.0               0.960000\n",
              "      -30.0               0.900000\n",
              "      -29.0               0.916667\n",
              "      -28.0               0.558140\n",
              "      -27.0               0.759259\n",
              "      -26.0               0.722222\n",
              "      -25.0               0.767857\n",
              "      -24.0               0.800000\n",
              "      -23.0               0.764706\n",
              "      -22.0               0.800000\n",
              "      -21.0               0.798742\n",
              "      -20.0               0.692308\n",
              "      -19.0               0.816327\n",
              "      -18.0               0.862319\n",
              "      -17.0               0.670782\n",
              "      -16.0               0.716814\n",
              "      -15.0               0.815789\n",
              "      -14.0               0.698361\n",
              "      -13.0               0.738854\n",
              "      -12.0               0.835616\n",
              "      -11.0               0.735537\n",
              "      -10.0               0.686469\n",
              "      -9.0                0.712871\n",
              "      -8.0                0.646067\n",
              "      -7.0                0.632731\n",
              "      -6.0                0.676190\n",
              "      -5.0                0.687943\n",
              "      -4.0                0.630290\n",
              "      -3.0                0.619860\n",
              "      -2.0                0.688889\n",
              "      -1.0                0.570470\n",
              "       0.0                0.576122\n",
              "       1.0                0.513966\n",
              "       2.0                0.421053\n",
              "       3.0                0.516722\n",
              "       4.0                0.552752\n",
              "       5.0                0.448980\n",
              "       6.0                0.510067\n",
              "       7.0                0.544892\n",
              "       8.0                0.514706\n",
              "       9.0                0.581818\n",
              "       10.0               0.537367\n",
              "       11.0               0.471795\n",
              "       12.0               0.482759\n",
              "       13.0               0.425926\n",
              "       14.0               0.476744\n",
              "       15.0               0.440000\n",
              "       16.0               0.451613\n",
              "       17.0               0.522388\n",
              "       18.0               0.407895\n",
              "       19.0               0.394737\n",
              "dtype: float64"
            ]
          },
          "execution_count": 36,
          "metadata": {},
          "output_type": "execute_result"
        }
      ],
      "source": [
        "drive_stats.groupby(['team', 'score_diff_start']).apply(lambda x: x['pass_attempt'].sum() / x['total_plays'].sum()).head(60)"
      ]
    },
    {
      "cell_type": "code",
      "execution_count": null,
      "metadata": {
        "id": "-Zdbj0KNg4Vr"
      },
      "outputs": [],
      "source": [
        "games_df = games_df.merge(drive_summary, how='left', on=['game_id', 'team'])"
      ]
    },
    {
      "cell_type": "code",
      "execution_count": null,
      "metadata": {
        "id": "jZU9rzRPDE3M"
      },
      "outputs": [],
      "source": [
        "games_df['pass_per_attempt'] = games_df['pass_yards'].div(games_df['pass_attempt']).round(1)\n",
        "games_df['perc_pass'] = games_df['pass_attempt'].div(games_df['total_plays']).round(3)\n",
        "games_df['sec_per_play'] = games_df['poss_time'].div(games_df['total_plays']).round(1)"
      ]
    },
    {
      "cell_type": "code",
      "execution_count": null,
      "metadata": {
        "id": "WS4ScbChbTFp"
      },
      "outputs": [],
      "source": [
        "def get_starting_qb():\n",
        "\n",
        "  throwers = df.groupby('passer_player_name')['pass_attempt'].sum().reset_index()\n",
        "  qbs = [qb for qb in throwers[throwers['pass_attempt'] > 18]['passer_player_name'].unique()]\n",
        "\n",
        "  starting_qb = (\n",
        "      df[df['passer_player_name'].isin(qbs)]\n",
        "      .groupby(['game_id', 'posteam'], as_index=False)['passer_player_name']\n",
        "      .first()\n",
        "      .rename(columns={\n",
        "          'posteam' : 'team',\n",
        "          'passer_player_name' : 'starting_qb'}\n",
        "          )\n",
        "  )\n",
        "\n",
        "  return starting_qb\n",
        "\n",
        "starting_qb = get_starting_qb()\n",
        "games_df = games_df.merge(starting_qb, how='left', on=['game_id', 'team'])\n",
        "\n",
        "def get_home_away_qb():\n",
        "\n",
        "  home_away_qbs = (\n",
        "      games_df\n",
        "      .groupby(['game_id', 'home'])['starting_qb']\n",
        "      .apply(lambda x: x.unique()[0])\n",
        "      .reset_index()\n",
        "      .set_index(['game_id', 'home'])\n",
        "      .unstack()\n",
        "\n",
        "  )\n",
        "  \n",
        "  home_away_qbs.columns = ['away_start_qb', 'home_start_qb']\n",
        "  home_away_qbs = home_away_qbs.reset_index()\n",
        "  \n",
        "  return home_away_qbs\n",
        "\n",
        "\n",
        "home_away_qbs = get_home_away_qb()\n",
        "games_df = games_df.merge(home_away_qbs, how='left', on=['game_id'])"
      ]
    },
    {
      "cell_type": "code",
      "execution_count": null,
      "metadata": {
        "id": "WuJHpM4slpCD"
      },
      "outputs": [],
      "source": [
        "adj_epa = get_team_adjusted_epa()\n",
        "\n",
        "off_epa_game = (\n",
        "    adj_epa\n",
        "    .groupby(['game_id', 'posteam', 'play_type'], as_index=False)['epa']\n",
        "    .agg(['sum'])\n",
        "    .reset_index()\n",
        "    .pivot_table(index=['game_id', 'posteam'],\n",
        "                 columns='play_type',\n",
        "                 values='sum')\n",
        "    .reset_index()\n",
        "    .rename(columns={\n",
        "        'pass' : 'off_pass_epa',\n",
        "        'run' : 'off_run_epa',\n",
        "        'posteam' : 'team'\n",
        "    })\n",
        "    .round(2)\n",
        ")\n",
        "\n",
        "def_epa_game = (\n",
        "    adj_epa\n",
        "    .groupby(['game_id', 'defteam', 'play_type'], as_index=False)['epa']\n",
        "    .agg(['sum'])\n",
        "    .reset_index()\n",
        "    .pivot_table(index=['game_id', 'defteam'],\n",
        "                 columns='play_type',\n",
        "                 values='sum')\n",
        "    .reset_index()\n",
        "    .rename(columns={\n",
        "        'pass' : 'def_pass_epa',\n",
        "        'run' : 'def_run_epa',\n",
        "        'defteam' : 'team'\n",
        "    })\n",
        "    .round(2)\n",
        ")"
      ]
    },
    {
      "cell_type": "code",
      "execution_count": null,
      "metadata": {
        "id": "TbuTY0V0HszN"
      },
      "outputs": [],
      "source": [
        "games_df = games_df.merge(off_epa_game, how='left', on=['game_id', 'team'])\n",
        "games_df = games_df.merge(def_epa_game, how='left', on=['game_id', 'team'])"
      ]
    },
    {
      "cell_type": "code",
      "execution_count": null,
      "metadata": {
        "id": "uu0fIV812_90"
      },
      "outputs": [],
      "source": [
        "def_stats = get_def_stats()\n",
        "\n",
        "games_df = games_df.merge(def_stats, how='left', on=['game_id', 'team', 'season'])"
      ]
    },
    {
      "cell_type": "code",
      "execution_count": null,
      "metadata": {
        "id": "6jA2KpmzUAHk"
      },
      "outputs": [],
      "source": [
        "rolling_qb = get_rolling_qb_epa()"
      ]
    },
    {
      "cell_type": "code",
      "execution_count": null,
      "metadata": {
        "id": "dHN8uc9o3VbO"
      },
      "outputs": [],
      "source": [
        "\n",
        "\n",
        "def populate_table(df, table_name, URI=URI):\n",
        "\n",
        "    engine = create_engine(URI)\n",
        "    print('connected to the database..')\n",
        "    \n",
        "    df.head(0).to_sql(table_name, engine, if_exists='replace',index=False) \n",
        "\n",
        "    conn = engine.raw_connection()\n",
        "    cur = conn.cursor()\n",
        "    print('creating the cursor..')\n",
        "\n",
        "    output = io.StringIO()\n",
        "    \n",
        "    print('writing the csv to file..')\n",
        "    \n",
        "    df.to_csv(output, sep='\\t', header=False, index=False)\n",
        "    output.seek(0)\n",
        "    \n",
        "    \n",
        "    contents = output.getvalue()\n",
        "    \n",
        "    cur.copy_from(output, table_name, null=\"\") # null values become ''\n",
        "    \n",
        "    cur.close()\n",
        "    conn.commit()\n",
        "    conn.close()"
      ]
    },
    {
      "cell_type": "code",
      "execution_count": null,
      "metadata": {
        "id": "IJfw3IDHhgt-"
      },
      "outputs": [],
      "source": [
        "def create_table(df, table_name, URI=URI):\n",
        "\n",
        "  engine = create_engine(URI)\n",
        "  print('connected to the db..')\n",
        "\n",
        "  df.head(0).to_sql(table_name, engine, if_exists='replace', index=False)"
      ]
    },
    {
      "cell_type": "code",
      "execution_count": null,
      "metadata": {
        "colab": {
          "base_uri": "https://localhost:8080/"
        },
        "id": "RoIiFHqLpycg",
        "outputId": "3e65c4c0-09cf-45e1-e21c-b873a7425e9a"
      },
      "outputs": [
        {
          "name": "stdout",
          "output_type": "stream",
          "text": [
            "connected to the db..\n"
          ]
        }
      ],
      "source": [
        "create_table(df, 'pbp', URI=URI)"
      ]
    },
    {
      "cell_type": "code",
      "execution_count": null,
      "metadata": {
        "id": "U_E8Ox40h33n"
      },
      "outputs": [],
      "source": [
        "def insert_into_table(df, table_name, URI=URI):\n",
        "\n",
        "  engine = create_engine(URI)\n",
        "\n",
        "  conn = engine.raw_connection()\n",
        "  cur = conn.cursor()\n",
        "\n",
        "  output = io.StringIO()\n",
        "\n",
        "  df.to_csv(output, sep='\\t', header=False, index=False)\n",
        "  output.seek(0)\n",
        "\n",
        "  contents = output.getvalue()\n",
        "\n",
        "  cur.copy_from(output, table_name, null=\"\")\n",
        "\n",
        "  conn.commit()\n",
        "  cur.close()\n",
        "  conn.close()"
      ]
    },
    {
      "cell_type": "code",
      "execution_count": null,
      "metadata": {
        "id": "7-lMGSnYjsWa"
      },
      "outputs": [],
      "source": [
        "date_threshold = '2021-10-16'\n",
        "pbp_df = df[df['game_date'] >= date_threshold].copy()\n",
        "\n",
        "for chunk in np.array_split(pbp_df, 3):\n",
        "  df_ = pd.DataFrame(chunk)\n",
        "\n",
        "  insert_into_table(df_, 'pbp', URI)"
      ]
    },
    {
      "cell_type": "code",
      "execution_count": null,
      "metadata": {
        "id": "Y8dVMzuig23G"
      },
      "outputs": [],
      "source": [
        "def drop_table(table_name, URI):\n",
        "  \n",
        "  psyco_conn = psycopg2.connect(URI)\n",
        "  cursor = psyco_conn.cursor()\n",
        "  psyco_conn.autocommit = True\n",
        "\n",
        "  cursor.execute(\"\"\"DROP TABLE %s;\"\"\"%table_name)\n",
        "  cursor.close()\n",
        "  psyco_conn.close()"
      ]
    },
    {
      "cell_type": "code",
      "execution_count": null,
      "metadata": {
        "colab": {
          "base_uri": "https://localhost:8080/"
        },
        "id": "0wrH2El7EpFA",
        "outputId": "4732ff3f-aa32-4164-dea8-0fd85e17df66"
      },
      "outputs": [
        {
          "name": "stdout",
          "output_type": "stream",
          "text": [
            "connected to the database..\n",
            "creating the cursor..\n",
            "writing the csv to file..\n"
          ]
        }
      ],
      "source": [
        "populate_table(qb_df, 'qb_games', URI)"
      ]
    },
    {
      "cell_type": "code",
      "execution_count": null,
      "metadata": {
        "colab": {
          "base_uri": "https://localhost:8080/"
        },
        "id": "qLbxYDHSZmkD",
        "outputId": "61ddacf2-c600-437c-9412-b02940c84184"
      },
      "outputs": [
        {
          "name": "stdout",
          "output_type": "stream",
          "text": [
            "connected to the database..\n",
            "creating the cursor..\n",
            "writing the csv to file..\n"
          ]
        }
      ],
      "source": [
        "populate_table(games_df, 'games', URI)"
      ]
    },
    {
      "cell_type": "code",
      "execution_count": null,
      "metadata": {
        "colab": {
          "base_uri": "https://localhost:8080/"
        },
        "id": "jezWbtEdZup2",
        "outputId": "6be5426a-9a9a-44b9-d275-e9524811741d"
      },
      "outputs": [
        {
          "name": "stdout",
          "output_type": "stream",
          "text": [
            "connected to the database..\n",
            "creating the cursor..\n",
            "writing the csv to file..\n"
          ]
        }
      ],
      "source": [
        "populate_table(rec_df, 'receiving_games', URI)"
      ]
    },
    {
      "cell_type": "code",
      "execution_count": null,
      "metadata": {
        "colab": {
          "base_uri": "https://localhost:8080/"
        },
        "id": "ECFAikvzZ2gz",
        "outputId": "f7762fd8-3785-4f01-dfe9-ca49328942a6"
      },
      "outputs": [
        {
          "name": "stdout",
          "output_type": "stream",
          "text": [
            "connected to the database..\n",
            "creating the cursor..\n",
            "writing the csv to file..\n"
          ]
        }
      ],
      "source": [
        "populate_table(rush_df, 'rush_games', URI)"
      ]
    },
    {
      "cell_type": "code",
      "execution_count": null,
      "metadata": {
        "colab": {
          "base_uri": "https://localhost:8080/"
        },
        "id": "IYX4PFU69Uon",
        "outputId": "b4c7fd71-e23d-47c0-d9da-64913996dbec"
      },
      "outputs": [
        {
          "name": "stdout",
          "output_type": "stream",
          "text": [
            "connected to the database..\n",
            "creating the cursor..\n",
            "writing the csv to file..\n"
          ]
        }
      ],
      "source": [
        "populate_table(def_stats, 'defense_games', URI)"
      ]
    },
    {
      "cell_type": "code",
      "execution_count": null,
      "metadata": {
        "colab": {
          "base_uri": "https://localhost:8080/"
        },
        "id": "8I3QBWzvCWWR",
        "outputId": "7ef42763-0d6f-4f81-8edd-7f231c037be9"
      },
      "outputs": [
        {
          "name": "stdout",
          "output_type": "stream",
          "text": [
            "connected to the database..\n",
            "creating the cursor..\n",
            "writing the csv to file..\n"
          ]
        }
      ],
      "source": [
        "populate_table(kicker_df, 'kicker_games', URI)"
      ]
    },
    {
      "cell_type": "code",
      "execution_count": null,
      "metadata": {
        "colab": {
          "base_uri": "https://localhost:8080/"
        },
        "id": "Tb_0xDUQit8N",
        "outputId": "7ee97d8d-fcdc-482b-a025-975dfdcb7384"
      },
      "outputs": [
        {
          "name": "stdout",
          "output_type": "stream",
          "text": [
            "connected to the database..\n",
            "creating the cursor..\n",
            "writing the csv to file..\n"
          ]
        }
      ],
      "source": [
        "populate_table(rz_rushing, 'red_zone_rush', URI)"
      ]
    },
    {
      "cell_type": "code",
      "execution_count": null,
      "metadata": {
        "colab": {
          "base_uri": "https://localhost:8080/"
        },
        "id": "KMP9Y2ZGiuG0",
        "outputId": "c4703cb8-e3bb-4152-edbe-3a71f884cc5e"
      },
      "outputs": [
        {
          "name": "stdout",
          "output_type": "stream",
          "text": [
            "connected to the database..\n",
            "creating the cursor..\n",
            "writing the csv to file..\n"
          ]
        }
      ],
      "source": [
        "populate_table(rz_receiving, 'red_zone_rec', URI)"
      ]
    },
    {
      "cell_type": "code",
      "execution_count": null,
      "metadata": {
        "colab": {
          "base_uri": "https://localhost:8080/"
        },
        "id": "VH0slaKmiuNR",
        "outputId": "8b47f821-0ad9-44b7-883f-052e3002beac"
      },
      "outputs": [
        {
          "name": "stdout",
          "output_type": "stream",
          "text": [
            "connected to the database..\n",
            "creating the cursor..\n",
            "writing the csv to file..\n"
          ]
        }
      ],
      "source": [
        "populate_table(rz_qbs, 'red_zone_qb', URI)"
      ]
    }
  ],
  "metadata": {
    "colab": {
      "provenance": []
    },
    "kernelspec": {
      "display_name": "Python 3",
      "name": "python3"
    },
    "language_info": {
      "codemirror_mode": {
        "name": "ipython",
        "version": 3
      },
      "file_extension": ".py",
      "mimetype": "text/x-python",
      "name": "python",
      "nbconvert_exporter": "python",
      "pygments_lexer": "ipython3",
      "version": "3.11.2"
    }
  },
  "nbformat": 4,
  "nbformat_minor": 0
}
