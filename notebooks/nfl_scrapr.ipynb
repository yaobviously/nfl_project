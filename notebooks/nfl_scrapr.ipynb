{
  "cells": [
    {
      "cell_type": "code",
      "execution_count": 2,
      "metadata": {
        "colab": {
          "base_uri": "https://localhost:8080/"
        },
        "id": "Nu-MfQlHpoRn",
        "outputId": "2b0733dc-feb3-4dcb-cd3c-abe86764be3e"
      },
      "outputs": [],
      "source": [
        "import os\n",
        "import numpy as np\n",
        "import pandas as pd\n",
        "import matplotlib.pyplot as plt\n",
        "import seaborn as sns\n",
        "import pickle\n",
        "import psycopg2 \n",
        "import io\n",
        "import sys\n",
        "\n",
        "sys.path.append('../')\n",
        "\n",
        "from sqlalchemy import create_engine\n",
        "\n",
        "from db_utils import create_table, populate_table, insert_into_table\n",
        "from pbp_utils import (get_qb_pass, get_game_results, get_receiving, get_rushing,\n",
        "                       get_team_pass_yds, get_team_rush_yds, get_opp_pass,\n",
        "                       get_def_stats)"
      ]
    },
    {
      "cell_type": "code",
      "execution_count": 45,
      "metadata": {},
      "outputs": [],
      "source": [
        "# loading up the postgres credentials in a separate file. we could use environment variables\n",
        "# but doing it this way to mix it up!\n",
        "\n",
        "with open('../env.txt', 'r') as file:\n",
        "    env = file.read().splitlines()\n",
        "    user = env[0]\n",
        "    password = env[1]\n",
        "    host = env[2]\n",
        "    database = env[3]\n",
        "    port = env[4]\n",
        "    \n",
        "\n",
        "URI = f'postgresql://{user}:{password}@{host}:{port}/{database}'"
      ]
    },
    {
      "cell_type": "code",
      "execution_count": 3,
      "metadata": {
        "colab": {
          "base_uri": "https://localhost:8080/"
        },
        "id": "bI_dkD_JqY95",
        "outputId": "57bcfda7-0a1d-4d0a-f0dc-9e8505d2b178"
      },
      "outputs": [
        {
          "name": "stdout",
          "output_type": "stream",
          "text": [
            "(1148717, 372)\n"
          ]
        }
      ],
      "source": [
        "# gettin the directory path\n",
        "current_dir = os.getcwd()\n",
        "parent_dir = os.path.abspath(os.path.join(current_dir, os.pardir))\n",
        "nfl_pbp_dir = 'data/pbp'\n",
        "\n",
        "# loading all of the parquets files at once using the directory path\n",
        "df = pd.read_parquet(f'{parent_dir}/{nfl_pbp_dir}')\n",
        "\n",
        "print(df.shape)"
      ]
    },
    {
      "cell_type": "code",
      "execution_count": 4,
      "metadata": {
        "id": "aSC_e52GPwn7"
      },
      "outputs": [],
      "source": [
        "lee_sharpe = 'https://raw.githubusercontent.com/nflverse/nfldata/master/data/games.csv'\n",
        "\n",
        "ls_cols = ['game_id', 'overtime', 'home_rest', 'away_rest', 'div_game','roof', \n",
        "           'surface', 'temp', 'wind', 'home_coach', 'away_coach', 'referee']\n",
        "\n",
        "ls = pd.read_csv(lee_sharpe, usecols=ls_cols)\n",
        "ls = ls.sort_values(by='game_id')"
      ]
    },
    {
      "cell_type": "code",
      "execution_count": 5,
      "metadata": {
        "id": "2OTZX70GkVwE"
      },
      "outputs": [],
      "source": [
        "df['year'] = pd.to_datetime(df['game_date']).dt.year\n",
        "df['two_point_conv_result'] = (\n",
        "    df['two_point_conv_result']\n",
        "    .map(\n",
        "        {'success' : 1,\n",
        "         'failure' : 0,\n",
        "         }\n",
        "    )\n",
        "    .fillna('None')\n",
        ")\n",
        "\n",
        "df['game_date'] = pd.to_datetime(df['game_date'])\n",
        "df['spread_line'] = df['spread_line'] * -1\n",
        "df['field_goal_result'] = np.where(df['field_goal_result'] == 'made', 1, 0)\n",
        "df['time_between'] = df.groupby(['game_id'])['game_seconds_remaining'].transform(lambda x: x.sub(x.shift(-1)).fillna(0))\n",
        "df['play_type'] = np.where(df['two_point_attempt'] > 0.5, 'two_point_att', df['play_type'])\n",
        "df['air_yards_to_sticks'] = df['air_yards'].sub(df['ydstogo'])\n",
        "df['season'] = [int(x.split('_')[0]) for x in df.game_id]\n",
        "df['blocked_player_name'] = np.where(df['blocked_player_name'].notnull(), 1, 0)\n",
        "df['fg_0_39'] = np.where(((df['play_type'] == 'field_goal') & (df['kick_distance'].between(0,39))), 1, 0)\n",
        "df['fg_40_49'] = np.where(((df['play_type'] == 'field_goal') & (df['kick_distance'].between(40,49))), 1, 0)\n",
        "df['fg_50_on'] = np.where(((df['play_type'] == 'field_goal') & (df['kick_distance'].between(50,100))), 1, 0)\n",
        "df['extra_point_result'] = np.where(df['extra_point_result'] == 'good', 1, 0)"
      ]
    },
    {
      "cell_type": "code",
      "execution_count": 6,
      "metadata": {
        "id": "uEk1xEoVrjOV"
      },
      "outputs": [],
      "source": [
        "success = []\n",
        "\n",
        "for a, b, c in zip(df['down'], df['ydstogo'], df['yards_gained']):\n",
        "  frac = 0.4 * b\n",
        "  \n",
        "  if b == 0.0:\n",
        "    success.append(np.nan)\n",
        "  \n",
        "  elif ((a==1) | (a==2)):\n",
        "    if c >= frac:\n",
        "      success.append(1)\n",
        "    else:\n",
        "      success.append(0)\n",
        "  elif ((a==3) | (a==4)):\n",
        "    if c >= b:\n",
        "      success.append(1)\n",
        "    else:\n",
        "      success.append(0)\n",
        "\n",
        "df['success'] = success"
      ]
    },
    {
      "cell_type": "code",
      "execution_count": 10,
      "metadata": {
        "id": "LdQVTfsCarfx"
      },
      "outputs": [],
      "source": [
        "def get_opp_pass(df=df):\n",
        "\n",
        "  opp_pass = (\n",
        "      df[df['pass_attempt'] == 1]\n",
        "      .groupby(['game_id', 'defteam'], as_index=False)['yards_gained']\n",
        "      .sum()\n",
        "      .rename(columns={'defteam' : 'team',\n",
        "                      'yards_gained' : 'opp_pass_yds'})\n",
        "  )\n",
        "\n",
        "  return opp_pass"
      ]
    },
    {
      "cell_type": "code",
      "execution_count": 11,
      "metadata": {
        "id": "8gmXQiUcbEwV"
      },
      "outputs": [],
      "source": [
        "def get_opp_rush(df=df):\n",
        "\n",
        "  opp_rush = (\n",
        "      df[df['rush_attempt'] == 1]\n",
        "      .groupby(['game_id', 'defteam'], as_index=False)['yards_gained']\n",
        "      .sum()\n",
        "      .rename(columns={'defteam' : 'team',\n",
        "                      'yards_gained' : 'opp_rush_yds'})\n",
        "  )\n",
        "\n",
        "  return opp_rush"
      ]
    },
    {
      "cell_type": "code",
      "execution_count": 12,
      "metadata": {
        "id": "Nm4RS8sJnHV7"
      },
      "outputs": [],
      "source": [
        "def get_def_stats(df=df):\n",
        "\n",
        "  def_cols = ['interception', 'season', 'return_touchdown', 'fumble', \n",
        "              'sack', 'epa']\n",
        "\n",
        "  def_stats = (\n",
        "      df[~df['desc'].str.contains('Aborted')].copy()\n",
        "      .groupby(['game_id', 'defteam'], as_index=False)\n",
        "      .agg({\n",
        "          'interception' : 'sum',\n",
        "          'season' : lambda x: x.unique()[0],\n",
        "          'return_touchdown' : 'sum',\n",
        "          'fumble_lost' : 'sum',\n",
        "          'sack' : 'sum',\n",
        "          'safety' : 'sum',\n",
        "          'blocked_player_name' : 'sum'\n",
        "      })\n",
        "      .rename(columns={\n",
        "          'defteam' : 'team',\n",
        "          'interception' : 'def_int',\n",
        "          'return_touchdown' : 'def_td',\n",
        "          'sack' : 'def_sack',\n",
        "          'fumble' : 'def_fumble',\n",
        "          'blocked_player_name' : 'kick_blocked'})\n",
        "  )\n",
        "  \n",
        "  return def_stats"
      ]
    },
    {
      "cell_type": "code",
      "execution_count": 14,
      "metadata": {
        "id": "lESwft1k9zEd"
      },
      "outputs": [],
      "source": [
        "kicker_df = get_kicker_stats()"
      ]
    },
    {
      "cell_type": "code",
      "execution_count": 20,
      "metadata": {
        "id": "ugiq_2Mf1xMa"
      },
      "outputs": [],
      "source": [
        "def create_ref_dict():\n",
        "\n",
        "  names = games_df['referee'].unique()\n",
        "  ref_dict = {}\n",
        "\n",
        "  for i in range(len(names)-1):\n",
        "    sim = process.extractOne(names[i], names[i+1:])\n",
        "    \n",
        "    if sim[1] > 85:\n",
        "      ref_dict[names[i]] = sim[0]\n",
        "\n",
        "  # del ref_dict['Jim Sprenger']\n",
        "  ref_rev_dict = {y : x  for x, y in ref_dict.items()}\n",
        "\n",
        "  return ref_rev_dict"
      ]
    },
    {
      "cell_type": "code",
      "execution_count": 22,
      "metadata": {
        "id": "Nh9tUUyMp9Nk"
      },
      "outputs": [],
      "source": [
        "def get_rolling_qb_epa(df=df):\n",
        "\n",
        "  qb_epa_dropback = df[df['qb_dropback'] == 1][['game_id', 'passer_player_name', 'epa', 'wp']].copy()\n",
        "  qb_epa_db = qb_epa_dropback[qb_epa_dropback['passer_player_name'].notnull()].copy()\n",
        "  qb_epa_db.replace('Jos.Allen', 'J.Allen', inplace=True)\n",
        "  qb_epa_db['1000_rolling_mean'] = qb_epa_db.groupby('passer_player_name')['epa'].transform(lambda x: x.shift().rolling(1000, min_periods=200).mean())\n",
        "  qb_epa_db['exp_career_mean'] = qb_epa_db.groupby('passer_player_name')['epa'].transform(lambda x: x.shift().expanding().mean())\n",
        "\n",
        "  return qb_epa_db.reset_index(drop=True)"
      ]
    },
    {
      "cell_type": "code",
      "execution_count": 23,
      "metadata": {
        "id": "0sKDuteHbDD7"
      },
      "outputs": [],
      "source": [
        "# getting red zone statistics\n",
        "\n",
        "rz_df = df[df['yardline_100'] <= 20].copy()\n",
        "\n",
        "rz_rushing = get_rushing(df=rz_df)\n",
        "rz_receiving = get_receiving(df=rz_df)\n",
        "rz_qbs = get_qb_pass(df=rz_df)\n",
        "\n",
        "rz_qbs = (\n",
        "    rz_qbs\n",
        "    .merge(rz_rushing.drop(columns='success'), how='left', on=['game_id', 'player', 'player_id', 'team', 'total_line', 'home_team', 'away_team'])\n",
        "    .fillna(0)\n",
        ")"
      ]
    },
    {
      "cell_type": "code",
      "execution_count": 24,
      "metadata": {
        "colab": {
          "base_uri": "https://localhost:8080/"
        },
        "id": "GuDFitXlXUxr",
        "outputId": "d42ce4f4-5d93-465f-a94a-49daa71a92ac"
      },
      "outputs": [
        {
          "name": "stdout",
          "output_type": "stream",
          "text": [
            "(15634, 39)\n",
            "(99175, 16)\n",
            "(51035, 17)\n"
          ]
        }
      ],
      "source": [
        "# creating tables for rushing, passing, and receiving. merging the rushing\n",
        "# and passing dataframes because sometimes quarterbacks run!\n",
        "\n",
        "rush_df = get_rushing()\n",
        "rec_df = get_receiving()\n",
        "qbs = get_qb_pass()\n",
        "\n",
        "qb_df = qbs.merge(rush_df.drop(columns='success'), how='left', on=['game_id', 'player', 'player_id', 'team', 'total_line', 'home_team', 'away_team'])\n",
        "qb_df.fillna(0, inplace=True)\n",
        "qb_df['total_epa'] = qb_df['rush_epa'].add(qb_df['epa'])\n",
        "\n",
        "print(qb_df.shape)\n",
        "print(rec_df.shape)\n",
        "print(rush_df.shape)"
      ]
    },
    {
      "cell_type": "code",
      "execution_count": 25,
      "metadata": {
        "id": "aRZB6GesIGsR"
      },
      "outputs": [
        {
          "name": "stderr",
          "output_type": "stream",
          "text": [
            "C:\\Users\\yaobv\\AppData\\Local\\Temp\\ipykernel_9764\\535621605.py:8: FutureWarning: The default value of numeric_only in DataFrameGroupBy.sum is deprecated. In a future version, numeric_only will default to False. Either specify numeric_only or select only columns which should be valid for the function.\n",
            "  .sum()\n"
          ]
        }
      ],
      "source": [
        "team_pass_yds = get_team_pass_yds()\n",
        "team_rush_yds = get_team_rush_yds()\n",
        "\n",
        "opp_rush = get_opp_rush()\n",
        "opp_pass = get_opp_pass()\n",
        "\n",
        "def_stats = get_def_stats()\n",
        "team_scores = get_team_scores()"
      ]
    },
    {
      "cell_type": "code",
      "execution_count": 26,
      "metadata": {
        "id": "RgIGs3SPIu3o"
      },
      "outputs": [],
      "source": [
        "games_df = get_game_results()"
      ]
    },
    {
      "cell_type": "code",
      "execution_count": 27,
      "metadata": {
        "id": "OiLpJFFSKGWF"
      },
      "outputs": [
        {
          "ename": "NameError",
          "evalue": "name 'process' is not defined",
          "output_type": "error",
          "traceback": [
            "\u001b[1;31m---------------------------------------------------------------------------\u001b[0m",
            "\u001b[1;31mNameError\u001b[0m                                 Traceback (most recent call last)",
            "Cell \u001b[1;32mIn[27], line 1\u001b[0m\n\u001b[1;32m----> 1\u001b[0m ref_rev_dict \u001b[39m=\u001b[39m create_ref_dict()\n\u001b[0;32m      2\u001b[0m games_df[\u001b[39m'\u001b[39m\u001b[39mreferee\u001b[39m\u001b[39m'\u001b[39m] \u001b[39m=\u001b[39m games_df[\u001b[39m'\u001b[39m\u001b[39mreferee\u001b[39m\u001b[39m'\u001b[39m]\u001b[39m.\u001b[39mmap(ref_rev_dict)\u001b[39m.\u001b[39mfillna(games_df[\u001b[39m'\u001b[39m\u001b[39mreferee\u001b[39m\u001b[39m'\u001b[39m])\n",
            "Cell \u001b[1;32mIn[20], line 7\u001b[0m, in \u001b[0;36mcreate_ref_dict\u001b[1;34m()\u001b[0m\n\u001b[0;32m      4\u001b[0m ref_dict \u001b[39m=\u001b[39m {}\n\u001b[0;32m      6\u001b[0m \u001b[39mfor\u001b[39;00m i \u001b[39min\u001b[39;00m \u001b[39mrange\u001b[39m(\u001b[39mlen\u001b[39m(names)\u001b[39m-\u001b[39m\u001b[39m1\u001b[39m):\n\u001b[1;32m----> 7\u001b[0m   sim \u001b[39m=\u001b[39m process\u001b[39m.\u001b[39mextractOne(names[i], names[i\u001b[39m+\u001b[39m\u001b[39m1\u001b[39m:])\n\u001b[0;32m      9\u001b[0m   \u001b[39mif\u001b[39;00m sim[\u001b[39m1\u001b[39m] \u001b[39m>\u001b[39m \u001b[39m85\u001b[39m:\n\u001b[0;32m     10\u001b[0m     ref_dict[names[i]] \u001b[39m=\u001b[39m sim[\u001b[39m0\u001b[39m]\n",
            "\u001b[1;31mNameError\u001b[0m: name 'process' is not defined"
          ]
        }
      ],
      "source": [
        "ref_rev_dict = create_ref_dict()\n",
        "games_df['referee'] = games_df['referee'].map(ref_rev_dict).fillna(games_df['referee'])"
      ]
    },
    {
      "cell_type": "code",
      "execution_count": 28,
      "metadata": {
        "id": "h7H52cw1HL-Y"
      },
      "outputs": [],
      "source": [
        "drive_stats = get_drive_stats()\n",
        "drive_summary = drive_stats.groupby(['game_id', 'team'], as_index=False).agg({'poss_time' : 'sum',\n",
        "                                                                              'rush_attempt' : 'sum',\n",
        "                                                                              'pass_attempt' : 'sum',\n",
        "                                                                              'total_plays' : 'sum'})"
      ]
    },
    {
      "cell_type": "code",
      "execution_count": 29,
      "metadata": {
        "id": "-Zdbj0KNg4Vr"
      },
      "outputs": [],
      "source": [
        "games_df = games_df.merge(drive_summary, how='left', on=['game_id', 'team'])"
      ]
    },
    {
      "cell_type": "code",
      "execution_count": 30,
      "metadata": {
        "id": "jZU9rzRPDE3M"
      },
      "outputs": [],
      "source": [
        "games_df['pass_per_attempt'] = games_df['pass_yards'].div(games_df['pass_attempt']).round(1)\n",
        "games_df['perc_pass'] = games_df['pass_attempt'].div(games_df['total_plays']).round(3)\n",
        "games_df['sec_per_play'] = games_df['poss_time'].div(games_df['total_plays']).round(1)"
      ]
    },
    {
      "cell_type": "code",
      "execution_count": 31,
      "metadata": {
        "id": "WS4ScbChbTFp"
      },
      "outputs": [],
      "source": [
        "def get_starting_qb():\n",
        "\n",
        "  throwers = df.groupby('passer_player_name')['pass_attempt'].sum().reset_index()\n",
        "  qbs = [qb for qb in throwers[throwers['pass_attempt'] > 18]['passer_player_name'].unique()]\n",
        "\n",
        "  starting_qb = (\n",
        "      df[df['passer_player_name'].isin(qbs)]\n",
        "      .groupby(['game_id', 'posteam'], as_index=False)['passer_player_name']\n",
        "      .first()\n",
        "      .rename(columns={\n",
        "          'posteam' : 'team',\n",
        "          'passer_player_name' : 'starting_qb'}\n",
        "          )\n",
        "  )\n",
        "\n",
        "  return starting_qb\n",
        "\n",
        "starting_qb = get_starting_qb()\n",
        "games_df = games_df.merge(starting_qb, how='left', on=['game_id', 'team'])\n",
        "\n",
        "def get_home_away_qb():\n",
        "\n",
        "  home_away_qbs = (\n",
        "      games_df\n",
        "      .groupby(['game_id', 'home'])['starting_qb']\n",
        "      .apply(lambda x: x.unique()[0])\n",
        "      .reset_index()\n",
        "      .set_index(['game_id', 'home'])\n",
        "      .unstack()\n",
        "\n",
        "  )\n",
        "  \n",
        "  home_away_qbs.columns = ['away_start_qb', 'home_start_qb']\n",
        "  home_away_qbs = home_away_qbs.reset_index()\n",
        "  \n",
        "  return home_away_qbs\n",
        "\n",
        "\n",
        "home_away_qbs = get_home_away_qb()\n",
        "games_df = games_df.merge(home_away_qbs, how='left', on=['game_id'])"
      ]
    },
    {
      "cell_type": "code",
      "execution_count": 32,
      "metadata": {
        "id": "WuJHpM4slpCD"
      },
      "outputs": [],
      "source": [
        "adj_epa = get_team_adjusted_epa()\n",
        "\n",
        "off_epa_game = (\n",
        "    adj_epa\n",
        "    .groupby(['game_id', 'posteam', 'play_type'], as_index=False)['epa']\n",
        "    .agg(['sum'])\n",
        "    .reset_index()\n",
        "    .pivot_table(index=['game_id', 'posteam'],\n",
        "                 columns='play_type',\n",
        "                 values='sum')\n",
        "    .reset_index()\n",
        "    .rename(columns={\n",
        "        'pass' : 'off_pass_epa',\n",
        "        'run' : 'off_run_epa',\n",
        "        'posteam' : 'team'\n",
        "    })\n",
        "    .round(2)\n",
        ")\n",
        "\n",
        "def_epa_game = (\n",
        "    adj_epa\n",
        "    .groupby(['game_id', 'defteam', 'play_type'], as_index=False)['epa']\n",
        "    .agg(['sum'])\n",
        "    .reset_index()\n",
        "    .pivot_table(index=['game_id', 'defteam'],\n",
        "                 columns='play_type',\n",
        "                 values='sum')\n",
        "    .reset_index()\n",
        "    .rename(columns={\n",
        "        'pass' : 'def_pass_epa',\n",
        "        'run' : 'def_run_epa',\n",
        "        'defteam' : 'team'\n",
        "    })\n",
        "    .round(2)\n",
        ")"
      ]
    },
    {
      "cell_type": "code",
      "execution_count": 33,
      "metadata": {
        "id": "TbuTY0V0HszN"
      },
      "outputs": [],
      "source": [
        "games_df = games_df.merge(off_epa_game, how='left', on=['game_id', 'team'])\n",
        "games_df = games_df.merge(def_epa_game, how='left', on=['game_id', 'team'])"
      ]
    },
    {
      "cell_type": "code",
      "execution_count": 34,
      "metadata": {
        "id": "uu0fIV812_90"
      },
      "outputs": [],
      "source": [
        "def_stats = get_def_stats()\n",
        "\n",
        "games_df = games_df.merge(def_stats, how='left', on=['game_id', 'team', 'season'])"
      ]
    },
    {
      "cell_type": "code",
      "execution_count": 35,
      "metadata": {
        "id": "6jA2KpmzUAHk"
      },
      "outputs": [],
      "source": [
        "rolling_qb = get_rolling_qb_epa()"
      ]
    },
    {
      "cell_type": "code",
      "execution_count": 53,
      "metadata": {
        "id": "dHN8uc9o3VbO"
      },
      "outputs": [],
      "source": [
        "def populate_table(df=None, table_name=None, URI=URI):\n",
        "\n",
        "    engine = create_engine(URI)\n",
        "    print('connected to the database..')\n",
        "    \n",
        "    df.head(0).to_sql(table_name, engine, if_exists='replace',index=False) \n",
        "\n",
        "    conn = engine.raw_connection()\n",
        "    cur = conn.cursor()\n",
        "    print('creating the cursor..')\n",
        "\n",
        "    output = io.StringIO()\n",
        "    \n",
        "    print('writing the csv to file..')\n",
        "    \n",
        "    df.to_csv(output, sep='\\t', header=False, index=False)\n",
        "    output.seek(0)\n",
        "    \n",
        "    \n",
        "    contents = output.getvalue()\n",
        "    \n",
        "    cur.copy_from(output, table_name, null=\"\") # null values become ''\n",
        "    \n",
        "    cur.close()\n",
        "    conn.commit()\n",
        "    conn.close()"
      ]
    },
    {
      "cell_type": "code",
      "execution_count": 51,
      "metadata": {
        "id": "IJfw3IDHhgt-"
      },
      "outputs": [],
      "source": [
        "def create_table(df, table_name, URI=URI):\n",
        "\n",
        "  engine = create_engine(URI)\n",
        "  print('connected to the db..')\n",
        "\n",
        "  df.head(0).to_sql(table_name, engine, if_exists='replace', index=False)"
      ]
    },
    {
      "cell_type": "code",
      "execution_count": 54,
      "metadata": {
        "colab": {
          "base_uri": "https://localhost:8080/"
        },
        "id": "RoIiFHqLpycg",
        "outputId": "3e65c4c0-09cf-45e1-e21c-b873a7425e9a"
      },
      "outputs": [
        {
          "name": "stdout",
          "output_type": "stream",
          "text": [
            "connected to the db..\n"
          ]
        }
      ],
      "source": [
        "create_table(df, 'pbp', URI=URI)"
      ]
    },
    {
      "cell_type": "code",
      "execution_count": 55,
      "metadata": {},
      "outputs": [
        {
          "name": "stdout",
          "output_type": "stream",
          "text": [
            "connected to the database..\n",
            "creating the cursor..\n",
            "writing the csv to file..\n"
          ]
        },
        {
          "ename": "MemoryError",
          "evalue": "",
          "output_type": "error",
          "traceback": [
            "\u001b[1;31m---------------------------------------------------------------------------\u001b[0m",
            "\u001b[1;31mMemoryError\u001b[0m                               Traceback (most recent call last)",
            "Cell \u001b[1;32mIn[55], line 1\u001b[0m\n\u001b[1;32m----> 1\u001b[0m populate_table(df\u001b[39m=\u001b[39;49mdf, table_name\u001b[39m=\u001b[39;49m\u001b[39m'\u001b[39;49m\u001b[39mpbp\u001b[39;49m\u001b[39m'\u001b[39;49m, URI\u001b[39m=\u001b[39;49mURI)\n",
            "Cell \u001b[1;32mIn[53], line 20\u001b[0m, in \u001b[0;36mpopulate_table\u001b[1;34m(df, table_name, URI)\u001b[0m\n\u001b[0;32m     16\u001b[0m df\u001b[39m.\u001b[39mto_csv(output, sep\u001b[39m=\u001b[39m\u001b[39m'\u001b[39m\u001b[39m\\t\u001b[39;00m\u001b[39m'\u001b[39m, header\u001b[39m=\u001b[39m\u001b[39mFalse\u001b[39;00m, index\u001b[39m=\u001b[39m\u001b[39mFalse\u001b[39;00m)\n\u001b[0;32m     17\u001b[0m output\u001b[39m.\u001b[39mseek(\u001b[39m0\u001b[39m)\n\u001b[1;32m---> 20\u001b[0m contents \u001b[39m=\u001b[39m output\u001b[39m.\u001b[39;49mgetvalue()\n\u001b[0;32m     22\u001b[0m cur\u001b[39m.\u001b[39mcopy_from(output, table_name, null\u001b[39m=\u001b[39m\u001b[39m\"\u001b[39m\u001b[39m\"\u001b[39m) \u001b[39m# null values become ''\u001b[39;00m\n\u001b[0;32m     24\u001b[0m cur\u001b[39m.\u001b[39mclose()\n",
            "\u001b[1;31mMemoryError\u001b[0m: "
          ]
        }
      ],
      "source": [
        "populate_table(df=df, table_name='pbp', URI=URI)"
      ]
    },
    {
      "cell_type": "code",
      "execution_count": null,
      "metadata": {
        "id": "U_E8Ox40h33n"
      },
      "outputs": [],
      "source": [
        "def insert_into_table(df, table_name, URI=URI):\n",
        "\n",
        "  engine = create_engine(URI)\n",
        "\n",
        "  conn = engine.raw_connection()\n",
        "  cur = conn.cursor()\n",
        "\n",
        "  output = io.StringIO()\n",
        "\n",
        "  df.to_csv(output, sep='\\t', header=False, index=False)\n",
        "  output.seek(0)\n",
        "\n",
        "  contents = output.getvalue()\n",
        "\n",
        "  cur.copy_from(output, table_name, null=\"\")\n",
        "\n",
        "  conn.commit()\n",
        "  cur.close()\n",
        "  conn.close()"
      ]
    },
    {
      "cell_type": "code",
      "execution_count": null,
      "metadata": {
        "id": "7-lMGSnYjsWa"
      },
      "outputs": [],
      "source": [
        "date_threshold = '2021-10-16'\n",
        "pbp_df = df[df['game_date'] >= date_threshold].copy()\n",
        "\n",
        "for chunk in np.array_split(pbp_df, 3):\n",
        "  df_ = pd.DataFrame(chunk)\n",
        "\n",
        "  insert_into_table(df_, 'pbp', URI)"
      ]
    },
    {
      "cell_type": "code",
      "execution_count": null,
      "metadata": {
        "id": "Y8dVMzuig23G"
      },
      "outputs": [],
      "source": [
        "def drop_table(table_name, URI):\n",
        "  \n",
        "  psyco_conn = psycopg2.connect(URI)\n",
        "  cursor = psyco_conn.cursor()\n",
        "  psyco_conn.autocommit = True\n",
        "\n",
        "  cursor.execute(\"\"\"DROP TABLE %s;\"\"\"%table_name)\n",
        "  cursor.close()\n",
        "  psyco_conn.close()"
      ]
    },
    {
      "cell_type": "code",
      "execution_count": null,
      "metadata": {
        "colab": {
          "base_uri": "https://localhost:8080/"
        },
        "id": "0wrH2El7EpFA",
        "outputId": "4732ff3f-aa32-4164-dea8-0fd85e17df66"
      },
      "outputs": [
        {
          "name": "stdout",
          "output_type": "stream",
          "text": [
            "connected to the database..\n",
            "creating the cursor..\n",
            "writing the csv to file..\n"
          ]
        }
      ],
      "source": [
        "populate_table(qb_df, 'qb_games', URI)"
      ]
    },
    {
      "cell_type": "code",
      "execution_count": null,
      "metadata": {
        "colab": {
          "base_uri": "https://localhost:8080/"
        },
        "id": "qLbxYDHSZmkD",
        "outputId": "61ddacf2-c600-437c-9412-b02940c84184"
      },
      "outputs": [
        {
          "name": "stdout",
          "output_type": "stream",
          "text": [
            "connected to the database..\n",
            "creating the cursor..\n",
            "writing the csv to file..\n"
          ]
        }
      ],
      "source": [
        "populate_table(games_df, 'games', URI)"
      ]
    },
    {
      "cell_type": "code",
      "execution_count": null,
      "metadata": {
        "colab": {
          "base_uri": "https://localhost:8080/"
        },
        "id": "jezWbtEdZup2",
        "outputId": "6be5426a-9a9a-44b9-d275-e9524811741d"
      },
      "outputs": [
        {
          "name": "stdout",
          "output_type": "stream",
          "text": [
            "connected to the database..\n",
            "creating the cursor..\n",
            "writing the csv to file..\n"
          ]
        }
      ],
      "source": [
        "populate_table(rec_df, 'receiving_games', URI)"
      ]
    },
    {
      "cell_type": "code",
      "execution_count": null,
      "metadata": {
        "colab": {
          "base_uri": "https://localhost:8080/"
        },
        "id": "ECFAikvzZ2gz",
        "outputId": "f7762fd8-3785-4f01-dfe9-ca49328942a6"
      },
      "outputs": [
        {
          "name": "stdout",
          "output_type": "stream",
          "text": [
            "connected to the database..\n",
            "creating the cursor..\n",
            "writing the csv to file..\n"
          ]
        }
      ],
      "source": [
        "populate_table(rush_df, 'rush_games', URI)"
      ]
    },
    {
      "cell_type": "code",
      "execution_count": null,
      "metadata": {
        "colab": {
          "base_uri": "https://localhost:8080/"
        },
        "id": "IYX4PFU69Uon",
        "outputId": "b4c7fd71-e23d-47c0-d9da-64913996dbec"
      },
      "outputs": [
        {
          "name": "stdout",
          "output_type": "stream",
          "text": [
            "connected to the database..\n",
            "creating the cursor..\n",
            "writing the csv to file..\n"
          ]
        }
      ],
      "source": [
        "populate_table(def_stats, 'defense_games', URI)"
      ]
    },
    {
      "cell_type": "code",
      "execution_count": null,
      "metadata": {
        "colab": {
          "base_uri": "https://localhost:8080/"
        },
        "id": "8I3QBWzvCWWR",
        "outputId": "7ef42763-0d6f-4f81-8edd-7f231c037be9"
      },
      "outputs": [
        {
          "name": "stdout",
          "output_type": "stream",
          "text": [
            "connected to the database..\n",
            "creating the cursor..\n",
            "writing the csv to file..\n"
          ]
        }
      ],
      "source": [
        "populate_table(kicker_df, 'kicker_games', URI)"
      ]
    },
    {
      "cell_type": "code",
      "execution_count": null,
      "metadata": {
        "colab": {
          "base_uri": "https://localhost:8080/"
        },
        "id": "Tb_0xDUQit8N",
        "outputId": "7ee97d8d-fcdc-482b-a025-975dfdcb7384"
      },
      "outputs": [
        {
          "name": "stdout",
          "output_type": "stream",
          "text": [
            "connected to the database..\n",
            "creating the cursor..\n",
            "writing the csv to file..\n"
          ]
        }
      ],
      "source": [
        "populate_table(rz_rushing, 'red_zone_rush', URI)"
      ]
    },
    {
      "cell_type": "code",
      "execution_count": null,
      "metadata": {
        "colab": {
          "base_uri": "https://localhost:8080/"
        },
        "id": "KMP9Y2ZGiuG0",
        "outputId": "c4703cb8-e3bb-4152-edbe-3a71f884cc5e"
      },
      "outputs": [
        {
          "name": "stdout",
          "output_type": "stream",
          "text": [
            "connected to the database..\n",
            "creating the cursor..\n",
            "writing the csv to file..\n"
          ]
        }
      ],
      "source": [
        "populate_table(rz_receiving, 'red_zone_rec', URI)"
      ]
    },
    {
      "cell_type": "code",
      "execution_count": null,
      "metadata": {
        "colab": {
          "base_uri": "https://localhost:8080/"
        },
        "id": "VH0slaKmiuNR",
        "outputId": "8b47f821-0ad9-44b7-883f-052e3002beac"
      },
      "outputs": [
        {
          "name": "stdout",
          "output_type": "stream",
          "text": [
            "connected to the database..\n",
            "creating the cursor..\n",
            "writing the csv to file..\n"
          ]
        }
      ],
      "source": [
        "populate_table(rz_qbs, 'red_zone_qb', URI)"
      ]
    }
  ],
  "metadata": {
    "colab": {
      "provenance": []
    },
    "kernelspec": {
      "display_name": "Python 3",
      "name": "python3"
    },
    "language_info": {
      "codemirror_mode": {
        "name": "ipython",
        "version": 3
      },
      "file_extension": ".py",
      "mimetype": "text/x-python",
      "name": "python",
      "nbconvert_exporter": "python",
      "pygments_lexer": "ipython3",
      "version": "3.11.2"
    }
  },
  "nbformat": 4,
  "nbformat_minor": 0
}
