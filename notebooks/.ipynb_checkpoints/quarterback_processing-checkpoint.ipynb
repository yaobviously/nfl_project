{
 "cells": [
  {
   "cell_type": "code",
   "execution_count": 59,
   "metadata": {},
   "outputs": [],
   "source": [
    "import os\n",
    "import sys\n",
    "import warnings\n",
    "import pandas as pd\n",
    "import numpy as np\n",
    "import matplotlib.pyplot as plt\n",
    "import seaborn as sns\n",
    "\n",
    "from dotenv import load_dotenv\n",
    "load_dotenv()\n",
    "\n",
    "from sklearn.linear_model import LinearRegression, RidgeCV, LassoCV\n",
    "from sklearn.preprocessing import RobustScaler, StandardScaler\n",
    "from sklearn.metrics import mean_absolute_error\n",
    "\n",
    "import bambi as bmb\n",
    "import arviz as az\n",
    "import xarray as xr\n",
    "\n",
    "import lightgbm as lgb\n",
    "\n",
    "sys.path.append('../')\n",
    "\n",
    "from sqlalchemy import create_engine\n",
    "from database.queries import get_game_stats\n",
    "\n",
    "warnings.filterwarnings('ignore', category=pd.errors.PerformanceWarning)\n",
    "pd.set_option('display.max_columns', 100)"
   ]
  },
  {
   "cell_type": "code",
   "execution_count": 2,
   "metadata": {},
   "outputs": [],
   "source": [
    "# loading up the postgres credentials\n",
    "user = os.getenv('DB_USER')\n",
    "password = os.getenv('DB_PASSWORD')\n",
    "host = os.getenv('DB_HOST')\n",
    "database = os.getenv('DB_NAME')\n",
    "port = os.getenv('DB_PORT')\n",
    "\n",
    "# # creating the URI for the database\n",
    "URI = f'postgresql://{user}:{password}@{host}:{port}/{database}'\n",
    "\n",
    "# # establishing a connection to the database\n",
    "engine = create_engine(URI)"
   ]
  },
  {
   "cell_type": "code",
   "execution_count": 3,
   "metadata": {},
   "outputs": [],
   "source": [
    "lee_sharpe_query = \"\"\"\n",
    "    select *\n",
    "    from lee_sharpe\n",
    "    where season >= 2012\n",
    "\"\"\"\n",
    "\n",
    "ls = pd.read_sql(lee_sharpe_query, URI)"
   ]
  },
  {
   "cell_type": "code",
   "execution_count": 4,
   "metadata": {},
   "outputs": [],
   "source": [
    "# changing the names in the Lee Sharpe dataframe to match the names in the \n",
    "# nflfastr dataframe. This will allow us to combine data more easily, \n",
    "# using game_id. \n",
    "\n",
    "lv_home_condition = (ls['home_team'] == 'OAK') & (ls['season'] < 2020)\n",
    "lv_away_condition = (ls['away_team'] == 'OAK') & (ls['season'] < 2020)\n",
    "ls.loc[lv_home_condition, 'home_team'] = 'LV'\n",
    "ls.loc[lv_away_condition, 'away_team'] = 'LV'\n",
    "\n",
    "la_home_condition = (ls['home_team'] == 'STL') & (ls['season'] < 2016)\n",
    "la_away_condition = (ls['away_team'] == 'STL') & (ls['season'] < 2016)\n",
    "ls.loc[la_home_condition, 'home_team'] = 'LA'\n",
    "ls.loc[la_away_condition, 'away_team'] = 'LA'\n",
    "\n",
    "lac_home_condition = (ls['home_team'] == 'SD') & (ls['season'] < 2017)\n",
    "lac_away_condition = (ls['away_team'] == 'SD') & (ls['season'] < 2017)\n",
    "ls.loc[lac_home_condition, 'home_team'] = 'LAC'\n",
    "ls.loc[lac_away_condition, 'away_team'] = 'LAC'"
   ]
  },
  {
   "cell_type": "code",
   "execution_count": 5,
   "metadata": {},
   "outputs": [],
   "source": [
    "query = \"\"\"\n",
    "    select *\n",
    "    from player_stats\n",
    "    where season >=2012 and position = 'QB'\n",
    "    order by season asc, week asc\n",
    "\"\"\"\n",
    "df = pd.read_sql(query, con=engine)"
   ]
  },
  {
   "cell_type": "code",
   "execution_count": 6,
   "metadata": {},
   "outputs": [
    {
     "name": "stdout",
     "output_type": "stream",
     "text": [
      "there are now 0 missing game ids\n"
     ]
    }
   ],
   "source": [
    "# getting game ids by week from the lee sharpe data. starting with home then\n",
    "# using update to get the away team game ids\n",
    "game_id_dict = ls.set_index(['season', 'week', 'home_team'])['game_id'].to_dict()\n",
    "ls_gameid_away = ls.set_index(['season', 'week', 'away_team'])['game_id'].to_dict()\n",
    "\n",
    "game_id_dict.update(ls_gameid_away)\n",
    "\n",
    "# assigning game ids to the player stats dataframe using the game id dictionary\n",
    "df['game_id'] = 'NA'\n",
    "df['game_id'] = [game_id_dict[(s, w, t)] if (s, w, t) in game_id_dict else 'NA' for s, w, t in zip(df.season, df.week, df.recent_team)]\n",
    "\n",
    "print(\"there are now\", df[df['game_id'] == 'NA'].shape[0], \"missing game ids\")"
   ]
  },
  {
   "cell_type": "code",
   "execution_count": 7,
   "metadata": {},
   "outputs": [
    {
     "data": {
      "text/plain": [
       "set()"
      ]
     },
     "execution_count": 7,
     "metadata": {},
     "output_type": "execute_result"
    }
   ],
   "source": [
    "# merging the lee sharpe data with the player stats data\n",
    "df = df.merge(ls, how='left', on=['game_id', 'season', 'week'], validate='many_to_one')\n",
    "\n",
    "# limit the dataset to only quarterbacks who started the game\n",
    "cond = (df['player_id'] == df['home_qb_id']) | (df['player_id'] == df['away_qb_id'])\n",
    "\n",
    "starters = df[cond].copy()\n",
    "starters.reset_index(drop=True, inplace=True)\n",
    "\n",
    "# are there any missing game ids in lee sharpe\n",
    "set(ls.game_id.unique()).difference(set(starters.game_id.unique()))"
   ]
  },
  {
   "cell_type": "code",
   "execution_count": 8,
   "metadata": {},
   "outputs": [],
   "source": [
    "def ewm_player_statistics(data=None, alpha=None, min_periods=None):\n",
    "    \n",
    "    data_mean = data.shift().ewm(alpha=alpha, min_periods=min_periods).mean()\n",
    "    \n",
    "    return data_mean"
   ]
  },
  {
   "cell_type": "code",
   "execution_count": 9,
   "metadata": {},
   "outputs": [],
   "source": [
    "# manually creating exponentially weighted moving averages for several statistics\n",
    "\n",
    "starters['ewm_passing_yards'] = (\n",
    "        starters.groupby('player_id')['passing_yards'].transform(lambda x: ewm_player_statistics(x, 0.08, 1))\n",
    "    )\n",
    "\n",
    "starters['ewm_passing_epa'] = (\n",
    "        starters.groupby('player_id')['passing_epa'].transform(lambda x: x.shift().ewm(alpha=0.08, min_periods=1).mean())\n",
    "    )\n",
    "\n",
    "starters['ewm_passing_attempts'] = (\n",
    "        starters.groupby('player_id')['attempts'].transform(lambda x: ewm_player_statistics(x, 0.08, 1))\n",
    "    )"
   ]
  },
  {
   "cell_type": "code",
   "execution_count": 17,
   "metadata": {},
   "outputs": [],
   "source": [
    "# getting the team spread for each qb\n",
    "starters['team_spread'] = (\n",
    "    starters\n",
    "    .apply(lambda x: x['spread_line'] * -1 if x['recent_team'] == x['home_team'] else x['spread_line'], axis=1)\n",
    ")\n"
   ]
  },
  {
   "cell_type": "code",
   "execution_count": 30,
   "metadata": {},
   "outputs": [],
   "source": [
    "# getting the defensive team for each game and calculating \n",
    "# an exponentially weighted moving average for passing ep\n",
    "# allowed - note, fix the neutral games!!!\n",
    "starters['defteam'] = (\n",
    "    starters\n",
    "    .apply(lambda x: x['away_team'] if x['home_team'] == x['recent_team'] else x['away_team'], axis=1)\n",
    ")\n",
    "\n",
    "starters['defteam_ewm_passing_yards'] =(\n",
    "    starters\n",
    "    .groupby(['defteam'])['passing_yards']\n",
    "    .transform(lambda x: x.shift().ewm(alpha=0.052, min_periods=1).mean())\n",
    ")"
   ]
  },
  {
   "cell_type": "markdown",
   "metadata": {},
   "source": [
    "# Simple Linear Model, Simple Train-Test"
   ]
  },
  {
   "cell_type": "code",
   "execution_count": 18,
   "metadata": {},
   "outputs": [],
   "source": [
    "# limiting quarterbacks to those with more than 5\n",
    "\n",
    "games_played = starters.groupby('player_id').size().reset_index(name='count')\n",
    "more_than_5 = games_played[games_played['count'] >= 5]['player_id'].tolist()"
   ]
  },
  {
   "cell_type": "code",
   "execution_count": 22,
   "metadata": {},
   "outputs": [
    {
     "data": {
      "text/html": [
       "<style>#sk-container-id-2 {color: black;background-color: white;}#sk-container-id-2 pre{padding: 0;}#sk-container-id-2 div.sk-toggleable {background-color: white;}#sk-container-id-2 label.sk-toggleable__label {cursor: pointer;display: block;width: 100%;margin-bottom: 0;padding: 0.3em;box-sizing: border-box;text-align: center;}#sk-container-id-2 label.sk-toggleable__label-arrow:before {content: \"▸\";float: left;margin-right: 0.25em;color: #696969;}#sk-container-id-2 label.sk-toggleable__label-arrow:hover:before {color: black;}#sk-container-id-2 div.sk-estimator:hover label.sk-toggleable__label-arrow:before {color: black;}#sk-container-id-2 div.sk-toggleable__content {max-height: 0;max-width: 0;overflow: hidden;text-align: left;background-color: #f0f8ff;}#sk-container-id-2 div.sk-toggleable__content pre {margin: 0.2em;color: black;border-radius: 0.25em;background-color: #f0f8ff;}#sk-container-id-2 input.sk-toggleable__control:checked~div.sk-toggleable__content {max-height: 200px;max-width: 100%;overflow: auto;}#sk-container-id-2 input.sk-toggleable__control:checked~label.sk-toggleable__label-arrow:before {content: \"▾\";}#sk-container-id-2 div.sk-estimator input.sk-toggleable__control:checked~label.sk-toggleable__label {background-color: #d4ebff;}#sk-container-id-2 div.sk-label input.sk-toggleable__control:checked~label.sk-toggleable__label {background-color: #d4ebff;}#sk-container-id-2 input.sk-hidden--visually {border: 0;clip: rect(1px 1px 1px 1px);clip: rect(1px, 1px, 1px, 1px);height: 1px;margin: -1px;overflow: hidden;padding: 0;position: absolute;width: 1px;}#sk-container-id-2 div.sk-estimator {font-family: monospace;background-color: #f0f8ff;border: 1px dotted black;border-radius: 0.25em;box-sizing: border-box;margin-bottom: 0.5em;}#sk-container-id-2 div.sk-estimator:hover {background-color: #d4ebff;}#sk-container-id-2 div.sk-parallel-item::after {content: \"\";width: 100%;border-bottom: 1px solid gray;flex-grow: 1;}#sk-container-id-2 div.sk-label:hover label.sk-toggleable__label {background-color: #d4ebff;}#sk-container-id-2 div.sk-serial::before {content: \"\";position: absolute;border-left: 1px solid gray;box-sizing: border-box;top: 0;bottom: 0;left: 50%;z-index: 0;}#sk-container-id-2 div.sk-serial {display: flex;flex-direction: column;align-items: center;background-color: white;padding-right: 0.2em;padding-left: 0.2em;position: relative;}#sk-container-id-2 div.sk-item {position: relative;z-index: 1;}#sk-container-id-2 div.sk-parallel {display: flex;align-items: stretch;justify-content: center;background-color: white;position: relative;}#sk-container-id-2 div.sk-item::before, #sk-container-id-2 div.sk-parallel-item::before {content: \"\";position: absolute;border-left: 1px solid gray;box-sizing: border-box;top: 0;bottom: 0;left: 50%;z-index: -1;}#sk-container-id-2 div.sk-parallel-item {display: flex;flex-direction: column;z-index: 1;position: relative;background-color: white;}#sk-container-id-2 div.sk-parallel-item:first-child::after {align-self: flex-end;width: 50%;}#sk-container-id-2 div.sk-parallel-item:last-child::after {align-self: flex-start;width: 50%;}#sk-container-id-2 div.sk-parallel-item:only-child::after {width: 0;}#sk-container-id-2 div.sk-dashed-wrapped {border: 1px dashed gray;margin: 0 0.4em 0.5em 0.4em;box-sizing: border-box;padding-bottom: 0.4em;background-color: white;}#sk-container-id-2 div.sk-label label {font-family: monospace;font-weight: bold;display: inline-block;line-height: 1.2em;}#sk-container-id-2 div.sk-label-container {text-align: center;}#sk-container-id-2 div.sk-container {/* jupyter's `normalize.less` sets `[hidden] { display: none; }` but bootstrap.min.css set `[hidden] { display: none !important; }` so we also need the `!important` here to be able to override the default hidden behavior on the sphinx rendered scikit-learn.org. See: https://github.com/scikit-learn/scikit-learn/issues/21755 */display: inline-block !important;position: relative;}#sk-container-id-2 div.sk-text-repr-fallback {display: none;}</style><div id=\"sk-container-id-2\" class=\"sk-top-container\"><div class=\"sk-text-repr-fallback\"><pre>RidgeCV()</pre><b>In a Jupyter environment, please rerun this cell to show the HTML representation or trust the notebook. <br />On GitHub, the HTML representation is unable to render, please try loading this page with nbviewer.org.</b></div><div class=\"sk-container\" hidden><div class=\"sk-item\"><div class=\"sk-estimator sk-toggleable\"><input class=\"sk-toggleable__control sk-hidden--visually\" id=\"sk-estimator-id-2\" type=\"checkbox\" checked><label for=\"sk-estimator-id-2\" class=\"sk-toggleable__label sk-toggleable__label-arrow\">RidgeCV</label><div class=\"sk-toggleable__content\"><pre>RidgeCV()</pre></div></div></div></div></div>"
      ],
      "text/plain": [
       "RidgeCV()"
      ]
     },
     "execution_count": 22,
     "metadata": {},
     "output_type": "execute_result"
    }
   ],
   "source": [
    "features = ['ewm_passing_yards', 'ewm_passing_attempts',\n",
    "          'wind', 'passing_yards', 'temp', 'week',\n",
    "          'total_line', 'team_spread']\n",
    "\n",
    "model_df = starters[features].copy()\n",
    "model_df['wind'] = model_df['wind'].fillna(0)\n",
    "model_df['temp'] = model_df['temp'].fillna(72)\n",
    "model_df.dropna(subset=['ewm_passing_yards'], inplace=True)\n",
    "\n",
    "model = RidgeCV()\n",
    "\n",
    "X = model_df.drop('passing_yards', axis=1)\n",
    "# scaling it\n",
    "for col in X.columns:\n",
    "    X[f'{col}'] = (X[f'{col}'] - X[f'{col}'].mean()) / X[f'{col}'].std()\n",
    "y = model_df['passing_yards']\n",
    "\n",
    "X_train, X_test = X.iloc[:4000].copy(), X.iloc[4000:].copy()\n",
    "y_train, y_test = y.iloc[:4000].copy(), y.iloc[4000:].copy()\n",
    "\n",
    "model.fit(X_train, y_train)"
   ]
  },
  {
   "cell_type": "code",
   "execution_count": 23,
   "metadata": {},
   "outputs": [
    {
     "data": {
      "text/html": [
       "<div>\n",
       "<style scoped>\n",
       "    .dataframe tbody tr th:only-of-type {\n",
       "        vertical-align: middle;\n",
       "    }\n",
       "\n",
       "    .dataframe tbody tr th {\n",
       "        vertical-align: top;\n",
       "    }\n",
       "\n",
       "    .dataframe thead th {\n",
       "        text-align: right;\n",
       "    }\n",
       "</style>\n",
       "<table border=\"1\" class=\"dataframe\">\n",
       "  <thead>\n",
       "    <tr style=\"text-align: right;\">\n",
       "      <th></th>\n",
       "      <th>0</th>\n",
       "    </tr>\n",
       "  </thead>\n",
       "  <tbody>\n",
       "    <tr>\n",
       "      <th>intercept</th>\n",
       "      <td>245.830013</td>\n",
       "    </tr>\n",
       "    <tr>\n",
       "      <th>ewm_passing_yards</th>\n",
       "      <td>7.715253</td>\n",
       "    </tr>\n",
       "    <tr>\n",
       "      <th>ewm_passing_attempts</th>\n",
       "      <td>8.166972</td>\n",
       "    </tr>\n",
       "    <tr>\n",
       "      <th>wind</th>\n",
       "      <td>-5.779728</td>\n",
       "    </tr>\n",
       "    <tr>\n",
       "      <th>temp</th>\n",
       "      <td>0.832159</td>\n",
       "    </tr>\n",
       "    <tr>\n",
       "      <th>week</th>\n",
       "      <td>-4.206711</td>\n",
       "    </tr>\n",
       "    <tr>\n",
       "      <th>total_line</th>\n",
       "      <td>17.208963</td>\n",
       "    </tr>\n",
       "    <tr>\n",
       "      <th>team_spread</th>\n",
       "      <td>-10.416790</td>\n",
       "    </tr>\n",
       "  </tbody>\n",
       "</table>\n",
       "</div>"
      ],
      "text/plain": [
       "                               0\n",
       "intercept             245.830013\n",
       "ewm_passing_yards       7.715253\n",
       "ewm_passing_attempts    8.166972\n",
       "wind                   -5.779728\n",
       "temp                    0.832159\n",
       "week                   -4.206711\n",
       "total_line             17.208963\n",
       "team_spread           -10.416790"
      ]
     },
     "execution_count": 23,
     "metadata": {},
     "output_type": "execute_result"
    }
   ],
   "source": [
    "# creating a dataframe with the model params\n",
    "model_params_df = pd.DataFrame({x:y for x, y in zip(X.columns, model.coef_)}, index=[0])\n",
    "model_params_df.insert(0, 'intercept', model.intercept_)\n",
    "\n",
    "model_params_df.T"
   ]
  },
  {
   "cell_type": "code",
   "execution_count": 26,
   "metadata": {},
   "outputs": [
    {
     "name": "stdout",
     "output_type": "stream",
     "text": [
      "58.79726518332153\n"
     ]
    }
   ],
   "source": [
    "# how did this simple model do on the simple test set?\n",
    "# it does beat the ewm for passing yards on its own\n",
    "\n",
    "print(mean_absolute_error(y_test, model.predict(X_test)))"
   ]
  },
  {
   "cell_type": "markdown",
   "metadata": {},
   "source": [
    "# Multilevel Model in Bambi"
   ]
  },
  {
   "cell_type": "code",
   "execution_count": 31,
   "metadata": {},
   "outputs": [],
   "source": [
    "X_train['passing_yards'] = y_train.values\n",
    "X_train['player_id'] = starters[starters.index.isin(X_train.index)]['player_id'].values\n",
    "X_train['def_py'] = starters[starters.index.isin(X_train.index)]['defteam_ewm_passing_yards'].values\n",
    "\n",
    "X_test['passing_yards'] = y_test.values\n",
    "X_test['player_id'] = starters[starters.index.isin(X_test.index)]['player_id'].values\n",
    "X_test['def_py'] = starters[starters.index.isin(X_test.index)]['defteam_ewm_passing_yards'].values"
   ]
  },
  {
   "cell_type": "code",
   "execution_count": 40,
   "metadata": {},
   "outputs": [
    {
     "name": "stderr",
     "output_type": "stream",
     "text": [
      "Auto-assigning NUTS sampler...\n",
      "Initializing NUTS using jitter+adapt_diag...\n",
      "Multiprocess sampling (2 chains in 4 jobs)\n",
      "NUTS: [passing_yards_sigma, Intercept, ewm_passing_yards, total_line, team_spread, week, ewm_passing_attempts, wind, 1|player_id_sigma, 1|player_id_offset]\n"
     ]
    },
    {
     "data": {
      "text/html": [
       "\n",
       "<style>\n",
       "    /* Turns off some styling */\n",
       "    progress {\n",
       "        /* gets rid of default border in Firefox and Opera. */\n",
       "        border: none;\n",
       "        /* Needs to be in here for Safari polyfill so background images work as expected. */\n",
       "        background-size: auto;\n",
       "    }\n",
       "    progress:not([value]), progress:not([value])::-webkit-progress-bar {\n",
       "        background: repeating-linear-gradient(45deg, #7e7e7e, #7e7e7e 10px, #5c5c5c 10px, #5c5c5c 20px);\n",
       "    }\n",
       "    .progress-bar-interrupted, .progress-bar-interrupted::-webkit-progress-bar {\n",
       "        background: #F44336;\n",
       "    }\n",
       "</style>\n"
      ],
      "text/plain": [
       "<IPython.core.display.HTML object>"
      ]
     },
     "metadata": {},
     "output_type": "display_data"
    },
    {
     "data": {
      "text/html": [
       "\n",
       "    <div>\n",
       "      <progress value='4000' class='' max='4000' style='width:300px; height:20px; vertical-align: middle;'></progress>\n",
       "      100.00% [4000/4000 00:31&lt;00:00 Sampling 2 chains, 0 divergences]\n",
       "    </div>\n",
       "    "
      ],
      "text/plain": [
       "<IPython.core.display.HTML object>"
      ]
     },
     "metadata": {},
     "output_type": "display_data"
    },
    {
     "name": "stderr",
     "output_type": "stream",
     "text": [
      "Sampling 2 chains for 1_000 tune and 1_000 draw iterations (2_000 + 2_000 draws total) took 42 seconds.\n",
      "We recommend running at least 4 chains for robust computation of convergence diagnostics\n"
     ]
    }
   ],
   "source": [
    "# lets try to specify this model in bambi and see what we can do\n",
    "\n",
    "model = bmb.Model('passing_yards ~ ewm_passing_yards + total_line + team_spread + week +  \\\n",
    "                    ewm_passing_attempts + wind + (1 | player_id)', data=X_train, dropna=True)\n",
    "results = model.fit(draws=1000, chains=2)"
   ]
  },
  {
   "cell_type": "code",
   "execution_count": 41,
   "metadata": {},
   "outputs": [
    {
     "data": {
      "text/html": [
       "<div>\n",
       "<style scoped>\n",
       "    .dataframe tbody tr th:only-of-type {\n",
       "        vertical-align: middle;\n",
       "    }\n",
       "\n",
       "    .dataframe tbody tr th {\n",
       "        vertical-align: top;\n",
       "    }\n",
       "\n",
       "    .dataframe thead th {\n",
       "        text-align: right;\n",
       "    }\n",
       "</style>\n",
       "<table border=\"1\" class=\"dataframe\">\n",
       "  <thead>\n",
       "    <tr style=\"text-align: right;\">\n",
       "      <th></th>\n",
       "      <th>mean</th>\n",
       "      <th>sd</th>\n",
       "      <th>hdi_3%</th>\n",
       "      <th>hdi_97%</th>\n",
       "      <th>mcse_mean</th>\n",
       "      <th>mcse_sd</th>\n",
       "      <th>ess_bulk</th>\n",
       "      <th>ess_tail</th>\n",
       "      <th>r_hat</th>\n",
       "    </tr>\n",
       "  </thead>\n",
       "  <tbody>\n",
       "    <tr>\n",
       "      <th>Intercept</th>\n",
       "      <td>240.024</td>\n",
       "      <td>2.676</td>\n",
       "      <td>235.085</td>\n",
       "      <td>245.046</td>\n",
       "      <td>0.096</td>\n",
       "      <td>0.068</td>\n",
       "      <td>788.0</td>\n",
       "      <td>981.0</td>\n",
       "      <td>1.0</td>\n",
       "    </tr>\n",
       "    <tr>\n",
       "      <th>ewm_passing_yards</th>\n",
       "      <td>0.167</td>\n",
       "      <td>2.931</td>\n",
       "      <td>-5.162</td>\n",
       "      <td>5.735</td>\n",
       "      <td>0.079</td>\n",
       "      <td>0.058</td>\n",
       "      <td>1387.0</td>\n",
       "      <td>1457.0</td>\n",
       "      <td>1.0</td>\n",
       "    </tr>\n",
       "    <tr>\n",
       "      <th>total_line</th>\n",
       "      <td>17.181</td>\n",
       "      <td>1.512</td>\n",
       "      <td>14.619</td>\n",
       "      <td>20.012</td>\n",
       "      <td>0.029</td>\n",
       "      <td>0.021</td>\n",
       "      <td>2678.0</td>\n",
       "      <td>1338.0</td>\n",
       "      <td>1.0</td>\n",
       "    </tr>\n",
       "    <tr>\n",
       "      <th>team_spread</th>\n",
       "      <td>-9.772</td>\n",
       "      <td>1.401</td>\n",
       "      <td>-12.457</td>\n",
       "      <td>-7.278</td>\n",
       "      <td>0.026</td>\n",
       "      <td>0.019</td>\n",
       "      <td>2918.0</td>\n",
       "      <td>1731.0</td>\n",
       "      <td>1.0</td>\n",
       "    </tr>\n",
       "    <tr>\n",
       "      <th>week</th>\n",
       "      <td>-4.980</td>\n",
       "      <td>1.204</td>\n",
       "      <td>-7.295</td>\n",
       "      <td>-2.734</td>\n",
       "      <td>0.019</td>\n",
       "      <td>0.014</td>\n",
       "      <td>4115.0</td>\n",
       "      <td>1537.0</td>\n",
       "      <td>1.0</td>\n",
       "    </tr>\n",
       "    <tr>\n",
       "      <th>ewm_passing_attempts</th>\n",
       "      <td>6.795</td>\n",
       "      <td>2.394</td>\n",
       "      <td>2.154</td>\n",
       "      <td>11.137</td>\n",
       "      <td>0.049</td>\n",
       "      <td>0.037</td>\n",
       "      <td>2379.0</td>\n",
       "      <td>1748.0</td>\n",
       "      <td>1.0</td>\n",
       "    </tr>\n",
       "    <tr>\n",
       "      <th>wind</th>\n",
       "      <td>-6.010</td>\n",
       "      <td>1.286</td>\n",
       "      <td>-8.531</td>\n",
       "      <td>-3.588</td>\n",
       "      <td>0.021</td>\n",
       "      <td>0.016</td>\n",
       "      <td>3637.0</td>\n",
       "      <td>1408.0</td>\n",
       "      <td>1.0</td>\n",
       "    </tr>\n",
       "    <tr>\n",
       "      <th>passing_yards_sigma</th>\n",
       "      <td>74.376</td>\n",
       "      <td>0.829</td>\n",
       "      <td>72.827</td>\n",
       "      <td>75.946</td>\n",
       "      <td>0.016</td>\n",
       "      <td>0.011</td>\n",
       "      <td>2818.0</td>\n",
       "      <td>1477.0</td>\n",
       "      <td>1.0</td>\n",
       "    </tr>\n",
       "    <tr>\n",
       "      <th>1|player_id_sigma</th>\n",
       "      <td>16.747</td>\n",
       "      <td>3.247</td>\n",
       "      <td>10.860</td>\n",
       "      <td>23.197</td>\n",
       "      <td>0.152</td>\n",
       "      <td>0.108</td>\n",
       "      <td>452.0</td>\n",
       "      <td>857.0</td>\n",
       "      <td>1.0</td>\n",
       "    </tr>\n",
       "    <tr>\n",
       "      <th>1|player_id[00-0000865]</th>\n",
       "      <td>4.019</td>\n",
       "      <td>16.523</td>\n",
       "      <td>-24.300</td>\n",
       "      <td>36.201</td>\n",
       "      <td>0.263</td>\n",
       "      <td>0.431</td>\n",
       "      <td>3928.0</td>\n",
       "      <td>1341.0</td>\n",
       "      <td>1.0</td>\n",
       "    </tr>\n",
       "  </tbody>\n",
       "</table>\n",
       "</div>"
      ],
      "text/plain": [
       "                            mean      sd   hdi_3%  hdi_97%  mcse_mean  \\\n",
       "Intercept                240.024   2.676  235.085  245.046      0.096   \n",
       "ewm_passing_yards          0.167   2.931   -5.162    5.735      0.079   \n",
       "total_line                17.181   1.512   14.619   20.012      0.029   \n",
       "team_spread               -9.772   1.401  -12.457   -7.278      0.026   \n",
       "week                      -4.980   1.204   -7.295   -2.734      0.019   \n",
       "ewm_passing_attempts       6.795   2.394    2.154   11.137      0.049   \n",
       "wind                      -6.010   1.286   -8.531   -3.588      0.021   \n",
       "passing_yards_sigma       74.376   0.829   72.827   75.946      0.016   \n",
       "1|player_id_sigma         16.747   3.247   10.860   23.197      0.152   \n",
       "1|player_id[00-0000865]    4.019  16.523  -24.300   36.201      0.263   \n",
       "\n",
       "                         mcse_sd  ess_bulk  ess_tail  r_hat  \n",
       "Intercept                  0.068     788.0     981.0    1.0  \n",
       "ewm_passing_yards          0.058    1387.0    1457.0    1.0  \n",
       "total_line                 0.021    2678.0    1338.0    1.0  \n",
       "team_spread                0.019    2918.0    1731.0    1.0  \n",
       "week                       0.014    4115.0    1537.0    1.0  \n",
       "ewm_passing_attempts       0.037    2379.0    1748.0    1.0  \n",
       "wind                       0.016    3637.0    1408.0    1.0  \n",
       "passing_yards_sigma        0.011    2818.0    1477.0    1.0  \n",
       "1|player_id_sigma          0.108     452.0     857.0    1.0  \n",
       "1|player_id[00-0000865]    0.431    3928.0    1341.0    1.0  "
      ]
     },
     "execution_count": 41,
     "metadata": {},
     "output_type": "execute_result"
    }
   ],
   "source": [
    "az.summary(results).head(10)"
   ]
  },
  {
   "cell_type": "code",
   "execution_count": 42,
   "metadata": {},
   "outputs": [
    {
     "name": "stdout",
     "output_type": "stream",
     "text": [
      "the MAE of the linear model is: 58.81930655051719\n"
     ]
    }
   ],
   "source": [
    "# there are two different ways of extracting predictions\n",
    "# we can either sample the posterior mean, or we can \n",
    "# sample from the pps, or the posterior predictive distribution\n",
    "\n",
    "X_test_posterior = (\n",
    "    model.predict(\n",
    "        results,\n",
    "        data=X_test,\n",
    "        sample_new_groups=True,\n",
    "        inplace=False)\n",
    ")\n",
    "\n",
    "predictions = X_test_posterior.posterior['passing_yards_mean'][0]\n",
    "X_test['preds'] = pd.DataFrame(predictions).mean().values\n",
    "\n",
    "print(\"the MAE of the linear model is:\", mean_absolute_error(y_test, X_test['preds']))"
   ]
  },
  {
   "cell_type": "code",
   "execution_count": 43,
   "metadata": {},
   "outputs": [],
   "source": [
    "# getting the posterior predictive distributions. these include\n",
    "# all of the parameter uncertainty along with the uncertainty\n",
    "# from the data generating process. in other words, we generate predictions\n",
    "# by samplin the posterior for a specific set of data\n",
    "\n",
    "X_test_posterior_predictive = (\n",
    "    model.predict(\n",
    "        results,\n",
    "        kind='pps',\n",
    "        data=X_test,\n",
    "        sample_new_groups=True,\n",
    "        inplace=False)\n",
    ")\n",
    "\n",
    "pps_predictions = X_test_posterior_predictive.posterior_predictive['passing_yards'][0]"
   ]
  },
  {
   "cell_type": "code",
   "execution_count": 62,
   "metadata": {},
   "outputs": [
    {
     "data": {
      "image/png": "[encoded data removed]",
      "text/plain": [
       "<Figure size 600x400 with 1 Axes>"
      ]
     },
     "metadata": {},
     "output_type": "display_data"
    }
   ],
   "source": [
    "GAME_NUM = 444\n",
    "\n",
    "game_mean = pd.DataFrame(predictions)[GAME_NUM]\n",
    "game_pps = pd.DataFrame(pps_predictions)[GAME_NUM]\n",
    "\n",
    "fifth = game_pps.quantile(0.05)\n",
    "ninetyfifth = game_pps.quantile(0.95)\n",
    "\n",
    "fig, ax = plt.subplots(figsize=(6,4))\n",
    "\n",
    "ax.spines['right'].set_visible(False)\n",
    "ax.spines['top'].set_visible(False)\n",
    "\n",
    "sns.histplot(game_mean, label=\"Posterior Means\", alpha=1)\n",
    "sns.histplot(game_pps, label=\"Full Posterior Prediction\", alpha=0.2)\n",
    "\n",
    "plt.axvline(fifth, color='r', linestyle='--', label=\"5th Percentile\")\n",
    "plt.axvline(ninetyfifth, color='r', linestyle='--', label=\"95th Percentile\")\n",
    "\n",
    "plt.title(\"Predicted Mean and Full Distribution\")\n",
    "plt.xlabel(\"Passing Yards\")\n",
    "plt.legend()\n",
    "plt.tight_layout()\n",
    "plt.show()"
   ]
  },
  {
   "cell_type": "code",
   "execution_count": 50,
   "metadata": {},
   "outputs": [
    {
     "name": "stdout",
     "output_type": "stream",
     "text": [
      "coverage from 5th to 95th quantile 0.9002267573696145\n"
     ]
    }
   ],
   "source": [
    "X_test['90th'] = pd.DataFrame(pps_predictions).quantile(0.9).values\n",
    "X_test['95th'] = pd.DataFrame(pps_predictions).quantile(0.95).values\n",
    "X_test['10th'] = pd.DataFrame(pps_predictions).quantile(0.1).values\n",
    "X_test['5th'] = pd.DataFrame(pps_predictions).quantile(0.05).values\n",
    "\n",
    "print(\"coverage from 5th to 95th quantile\", \n",
    "      X_test[X_test['passing_yards'].between(X_test['5th'], X_test['95th'])].shape[0] / X_test.shape[0]\n",
    "     )"
   ]
  },
  {
   "cell_type": "code",
   "execution_count": 87,
   "metadata": {},
   "outputs": [],
   "source": [
    "lgb_model = lgb.LGBMRegressor(objective='quantile', alpha=0.5, max_depth=3)\n",
    "lgb_q5_model = lgb.LGBMRegressor(objective='quantile', alpha=0.05, max_depth=3)\n",
    "lgb_q95_model = lgb.LGBMRegressor(objective='quantile', alpha=0.95, max_depth=3)\n",
    "\n",
    "lgb_model.fit(X_train[features].drop(columns='passing_yards'), y_train)\n",
    "lgb_q5_model.fit(X_train[features].drop(columns='passing_yards'), y_train)\n",
    "lgb_q95_model.fit(X_train[features].drop(columns='passing_yards'), y_train)\n",
    "\n",
    "lgb_mean_pred = lgb_model.predict(X_test[features].drop(columns='passing_yards'))\n",
    "lgb_q5_pred = lgb_q5_model.predict(X_test[features].drop(columns='passing_yards'))\n",
    "lgb_q95_pred = lgb_q95_model.predict(X_test[features].drop(columns='passing_yards'))"
   ]
  },
  {
   "cell_type": "code",
   "execution_count": 90,
   "metadata": {},
   "outputs": [],
   "source": [
    "X_test['lgb_mean'] = lgb_mean_pred\n",
    "X_test['lgb_q5'] = lgb_q5_pred\n",
    "X_test['lgb_q95'] = lgb_q95_pred"
   ]
  }
 ],
 "metadata": {
  "kernelspec": {
   "display_name": "Python 3 (ipykernel)",
   "language": "python",
   "name": "python3"
  },
  "language_info": {
   "codemirror_mode": {
    "name": "ipython",
    "version": 3
   },
   "file_extension": ".py",
   "mimetype": "text/x-python",
   "name": "python",
   "nbconvert_exporter": "python",
   "pygments_lexer": "ipython3",
   "version": "3.9.16"
  }
 },
 "nbformat": 4,
 "nbformat_minor": 2
}
