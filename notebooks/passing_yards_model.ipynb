{
 "cells": [
  {
   "cell_type": "code",
   "execution_count": 1,
   "metadata": {},
   "outputs": [],
   "source": [
    "import os\n",
    "import sys\n",
    "import warnings\n",
    "import pandas as pd\n",
    "import numpy as np\n",
    "import matplotlib.pyplot as plt\n",
    "import seaborn as sns\n",
    "\n",
    "from dotenv import load_dotenv\n",
    "load_dotenv()\n",
    "\n",
    "from sklearn.pipeline import Pipeline\n",
    "from sklearn.compose import ColumnTransformer\n",
    "\n",
    "from sklearn.linear_model import (LinearRegression, RidgeCV, LassoCV, \n",
    "                                  GammaRegressor, HuberRegressor)\n",
    "\n",
    "from sklearn.preprocessing import RobustScaler, StandardScaler\n",
    "from sklearn.metrics import mean_absolute_error, mean_squared_error\n",
    "from sklearn.model_selection import cross_val_score, cross_val_predict, TimeSeriesSplit\n",
    "\n",
    "\n",
    "sys.path.append('../')\n",
    "\n",
    "from sqlalchemy import create_engine\n",
    "from database.queries import get_game_stats\n",
    "\n",
    "warnings.filterwarnings('ignore', category=pd.errors.PerformanceWarning)\n",
    "pd.set_option('display.max_columns', 100)"
   ]
  },
  {
   "cell_type": "code",
   "execution_count": 2,
   "metadata": {},
   "outputs": [],
   "source": [
    "# loading up the postgres credentials\n",
    "user = os.getenv('DB_USER')\n",
    "password = os.getenv('DB_PASSWORD')\n",
    "host = os.getenv('DB_HOST')\n",
    "database = os.getenv('DB_NAME')\n",
    "port = os.getenv('DB_PORT')\n",
    "\n",
    "# # creating the URI for the database\n",
    "URI = f'postgresql://{user}:{password}@{host}:{port}/{database}'\n",
    "\n",
    "# establishing a connection to the database\n",
    "engine = create_engine(URI)"
   ]
  },
  {
   "cell_type": "code",
   "execution_count": 3,
   "metadata": {},
   "outputs": [],
   "source": [
    "# getting next gen stats. note that week 0 is total stats for each season\n",
    "next_gen_query = \"\"\"\n",
    "    select *\n",
    "    from next_gen_passing\n",
    "    where week > 0\n",
    "\"\"\"\n",
    "\n",
    "ngp = pd.read_sql(next_gen_query, URI)\n",
    "ngp.rename(columns={'player_gsis_id' : 'player_id'}, inplace=True)"
   ]
  },
  {
   "cell_type": "code",
   "execution_count": 4,
   "metadata": {},
   "outputs": [],
   "source": [
    "lee_sharpe_query = \"\"\"\n",
    "    select *\n",
    "    from lee_sharpe\n",
    "    where season >= 2012\n",
    "\"\"\"\n",
    "\n",
    "ls = pd.read_sql(lee_sharpe_query, URI)"
   ]
  },
  {
   "cell_type": "code",
   "execution_count": 9,
   "metadata": {},
   "outputs": [
    {
     "data": {
      "text/html": [
       "<div>\n",
       "<style scoped>\n",
       "    .dataframe tbody tr th:only-of-type {\n",
       "        vertical-align: middle;\n",
       "    }\n",
       "\n",
       "    .dataframe tbody tr th {\n",
       "        vertical-align: top;\n",
       "    }\n",
       "\n",
       "    .dataframe thead th {\n",
       "        text-align: right;\n",
       "    }\n",
       "</style>\n",
       "<table border=\"1\" class=\"dataframe\">\n",
       "  <thead>\n",
       "    <tr style=\"text-align: right;\">\n",
       "      <th></th>\n",
       "      <th>game_id</th>\n",
       "      <th>season</th>\n",
       "      <th>game_type</th>\n",
       "      <th>week</th>\n",
       "      <th>gameday</th>\n",
       "      <th>weekday</th>\n",
       "      <th>gametime</th>\n",
       "      <th>away_team</th>\n",
       "      <th>away_score</th>\n",
       "      <th>home_team</th>\n",
       "      <th>home_score</th>\n",
       "      <th>location</th>\n",
       "      <th>result</th>\n",
       "      <th>total</th>\n",
       "      <th>overtime</th>\n",
       "      <th>old_game_id</th>\n",
       "      <th>gsis</th>\n",
       "      <th>nfl_detail_id</th>\n",
       "      <th>pfr</th>\n",
       "      <th>pff</th>\n",
       "      <th>espn</th>\n",
       "      <th>away_rest</th>\n",
       "      <th>home_rest</th>\n",
       "      <th>away_moneyline</th>\n",
       "      <th>home_moneyline</th>\n",
       "      <th>spread_line</th>\n",
       "      <th>away_spread_odds</th>\n",
       "      <th>home_spread_odds</th>\n",
       "      <th>total_line</th>\n",
       "      <th>under_odds</th>\n",
       "      <th>over_odds</th>\n",
       "      <th>div_game</th>\n",
       "      <th>roof</th>\n",
       "      <th>surface</th>\n",
       "      <th>temp</th>\n",
       "      <th>wind</th>\n",
       "      <th>away_qb_id</th>\n",
       "      <th>home_qb_id</th>\n",
       "      <th>away_qb_name</th>\n",
       "      <th>home_qb_name</th>\n",
       "      <th>away_coach</th>\n",
       "      <th>home_coach</th>\n",
       "      <th>referee</th>\n",
       "      <th>stadium_id</th>\n",
       "      <th>stadium</th>\n",
       "    </tr>\n",
       "  </thead>\n",
       "  <tbody>\n",
       "    <tr>\n",
       "      <th>0</th>\n",
       "      <td>2012_01_ATL_KC</td>\n",
       "      <td>2012</td>\n",
       "      <td>REG</td>\n",
       "      <td>1</td>\n",
       "      <td>2012-09-09</td>\n",
       "      <td>Sunday</td>\n",
       "      <td>13:00</td>\n",
       "      <td>ATL</td>\n",
       "      <td>40</td>\n",
       "      <td>KC</td>\n",
       "      <td>24</td>\n",
       "      <td>Home</td>\n",
       "      <td>-16</td>\n",
       "      <td>64</td>\n",
       "      <td>0</td>\n",
       "      <td>2012090908</td>\n",
       "      <td>55509.0</td>\n",
       "      <td>None</td>\n",
       "      <td>201209090kan</td>\n",
       "      <td>2391.0</td>\n",
       "      <td>320909012</td>\n",
       "      <td>7</td>\n",
       "      <td>7</td>\n",
       "      <td>-130.0</td>\n",
       "      <td>118.0</td>\n",
       "      <td>-1.0</td>\n",
       "      <td>-123.0</td>\n",
       "      <td>114.0</td>\n",
       "      <td>43.0</td>\n",
       "      <td>-104.0</td>\n",
       "      <td>-106.0</td>\n",
       "      <td>0</td>\n",
       "      <td>outdoors</td>\n",
       "      <td>grass</td>\n",
       "      <td>69.0</td>\n",
       "      <td>7.0</td>\n",
       "      <td>00-0026143</td>\n",
       "      <td>00-0023662</td>\n",
       "      <td>Matt Ryan</td>\n",
       "      <td>Matt Cassel</td>\n",
       "      <td>Mike Smith</td>\n",
       "      <td>Romeo Crennel</td>\n",
       "      <td>Mike Shepherd</td>\n",
       "      <td>KAN00</td>\n",
       "      <td>Arrowhead Stadium</td>\n",
       "    </tr>\n",
       "    <tr>\n",
       "      <th>1</th>\n",
       "      <td>2012_01_BUF_NYJ</td>\n",
       "      <td>2012</td>\n",
       "      <td>REG</td>\n",
       "      <td>1</td>\n",
       "      <td>2012-09-09</td>\n",
       "      <td>Sunday</td>\n",
       "      <td>13:00</td>\n",
       "      <td>BUF</td>\n",
       "      <td>28</td>\n",
       "      <td>NYJ</td>\n",
       "      <td>48</td>\n",
       "      <td>Home</td>\n",
       "      <td>20</td>\n",
       "      <td>76</td>\n",
       "      <td>0</td>\n",
       "      <td>2012090902</td>\n",
       "      <td>55512.0</td>\n",
       "      <td>None</td>\n",
       "      <td>201209090nyj</td>\n",
       "      <td>2392.0</td>\n",
       "      <td>320909020</td>\n",
       "      <td>7</td>\n",
       "      <td>7</td>\n",
       "      <td>130.0</td>\n",
       "      <td>-144.0</td>\n",
       "      <td>3.0</td>\n",
       "      <td>-109.0</td>\n",
       "      <td>101.0</td>\n",
       "      <td>39.5</td>\n",
       "      <td>100.0</td>\n",
       "      <td>-110.0</td>\n",
       "      <td>1</td>\n",
       "      <td>outdoors</td>\n",
       "      <td>fieldturf</td>\n",
       "      <td>74.0</td>\n",
       "      <td>1.0</td>\n",
       "      <td>00-0023682</td>\n",
       "      <td>00-0026898</td>\n",
       "      <td>Ryan Fitzpatrick</td>\n",
       "      <td>Mark Sanchez</td>\n",
       "      <td>Chan Gailey</td>\n",
       "      <td>Rex Ryan</td>\n",
       "      <td>Robert Frazer</td>\n",
       "      <td>NYC01</td>\n",
       "      <td>MetLife Stadium</td>\n",
       "    </tr>\n",
       "    <tr>\n",
       "      <th>2</th>\n",
       "      <td>2012_01_CAR_TB</td>\n",
       "      <td>2012</td>\n",
       "      <td>REG</td>\n",
       "      <td>1</td>\n",
       "      <td>2012-09-09</td>\n",
       "      <td>Sunday</td>\n",
       "      <td>16:25</td>\n",
       "      <td>CAR</td>\n",
       "      <td>10</td>\n",
       "      <td>TB</td>\n",
       "      <td>16</td>\n",
       "      <td>Home</td>\n",
       "      <td>6</td>\n",
       "      <td>26</td>\n",
       "      <td>0</td>\n",
       "      <td>2012090911</td>\n",
       "      <td>55516.0</td>\n",
       "      <td>None</td>\n",
       "      <td>201209090tam</td>\n",
       "      <td>2393.0</td>\n",
       "      <td>320909027</td>\n",
       "      <td>7</td>\n",
       "      <td>7</td>\n",
       "      <td>-161.0</td>\n",
       "      <td>145.0</td>\n",
       "      <td>-3.0</td>\n",
       "      <td>-106.0</td>\n",
       "      <td>-102.0</td>\n",
       "      <td>45.5</td>\n",
       "      <td>-106.0</td>\n",
       "      <td>-104.0</td>\n",
       "      <td>1</td>\n",
       "      <td>outdoors</td>\n",
       "      <td>grass</td>\n",
       "      <td>83.0</td>\n",
       "      <td>15.0</td>\n",
       "      <td>00-0027939</td>\n",
       "      <td>00-0026993</td>\n",
       "      <td>Cam Newton</td>\n",
       "      <td>Josh Freeman</td>\n",
       "      <td>Ron Rivera</td>\n",
       "      <td>Greg Schiano</td>\n",
       "      <td>Jerry Hughes</td>\n",
       "      <td>TAM00</td>\n",
       "      <td>Raymond James Stadium</td>\n",
       "    </tr>\n",
       "    <tr>\n",
       "      <th>3</th>\n",
       "      <td>2012_01_CIN_BAL</td>\n",
       "      <td>2012</td>\n",
       "      <td>REG</td>\n",
       "      <td>1</td>\n",
       "      <td>2012-09-10</td>\n",
       "      <td>Monday</td>\n",
       "      <td>19:00</td>\n",
       "      <td>CIN</td>\n",
       "      <td>13</td>\n",
       "      <td>BAL</td>\n",
       "      <td>44</td>\n",
       "      <td>Home</td>\n",
       "      <td>31</td>\n",
       "      <td>57</td>\n",
       "      <td>0</td>\n",
       "      <td>2012091000</td>\n",
       "      <td>55518.0</td>\n",
       "      <td>None</td>\n",
       "      <td>201209100rav</td>\n",
       "      <td>2404.0</td>\n",
       "      <td>320910033</td>\n",
       "      <td>7</td>\n",
       "      <td>7</td>\n",
       "      <td>281.0</td>\n",
       "      <td>-320.0</td>\n",
       "      <td>7.0</td>\n",
       "      <td>-102.0</td>\n",
       "      <td>-106.0</td>\n",
       "      <td>42.5</td>\n",
       "      <td>-110.0</td>\n",
       "      <td>100.0</td>\n",
       "      <td>1</td>\n",
       "      <td>outdoors</td>\n",
       "      <td>sportturf</td>\n",
       "      <td>74.0</td>\n",
       "      <td>10.0</td>\n",
       "      <td>00-0027973</td>\n",
       "      <td>00-0026158</td>\n",
       "      <td>Andy Dalton</td>\n",
       "      <td>Joe Flacco</td>\n",
       "      <td>Marvin Lewis</td>\n",
       "      <td>John Harbaugh</td>\n",
       "      <td>Matt Nicks</td>\n",
       "      <td>BAL00</td>\n",
       "      <td>M&amp;T Bank Stadium</td>\n",
       "    </tr>\n",
       "    <tr>\n",
       "      <th>4</th>\n",
       "      <td>2012_01_DAL_NYG</td>\n",
       "      <td>2012</td>\n",
       "      <td>REG</td>\n",
       "      <td>1</td>\n",
       "      <td>2012-09-05</td>\n",
       "      <td>Wednesday</td>\n",
       "      <td>20:30</td>\n",
       "      <td>DAL</td>\n",
       "      <td>24</td>\n",
       "      <td>NYG</td>\n",
       "      <td>17</td>\n",
       "      <td>Home</td>\n",
       "      <td>-7</td>\n",
       "      <td>41</td>\n",
       "      <td>0</td>\n",
       "      <td>2012090500</td>\n",
       "      <td>55504.0</td>\n",
       "      <td>None</td>\n",
       "      <td>201209050nyg</td>\n",
       "      <td>2390.0</td>\n",
       "      <td>320905019</td>\n",
       "      <td>7</td>\n",
       "      <td>7</td>\n",
       "      <td>164.0</td>\n",
       "      <td>-182.0</td>\n",
       "      <td>3.5</td>\n",
       "      <td>-108.0</td>\n",
       "      <td>100.0</td>\n",
       "      <td>45.5</td>\n",
       "      <td>-103.0</td>\n",
       "      <td>-107.0</td>\n",
       "      <td>1</td>\n",
       "      <td>outdoors</td>\n",
       "      <td>fieldturf</td>\n",
       "      <td>77.0</td>\n",
       "      <td>5.0</td>\n",
       "      <td>00-0021678</td>\n",
       "      <td>00-0022803</td>\n",
       "      <td>Tony Romo</td>\n",
       "      <td>Eli Manning</td>\n",
       "      <td>Jason Garrett</td>\n",
       "      <td>Tom Coughlin</td>\n",
       "      <td>Jim Core</td>\n",
       "      <td>NYC01</td>\n",
       "      <td>MetLife Stadium</td>\n",
       "    </tr>\n",
       "  </tbody>\n",
       "</table>\n",
       "</div>"
      ],
      "text/plain": [
       "           game_id  season game_type  week     gameday    weekday gametime  \\\n",
       "0   2012_01_ATL_KC    2012       REG     1  2012-09-09     Sunday    13:00   \n",
       "1  2012_01_BUF_NYJ    2012       REG     1  2012-09-09     Sunday    13:00   \n",
       "2   2012_01_CAR_TB    2012       REG     1  2012-09-09     Sunday    16:25   \n",
       "3  2012_01_CIN_BAL    2012       REG     1  2012-09-10     Monday    19:00   \n",
       "4  2012_01_DAL_NYG    2012       REG     1  2012-09-05  Wednesday    20:30   \n",
       "\n",
       "  away_team  away_score home_team  home_score location  result  total  \\\n",
       "0       ATL          40        KC          24     Home     -16     64   \n",
       "1       BUF          28       NYJ          48     Home      20     76   \n",
       "2       CAR          10        TB          16     Home       6     26   \n",
       "3       CIN          13       BAL          44     Home      31     57   \n",
       "4       DAL          24       NYG          17     Home      -7     41   \n",
       "\n",
       "   overtime  old_game_id     gsis nfl_detail_id           pfr     pff  \\\n",
       "0         0   2012090908  55509.0          None  201209090kan  2391.0   \n",
       "1         0   2012090902  55512.0          None  201209090nyj  2392.0   \n",
       "2         0   2012090911  55516.0          None  201209090tam  2393.0   \n",
       "3         0   2012091000  55518.0          None  201209100rav  2404.0   \n",
       "4         0   2012090500  55504.0          None  201209050nyg  2390.0   \n",
       "\n",
       "        espn  away_rest  home_rest  away_moneyline  home_moneyline  \\\n",
       "0  320909012          7          7          -130.0           118.0   \n",
       "1  320909020          7          7           130.0          -144.0   \n",
       "2  320909027          7          7          -161.0           145.0   \n",
       "3  320910033          7          7           281.0          -320.0   \n",
       "4  320905019          7          7           164.0          -182.0   \n",
       "\n",
       "   spread_line  away_spread_odds  home_spread_odds  total_line  under_odds  \\\n",
       "0         -1.0            -123.0             114.0        43.0      -104.0   \n",
       "1          3.0            -109.0             101.0        39.5       100.0   \n",
       "2         -3.0            -106.0            -102.0        45.5      -106.0   \n",
       "3          7.0            -102.0            -106.0        42.5      -110.0   \n",
       "4          3.5            -108.0             100.0        45.5      -103.0   \n",
       "\n",
       "   over_odds  div_game      roof    surface  temp  wind  away_qb_id  \\\n",
       "0     -106.0         0  outdoors      grass  69.0   7.0  00-0026143   \n",
       "1     -110.0         1  outdoors  fieldturf  74.0   1.0  00-0023682   \n",
       "2     -104.0         1  outdoors      grass  83.0  15.0  00-0027939   \n",
       "3      100.0         1  outdoors  sportturf  74.0  10.0  00-0027973   \n",
       "4     -107.0         1  outdoors  fieldturf  77.0   5.0  00-0021678   \n",
       "\n",
       "   home_qb_id      away_qb_name  home_qb_name     away_coach     home_coach  \\\n",
       "0  00-0023662         Matt Ryan   Matt Cassel     Mike Smith  Romeo Crennel   \n",
       "1  00-0026898  Ryan Fitzpatrick  Mark Sanchez    Chan Gailey       Rex Ryan   \n",
       "2  00-0026993        Cam Newton  Josh Freeman     Ron Rivera   Greg Schiano   \n",
       "3  00-0026158       Andy Dalton    Joe Flacco   Marvin Lewis  John Harbaugh   \n",
       "4  00-0022803         Tony Romo   Eli Manning  Jason Garrett   Tom Coughlin   \n",
       "\n",
       "         referee stadium_id                stadium  \n",
       "0  Mike Shepherd      KAN00      Arrowhead Stadium  \n",
       "1  Robert Frazer      NYC01        MetLife Stadium  \n",
       "2   Jerry Hughes      TAM00  Raymond James Stadium  \n",
       "3     Matt Nicks      BAL00       M&T Bank Stadium  \n",
       "4       Jim Core      NYC01        MetLife Stadium  "
      ]
     },
     "execution_count": 9,
     "metadata": {},
     "output_type": "execute_result"
    }
   ],
   "source": [
    "ls.head()"
   ]
  },
  {
   "cell_type": "code",
   "execution_count": 5,
   "metadata": {},
   "outputs": [],
   "source": [
    "# changing the names in the Lee Sharpe dataframe to match the names in the \n",
    "# nflfastr dataframe. This will allow us to combine data more easily, \n",
    "# using game_id. \n",
    "\n",
    "lv_home_condition = (ls['home_team'] == 'OAK') & (ls['season'] < 2020)\n",
    "lv_away_condition = (ls['away_team'] == 'OAK') & (ls['season'] < 2020)\n",
    "ls.loc[lv_home_condition, 'home_team'] = 'LV'\n",
    "ls.loc[lv_away_condition, 'away_team'] = 'LV'\n",
    "\n",
    "la_home_condition = (ls['home_team'] == 'STL') & (ls['season'] < 2016)\n",
    "la_away_condition = (ls['away_team'] == 'STL') & (ls['season'] < 2016)\n",
    "ls.loc[la_home_condition, 'home_team'] = 'LA'\n",
    "ls.loc[la_away_condition, 'away_team'] = 'LA'\n",
    "\n",
    "lac_home_condition = (ls['home_team'] == 'SD') & (ls['season'] < 2017)\n",
    "lac_away_condition = (ls['away_team'] == 'SD') & (ls['season'] < 2017)\n",
    "ls.loc[lac_home_condition, 'home_team'] = 'LAC'\n",
    "ls.loc[lac_away_condition, 'away_team'] = 'LAC'"
   ]
  },
  {
   "cell_type": "code",
   "execution_count": 10,
   "metadata": {},
   "outputs": [],
   "source": [
    "query = \"\"\"\n",
    "    select *\n",
    "    from player_stats\n",
    "    where season >=2012 and position = 'QB'\n",
    "    order by season asc, week asc\n",
    "\"\"\"\n",
    "df = pd.read_sql(query, con=engine)"
   ]
  },
  {
   "cell_type": "code",
   "execution_count": 15,
   "metadata": {},
   "outputs": [
    {
     "name": "stdout",
     "output_type": "stream",
     "text": [
      "there are now 0 missing game ids\n"
     ]
    }
   ],
   "source": [
    "# getting game ids by week from the lee sharpe data. starting with home then\n",
    "# using update to get the away team game ids\n",
    "game_id_dict = ls.set_index(['season', 'week', 'home_team'])['game_id'].to_dict()\n",
    "ls_gameid_away = ls.set_index(['season', 'week', 'away_team'])['game_id'].to_dict()\n",
    "\n",
    "game_id_dict.update(ls_gameid_away)\n",
    "\n",
    "# assigning game ids to the player stats dataframe using the game id dictionary\n",
    "df['game_id'] = 'NA'\n",
    "df['game_id'] = [game_id_dict[(s, w, t)] if (s, w, t) in game_id_dict else 'NA' for s, w, t in zip(df.season, df.week, df.recent_team)]\n",
    "\n",
    "print(\"there are now\", df[df['game_id'] == 'NA'].shape[0], \"missing game ids\")"
   ]
  },
  {
   "cell_type": "code",
   "execution_count": 16,
   "metadata": {},
   "outputs": [
    {
     "data": {
      "text/plain": [
       "set()"
      ]
     },
     "execution_count": 16,
     "metadata": {},
     "output_type": "execute_result"
    }
   ],
   "source": [
    "# merging the lee sharpe data with the player stats data\n",
    "df = df.merge(ls, how='left', on=['game_id', 'season', 'week'], validate='many_to_one')\n",
    "\n",
    "# getting total passing yards for qbs for each game -- will use this\n",
    "# later\n",
    "team_yards_dict = (\n",
    "    df\n",
    "    .groupby(['season', 'week', 'recent_team'])['passing_yards']\n",
    "    .sum()\n",
    "    .to_dict()\n",
    ")\n",
    "\n",
    "# limit the dataset to only quarterbacks who started the game\n",
    "cond = (df['player_id'] == df['home_qb_id']) | (df['player_id'] == df['away_qb_id'])\n",
    "\n",
    "starters = df[cond].copy()\n",
    "starters.reset_index(drop=True, inplace=True)\n",
    "\n",
    "# are there any missing game ids in lee sharpe\n",
    "set(ls.game_id.unique()).difference(set(starters.game_id.unique()))"
   ]
  },
  {
   "cell_type": "code",
   "execution_count": 17,
   "metadata": {},
   "outputs": [],
   "source": [
    "# getting team yards for each game\n",
    "starters['team_passing_yards'] = (\n",
    "    starters\n",
    "    .apply(lambda x: team_yards_dict[(x['season'], x['week'], x['recent_team'])], axis=1)\n",
    ")\n",
    "\n",
    "# calculating fraction of total team yards\n",
    "starters['frac_team_yards'] = starters['passing_yards'] / starters['team_passing_yards']\n",
    "\n",
    "# getting total game epa for qbs - excluding receiving obv\n",
    "starters['total_epa'] = starters['passing_epa'] + starters['rushing_epa']"
   ]
  },
  {
   "cell_type": "code",
   "execution_count": 18,
   "metadata": {},
   "outputs": [],
   "source": [
    "# merging our starters dataframe with the next gen stats\n",
    "ngp_cols = ['season', 'week', 'player_id', 'avg_time_to_throw', 'avg_completed_air_yards',\n",
    "            'avg_intended_air_yards', 'avg_air_yards_differential', 'aggressiveness', \n",
    "            'avg_air_yards_to_sticks', 'expected_completion_percentage', \n",
    "            'completion_percentage_above_expectation', 'avg_air_distance']\n",
    "\n",
    "starters = (\n",
    "    starters\n",
    "    .merge(ngp[ngp_cols], how='left', on=['season', 'week', 'player_id'], validate='one_to_one')\n",
    ")\n"
   ]
  },
  {
   "cell_type": "code",
   "execution_count": 19,
   "metadata": {},
   "outputs": [],
   "source": [
    "def ewm_player_statistics(data=None, alpha=None, min_periods=None):\n",
    "    \"calcs an exponentially weighted avg for a stat given an alpha and min period\"\n",
    "    data_mean = data.shift().ewm(alpha=alpha, min_periods=min_periods).mean()    \n",
    "    return data_mean"
   ]
  },
  {
   "cell_type": "code",
   "execution_count": 20,
   "metadata": {},
   "outputs": [],
   "source": [
    "# manually creating exponentially weighted moving averages for several statistics\n",
    "\n",
    "starters['ewm_passing_yards'] = (\n",
    "        starters.groupby('player_id')['passing_yards'].transform(lambda x: ewm_player_statistics(x, 0.08, 1))\n",
    "    )\n",
    "\n",
    "starters['ewm_passing_epa'] = (\n",
    "        starters.groupby('player_id')['passing_epa'].transform(lambda x: x.shift().ewm(alpha=0.08, min_periods=1).mean())\n",
    "    )\n",
    "\n",
    "starters['ewm_rushing_epa'] = (\n",
    "    starters\n",
    "    .groupby('player_id')['rushing_epa']\n",
    "    .transform(lambda x: x.shift().ewm(alpha=0.0425, min_periods=1).mean())\n",
    ")\n",
    "\n",
    "starters['ewm_total_epa'] = (\n",
    "        starters.groupby('player_id')['total_epa'].transform(lambda x: ewm_player_statistics(x, 0.08, 1))\n",
    "    )\n",
    "\n",
    "starters['ewm_passing_attempts'] = (\n",
    "        starters.groupby('player_id')['attempts'].transform(lambda x: ewm_player_statistics(x, 0.08, 1))\n",
    "    )\n",
    "\n",
    "starters['ewm_pass_completions'] = (\n",
    "        starters.groupby('player_id')['completions'].transform(lambda x: ewm_player_statistics(x, 0.08, 1))\n",
    "    )\n",
    "\n",
    "starters['ewm_completion_perc'] = starters['ewm_pass_completions'].div(starters['ewm_passing_attempts'])\n",
    "starters['ewm_epa_per_att'] = starters['ewm_passing_epa'].div(starters['ewm_passing_attempts'])"
   ]
  },
  {
   "cell_type": "code",
   "execution_count": 21,
   "metadata": {},
   "outputs": [],
   "source": [
    "starters['ewm_interceptions'] = (\n",
    "    starters\n",
    "    .groupby('player_id')['interceptions']\n",
    "    .transform(lambda x: ewm_player_statistics(x, 0.13, 1))\n",
    "    .fillna(starters['interceptions'].median())\n",
    ")"
   ]
  },
  {
   "cell_type": "code",
   "execution_count": 22,
   "metadata": {},
   "outputs": [],
   "source": [
    "starters['ewm_avg_intended_air_yards'] = (\n",
    "    starters\n",
    "    .groupby('player_id')['avg_intended_air_yards']\n",
    "    .transform(lambda x: ewm_player_statistics(x, 0.08, 1))\n",
    "    .fillna(starters['avg_intended_air_yards'].median())\n",
    ")\n",
    "\n",
    "starters['ewm_cpoe'] = (\n",
    "    starters\n",
    "    .groupby('player_id')['completion_percentage_above_expectation']\n",
    "    .transform(lambda x: ewm_player_statistics(x, 0.08, 1))\n",
    "    .fillna(0)\n",
    ")\n",
    "\n",
    "starters['ewm_ay_differential'] = (\n",
    "    starters\n",
    "    .groupby('player_id')['avg_air_yards_differential']\n",
    "    .transform(lambda x: ewm_player_statistics(x, 0.08, 1))\n",
    "    .fillna(starters['avg_air_yards_differential'].median())\n",
    ")"
   ]
  },
  {
   "cell_type": "code",
   "execution_count": 23,
   "metadata": {},
   "outputs": [],
   "source": [
    "# average passing yards by season, week\n",
    "starters = starters[starters['season_type'] == 'REG'].copy()\n",
    "\n",
    "passing_yards_sw = (\n",
    "    starters\n",
    "    .groupby(['season', 'week'])['passing_yards']\n",
    "    .mean()\n",
    "    .reset_index()\n",
    ")\n",
    "\n",
    "passing_yards_sw['season_expanding_mean'] = (\n",
    "    passing_yards_sw\n",
    "    .groupby('season')['passing_yards']\n",
    "    .transform(lambda x: x.shift().expanding().mean())\n",
    "    .fillna(method='ffill')\n",
    "    .fillna(250)\n",
    ")\n",
    "\n",
    "py_sw = passing_yards_sw.set_index(['season', 'week'])['season_expanding_mean'].to_dict()"
   ]
  },
  {
   "cell_type": "code",
   "execution_count": 24,
   "metadata": {},
   "outputs": [],
   "source": [
    "# adding the season expanding mean computed using weeks\n",
    "# and the dictionary created above\n",
    "starters['season_expanding_mean'] = (\n",
    "    starters\n",
    "    .apply(lambda row: py_sw[(row['season'], row['week'])], axis=1)\n",
    ")"
   ]
  },
  {
   "cell_type": "code",
   "execution_count": 25,
   "metadata": {},
   "outputs": [],
   "source": [
    "# counting games played - it'll be games played up until the row\n",
    "# so 0 = first start\n",
    "starters['games_started'] = starters.groupby('player_id').cumcount()"
   ]
  },
  {
   "cell_type": "code",
   "execution_count": 26,
   "metadata": {},
   "outputs": [],
   "source": [
    "# creating adjusted statistics using mild shrinkage\n",
    "shrinkage_constant = 3\n",
    "\n",
    "# adding the shrinkage factor to the df\n",
    "starters['shrinkage_factor'] = starters['games_started'] / (starters['games_started'] + shrinkage_constant)\n",
    "\n",
    "# adjusting ewm passing yards\n",
    "starters['adj_ewm_passing_yards'] = starters['shrinkage_factor'] * starters['ewm_passing_yards'] + \\\n",
    "                                    (1 - starters['shrinkage_factor']) * starters['season_expanding_mean']\n",
    "\n",
    "# adjusting passing epa\n",
    "starters['passing_epa_global_mean'] = starters['passing_epa'].shift().expanding().mean().fillna(0.05)\n",
    "starters['adj_ewm_passing_epa'] = starters['shrinkage_factor'] * starters['ewm_passing_epa'] + \\\n",
    "                                  (1 - starters['shrinkage_factor']) * starters['passing_epa_global_mean']\n",
    "# calculating adjusted epa per attempt\n",
    "starters['adj_ewm_epa_per_att'] = starters['adj_ewm_passing_epa'] / starters['ewm_passing_attempts']"
   ]
  },
  {
   "cell_type": "code",
   "execution_count": 27,
   "metadata": {},
   "outputs": [],
   "source": [
    "# adjusting ewm rushing yards\n",
    "starters['rushing_epa_global_mean'] = starters['rushing_epa'].shift().expanding().mean().fillna(-3.75)\n",
    "\n",
    "starters['adj_ewm_rushing_epa'] = starters['shrinkage_factor'] * starters['ewm_rushing_epa'] + \\\n",
    "                                  (1 - starters['shrinkage_factor']) * starters['rushing_epa_global_mean']"
   ]
  },
  {
   "cell_type": "code",
   "execution_count": 28,
   "metadata": {},
   "outputs": [],
   "source": [
    "# adjusting ewm total_epa\n",
    "starters['total_epa_global_mean'] = starters['total_epa'].shift().expanding().mean().fillna(2)\n",
    "\n",
    "starters['adj_ewm_total_epa'] = starters['shrinkage_factor'] * starters['ewm_total_epa'] + \\\n",
    "                                  (1 - starters['shrinkage_factor']) * starters['total_epa_global_mean']"
   ]
  },
  {
   "cell_type": "code",
   "execution_count": 29,
   "metadata": {},
   "outputs": [],
   "source": [
    "# filling in nan values\n",
    "\n",
    "starters['ewm_passing_attempts'].fillna(starters['ewm_passing_attempts'].median(), inplace=True)\n",
    "starters['ewm_passing_yards'].fillna(starters['season_expanding_mean'], inplace=True)\n",
    "starters['adj_ewm_passing_yards'].fillna(starters['adj_ewm_passing_yards'].median(), inplace=True)"
   ]
  },
  {
   "cell_type": "code",
   "execution_count": 30,
   "metadata": {},
   "outputs": [
    {
     "data": {
      "image/png": "[encoded data removed]",
      "text/plain": [
       "<Figure size 500x300 with 1 Axes>"
      ]
     },
     "metadata": {},
     "output_type": "display_data"
    }
   ],
   "source": [
    "# plotting the effect of shrinkage. it keeps the first few \n",
    "# entries for each player close to the league average\n",
    "\n",
    "plot_shrinkage = starters.query('player_name == \"J.Herbert\"').reset_index(drop=True)\n",
    "\n",
    "fig, ax = plt.subplots(figsize=(5,3))\n",
    "\n",
    "plot_shrinkage[['ewm_passing_yards', 'adj_ewm_passing_yards', 'season_expanding_mean']].plot(ax=ax, style=['-', '--', '-.'], linewidth=2.0)\n",
    "\n",
    "plt.title('EWM Passing Yards With Shrinkage')\n",
    "plt.xlabel('games')\n",
    "plt.ylabel('yards')\n",
    "plt.legend([\n",
    "    'EWM Passing Yards', \n",
    "    'Shrunk EWM Passing Yards', \n",
    "    'Expanding League Avg'\n",
    "], loc='lower right', bbox_to_anchor=(1.65, 0))\n",
    "\n",
    "plt.xticks(np.arange(0, len(plot_shrinkage), 5))\n",
    "\n",
    "plt.grid(True)\n",
    "plt.show()"
   ]
  },
  {
   "cell_type": "code",
   "execution_count": 31,
   "metadata": {},
   "outputs": [],
   "source": [
    "def calculate_trend(x):\n",
    "    \"\"\"\n",
    "    local linear regression to find slope in performance\n",
    "    \"\"\"\n",
    "    lr = LinearRegression()\n",
    "    lr.fit(np.arange(len(x)).reshape(-1, 1), x)\n",
    "    return lr.coef_[0]"
   ]
  },
  {
   "cell_type": "code",
   "execution_count": 32,
   "metadata": {},
   "outputs": [],
   "source": [
    "# calculating the trend in performance over the last 20\n",
    "# outings for each player\n",
    "\n",
    "LOCAL_TREND_WINDOW = 20\n",
    "\n",
    "starters['local_trend_ewm20'] = (\n",
    "    starters\n",
    "    .groupby('player_id')['adj_ewm_passing_yards']\n",
    "    .transform(lambda x: x.rolling(LOCAL_TREND_WINDOW, min_periods=1).apply(calculate_trend))\n",
    ")"
   ]
  },
  {
   "cell_type": "code",
   "execution_count": 33,
   "metadata": {},
   "outputs": [],
   "source": [
    "# getting the team spread for each qb for each game\n",
    "starters['team_spread'] = (\n",
    "    starters\n",
    "    .apply(lambda x: x['spread_line'] * -1 if x['recent_team'] == x['home_team'] else x['spread_line'], axis=1)\n",
    ")\n"
   ]
  },
  {
   "cell_type": "code",
   "execution_count": 34,
   "metadata": {},
   "outputs": [],
   "source": [
    "# getting the defensive team for each game and calculating \n",
    "# an exponentially weighted moving average for passing ep\n",
    "# allowed - note, fix the neutral games!!!\n",
    "starters['defteam'] = (\n",
    "    starters\n",
    "    .apply(lambda x: x['away_team'] if x['home_team'] == x['recent_team'] else x['away_team'], axis=1)\n",
    ")\n",
    "\n",
    "starters['defteam_ewm_passing_yards'] =(\n",
    "    starters\n",
    "    .groupby(['defteam'])['passing_yards']\n",
    "    .transform(lambda x: x.shift().ewm(alpha=0.052, min_periods=1).mean())\n",
    "    .fillna(starters['season_expanding_mean'])\n",
    ")\n",
    "\n",
    "# we should also apply shrinkage to defense - suboptimal implementation\n",
    "def_shrinkage_constant = 7\n",
    "\n",
    "starters['def_shrinkage_factor'] = starters['week'] / (starters['week'] + def_shrinkage_constant)\n",
    "starters['adj_def_ewm_py'] = starters['def_shrinkage_factor'] * starters['defteam_ewm_passing_yards'] + \\\n",
    "                                  (1 - starters['def_shrinkage_factor']) * starters['season_expanding_mean']"
   ]
  },
  {
   "cell_type": "code",
   "execution_count": 35,
   "metadata": {},
   "outputs": [
    {
     "data": {
      "image/png": "[encoded data removed]",
      "text/plain": [
       "<Figure size 400x300 with 1 Axes>"
      ]
     },
     "metadata": {},
     "output_type": "display_data"
    }
   ],
   "source": [
    "# plotting player performance over time using loess smoother\n",
    "from statsmodels.nonparametric.smoothers_lowess import lowess\n",
    "\n",
    "NAME = 'A.Rodgers'\n",
    "name_df = starters[starters['player_name'] == NAME].copy()\n",
    "\n",
    "fig, ax = plt.subplots(figsize=(4,3))\n",
    "lowess_smooth = lowess(name_df['adj_ewm_total_epa'], np.arange(len(name_df)), frac=0.7)\n",
    "\n",
    "plt.plot(lowess_smooth[:,0], lowess_smooth[:,1])\n",
    "plt.scatter(np.arange(len(name_df)), name_df['adj_ewm_total_epa'])\n",
    "plt.title(\"Adjusted EPA with LOWESS\")\n",
    "plt.xlabel(\"Game\")\n",
    "plt.ylabel(\"EWM EPA/Game\")\n",
    "plt.show()"
   ]
  },
  {
   "cell_type": "markdown",
   "metadata": {},
   "source": [
    "# Passing Yards Model  \n",
    "\n",
    "We'll start by predicting the mean because it may be useful as part  \n",
    "of other models, but ultimately we'll want to predict the median  \n",
    "using a quantile regression in order to get numbers for  \n",
    "over/unders"
   ]
  },
  {
   "cell_type": "code",
   "execution_count": 36,
   "metadata": {},
   "outputs": [],
   "source": [
    "# limiting the model to only regular season games\n",
    "starters = starters[starters['season_type'] == 'REG'].copy()\n",
    "\n",
    "# limiting quarterbacks to those with more than 5 games\n",
    "\n",
    "games_played = starters.groupby('player_id').size().reset_index(name='count')\n",
    "more_than_5 = games_played[games_played['count'] >= 5]['player_id'].tolist()"
   ]
  },
  {
   "cell_type": "code",
   "execution_count": 37,
   "metadata": {},
   "outputs": [
    {
     "data": {
      "image/png": "[encoded data removed]",
      "text/plain": [
       "<Figure size 400x300 with 1 Axes>"
      ]
     },
     "metadata": {},
     "output_type": "display_data"
    }
   ],
   "source": [
    "fig, ax = plt.subplots(figsize=(4,3))\n",
    "\n",
    "starters.groupby('season')['passing_yards'].mean().plot()\n",
    "\n",
    "plt.title(\"Mean Passing Yards by Season\")\n",
    "plt.ylim([200, 260])\n",
    "plt.grid(True)\n",
    "plt.show()"
   ]
  },
  {
   "cell_type": "code",
   "execution_count": 38,
   "metadata": {},
   "outputs": [
    {
     "data": {
      "image/png": "[encoded data removed]",
      "text/plain": [
       "<Figure size 400x300 with 1 Axes>"
      ]
     },
     "metadata": {},
     "output_type": "display_data"
    }
   ],
   "source": [
    "fig, ax = plt.subplots(figsize=(4,3))\n",
    "\n",
    "starters.groupby('week')['passing_yards'].mean().plot()\n",
    "\n",
    "plt.title(\"Mean Passing Yards by Week\")\n",
    "plt.ylim([200, 260])\n",
    "plt.xticks(np.arange(1, 18, 2))\n",
    "plt.grid(True)\n",
    "plt.show()"
   ]
  },
  {
   "cell_type": "code",
   "execution_count": 39,
   "metadata": {},
   "outputs": [
    {
     "data": {
      "image/png": "[encoded data removed]",
      "text/plain": [
       "<Figure size 400x300 with 1 Axes>"
      ]
     },
     "metadata": {},
     "output_type": "display_data"
    }
   ],
   "source": [
    "# now lets plot our target variable to see what the\n",
    "# distribution looks like\n",
    "\n",
    "fig, ax = plt.subplots(figsize=(4,3))\n",
    "\n",
    "sns.histplot(starters['passing_yards'], bins=25)\n",
    "plt.show()"
   ]
  },
  {
   "cell_type": "code",
   "execution_count": 40,
   "metadata": {},
   "outputs": [
    {
     "name": "stdout",
     "output_type": "stream",
     "text": [
      "gamma k-statistic and pval: 0.01485719248408024 0.16130967432756615\n",
      "norm k-statistic and pval: 0.016619854195375816 0.08583024260125582\n"
     ]
    }
   ],
   "source": [
    "# the distribution above looks like it may not be normal\n",
    "# i'll do a quick check to see if the normal or the gamma\n",
    "# fit the data better. we'll use scipy.stats and the \n",
    "# kolmogorov-smirnoff test to measure distance from \n",
    "# the fitted distribution\n",
    "\n",
    "from scipy import stats\n",
    "\n",
    "mu, std = stats.norm.fit(starters['passing_yards'])\n",
    "d, p = stats.kstest(starters['passing_yards'], 'norm', args=(mu, std))\n",
    "\n",
    "s, loc, scale = stats.gamma.fit(starters['passing_yards'])\n",
    "gamma_d, gamma_p = stats.kstest(starters['passing_yards'], 'gamma', args=(s, loc, scale))\n",
    "\n",
    "print(\"gamma k-statistic and pval:\", gamma_d, gamma_p)\n",
    "print(\"norm k-statistic and pval:\", d, p)"
   ]
  },
  {
   "cell_type": "markdown",
   "metadata": {},
   "source": [
    "They're close, but the gamma is a slightly better fit.  \n",
    "I'll fit norma, gamma, and huber linear models and see which has  \n",
    "best performance."
   ]
  },
  {
   "cell_type": "code",
   "execution_count": 45,
   "metadata": {},
   "outputs": [],
   "source": [
    "# restricting training to targets >0 - the gamma distribution\n",
    "# is strictly positive\n",
    "\n",
    "starters = starters[starters['passing_yards'] > 0].copy()"
   ]
  },
  {
   "cell_type": "code",
   "execution_count": 46,
   "metadata": {},
   "outputs": [],
   "source": [
    "# creating an expanding weekly target mean (with a shift) \n",
    "# to see how it compares to treating each week as a \n",
    "# one hot encoded category\n",
    "passing_yards_sw['expanding_week_avg'] = (\n",
    "    passing_yards_sw\n",
    "    .groupby('week')['passing_yards']\n",
    "    .transform(lambda x: x.shift().expanding().mean())\n",
    ")\n",
    "\n",
    "# specifying a null condition (there will be 18, one for each week)\n",
    "# and filling the null values with decreasing values\n",
    "null_condition = passing_yards_sw['expanding_week_avg'].isnull()\n",
    "passing_yards_sw.loc[null_condition, 'expanding_week_avg'] = np.linspace(250, 215, 18)\n",
    "\n",
    "# creating a dictionary to add the values to the starters\n",
    "# dataframe\n",
    "season_week_avg = (\n",
    "    passing_yards_sw\n",
    "    .set_index(['season', 'week'])['expanding_week_avg']\n",
    "    .to_dict()\n",
    ")\n",
    "\n",
    "# adding the values using the dictionary\n",
    "starters['exp_week_avg'] = starters.apply(lambda x: season_week_avg[(x['season'], x['week'])], axis=1)"
   ]
  },
  {
   "cell_type": "code",
   "execution_count": 47,
   "metadata": {},
   "outputs": [],
   "source": [
    "starters = starters[starters['season'] >= 2016].copy()\n",
    "\n",
    "starters['max_yards'] = (\n",
    "    starters.groupby('player_id')['passing_yards'].transform(lambda x: x.shift().expanding().max()).fillna(350)\n",
    ")"
   ]
  },
  {
   "cell_type": "code",
   "execution_count": 48,
   "metadata": {},
   "outputs": [
    {
     "name": "stdout",
     "output_type": "stream",
     "text": [
      "the mae of just using the adj_ewm_passing_yards is: 60.634072763719075\n"
     ]
    }
   ],
   "source": [
    "# getting a baseline to compare our models against\n",
    "\n",
    "print(\"the mae of just using the adj_ewm_passing_yards is:\", \n",
    "      mean_absolute_error(starters['passing_yards'], starters['adj_ewm_passing_yards']))"
   ]
  },
  {
   "cell_type": "code",
   "execution_count": 49,
   "metadata": {},
   "outputs": [],
   "source": [
    "features = ['adj_ewm_passing_yards', 'ewm_passing_attempts',\n",
    "          'wind', 'passing_yards', 'temp', 'week', \n",
    "          'total_line', 'team_spread', 'adj_def_ewm_py', \n",
    "           'local_trend_ewm20', 'season_expanding_mean',\n",
    "           'ewm_interceptions', 'max_yards']\n",
    "\n",
    "model_df = starters[features].copy()\n",
    "model_df['wind'] = model_df['wind'].fillna(0)\n",
    "model_df['temp'] = model_df['temp'].fillna(72)\n",
    "model_df['week_squared'] = model_df['week'] ** 2\n",
    "model_df['adj_def_ewm_py'] = np.log(model_df['adj_def_ewm_py'])\n",
    "model_df.dropna(subset=['adj_ewm_passing_yards'], inplace=True)\n",
    "\n",
    "numeric_cols = model_df.select_dtypes('number').columns\n",
    "\n",
    "scaler = StandardScaler()\n",
    "model = RidgeCV(alphas=[0.1, 1, 10, 100, 500, 1000])\n",
    "gamma_model = GammaRegressor(alpha=0)\n",
    "huber_model = HuberRegressor(alpha=5, max_iter=50, epsilon=1.15)\n",
    "\n",
    "pipeline = Pipeline([\n",
    "    ('scaler', StandardScaler()),\n",
    "    ('model', model)\n",
    "])\n",
    "\n",
    "pipeline_gamma = Pipeline([\n",
    "    ('scaler', StandardScaler()),\n",
    "    ('gamma_model', gamma_model)\n",
    "])\n",
    "\n",
    "pipeline_huber = Pipeline([\n",
    "    ('scaler', StandardScaler()),\n",
    "    ('huber_model', huber_model)\n",
    "])\n",
    "\n",
    "X = model_df.drop('passing_yards', axis=1)\n",
    "\n",
    "y = model_df['passing_yards']\n",
    "\n",
    "X_train, X_test = X.iloc[:3300].copy(), X.iloc[3300:].copy()\n",
    "y_train, y_test = y.iloc[:3300].copy(), y.iloc[3300:].copy()\n",
    "\n",
    "# ordinary model training\n",
    "pipeline.fit(X_train, y_train)\n",
    "pipeline_gamma.fit(X_train, y_train)\n",
    "pipeline_huber.fit(X_train, y_train)\n",
    "\n",
    "# the cross validation score calcs using time series\n",
    "splitter = TimeSeriesSplit(n_splits=15)\n",
    "\n",
    "ridge_scores = cross_val_score(pipeline, X, y, cv=splitter, scoring='neg_mean_absolute_error')\n",
    "gamma_scores = cross_val_score(pipeline_gamma, X, y, cv=splitter, scoring='neg_mean_absolute_error')\n",
    "huber_scores = cross_val_score(pipeline_huber, X, y, cv=splitter, scoring='neg_mean_absolute_error')"
   ]
  },
  {
   "cell_type": "code",
   "execution_count": 50,
   "metadata": {},
   "outputs": [
    {
     "name": "stdout",
     "output_type": "stream",
     "text": [
      "cross val score:\n",
      "ridge    59.186274\n",
      "gamma    60.368268\n",
      "huber    58.809069\n",
      "dtype: float64\n"
     ]
    }
   ],
   "source": [
    "# the cross validation scores with the time series split\n",
    "score_comparison = (\n",
    "    pd.DataFrame(ridge_scores, columns=['ridge'])\n",
    "    .join(pd.DataFrame(gamma_scores, columns=['gamma']))\n",
    "    .join(pd.DataFrame(huber_scores, columns=['huber']))\n",
    ")\n",
    "\n",
    "print(\"cross val score:\")\n",
    "print(score_comparison.mean() * -1)"
   ]
  },
  {
   "cell_type": "code",
   "execution_count": 51,
   "metadata": {},
   "outputs": [
    {
     "name": "stdout",
     "output_type": "stream",
     "text": [
      "the mean of the residuals is: -3.875486930874697\n",
      "baseline MAE on test set using just the EWM: 57.8201\n",
      "huber MAE: 55.2616\n",
      "huber MSE: 5152.0637\n"
     ]
    }
   ],
   "source": [
    "# creating a dataframe with the model params\n",
    "model_params_df = pd.DataFrame({x:y for x, y in zip(X.columns, pipeline.named_steps['model'].coef_)}, index=[0])\n",
    "model_params_df.insert(0, 'intercept', model.intercept_)\n",
    "\n",
    "# how did this simple model do on the simple test set?\n",
    "# it does beat the ewm for passing yards on its own\n",
    "residuals = y_test - pipeline.predict(X_test)\n",
    "\n",
    "print(\"the mean of the residuals is:\", residuals.mean())\n",
    "\n",
    "print(\"baseline MAE on test set using just the EWM:\", \n",
    "     mean_absolute_error(y_test, starters[starters.index.isin(X_test.index)]['adj_ewm_passing_yards']).round(4))\n",
    "print(\"huber MAE:\", mean_absolute_error(y_test, pipeline_huber.predict(X_test)).round(4))\n",
    "print(\"huber MSE:\", mean_squared_error(y_test, pipeline_huber.predict(X_test)).round(4))"
   ]
  },
  {
   "cell_type": "markdown",
   "metadata": {},
   "source": [
    "We do alright on the test set when we train up to ~2021 and predict  \n",
    "on the next few seasons, but we can easily improve upon this  \n",
    "by retraining the model using all available data every week.  \n",
    "\n",
    "We will do that below."
   ]
  },
  {
   "cell_type": "code",
   "execution_count": 52,
   "metadata": {},
   "outputs": [],
   "source": [
    "weeks = starters['week'].values\n",
    "seasons = starters['season'].values\n",
    "starters['season_week'] = starters['season'].astype(str) + '_' + starters['week'].astype(str)\n",
    "unique_weeks = starters['season_week'].unique()\n",
    "\n",
    "starters = pd.get_dummies(starters, columns=['week', 'season']).copy()"
   ]
  },
  {
   "cell_type": "markdown",
   "metadata": {},
   "source": [
    "# Training Fresh Model Each Week  \n"
   ]
  },
  {
   "cell_type": "code",
   "execution_count": 53,
   "metadata": {},
   "outputs": [],
   "source": [
    "numeric_columns = ['adj_ewm_passing_yards', 'ewm_passing_attempts', 'wind', 'temp',\n",
    "                   'total_line', 'team_spread', 'adj_def_ewm_py',\n",
    "                   'local_trend_ewm20', 'ewm_interceptions']\n",
    "\n",
    "week_columns = [x for x in starters.columns if 'week_' in x]\n",
    "season_columns = [x for x in starters.columns if 'season_2' in x]\n",
    "\n",
    "feature_columns = numeric_columns + week_columns + season_columns"
   ]
  },
  {
   "cell_type": "code",
   "execution_count": 56,
   "metadata": {},
   "outputs": [],
   "source": [
    "from sklearn.compose import ColumnTransformer\n",
    "from sklearn.linear_model import ElasticNetCV\n",
    "\n",
    "import warnings\n",
    "warnings.filterwarnings(\"ignore\")"
   ]
  },
  {
   "cell_type": "code",
   "execution_count": 57,
   "metadata": {},
   "outputs": [],
   "source": [
    "starters['week'] = weeks\n",
    "starters['season'] = seasons\n",
    "starters['preds'] = 0\n",
    "starters['train_max'] = 'training'\n",
    "starters['huber_preds'] = 0\n",
    "starters['en_preds'] = 0\n",
    "\n",
    "models = {}\n",
    "\n",
    "for year_week in range(50, len(unique_weeks) - 1):\n",
    "    \n",
    "    season = int(unique_weeks[year_week].split('_')[0])\n",
    "    week = int(unique_weeks[year_week].split('_')[1])\n",
    "    condition = (starters['season'] <= season) & (starters['week'] <= week)\n",
    "    \n",
    "    df_ = starters[condition].copy()\n",
    "    df_['wind'] = df_['wind'].fillna(0)\n",
    "    df_['temp'] = df_['temp'].fillna(72)\n",
    "    df_['week_squared'] = df_['week'] ** 2\n",
    "    \n",
    "    preprocessor = ColumnTransformer(\n",
    "        transformers=[\n",
    "            ('num', StandardScaler(), numeric_columns)\n",
    "        ], remainder='passthrough')\n",
    "    \n",
    "    model_ = Pipeline(steps=[('preprocessor', preprocessor),\n",
    "                             ('model', RidgeCV(alphas=[10, 100, 200, 500, 1000]))])\n",
    "    \n",
    "    huber_model_ = Pipeline(steps=[('preprocessor', preprocessor),\n",
    "                                   ('huber_model', HuberRegressor(alpha=5, max_iter=50, epsilon=1.15))])\n",
    "    \n",
    "    \n",
    "    elasticnet_model_ = Pipeline(steps=[('preprocessor', preprocessor),\n",
    "                                    ('elasticnet_model', ElasticNetCV(alphas=[0.1, 1, 10, 100], l1_ratio=[.1, .5, .7, .9, .95, .99, 1]))])\n",
    "    \n",
    "    X = df_.drop(columns='passing_yards')\n",
    "    y = df_['passing_yards'].values\n",
    "    \n",
    "    model_.fit(X[feature_columns], y)\n",
    "    models[year_week] = model_\n",
    "    huber_model_.fit(X[feature_columns], y)\n",
    "    elasticnet_model_.fit(X[feature_columns], y)\n",
    "    \n",
    "    pred_season = int(unique_weeks[year_week + 1].split('_')[0])\n",
    "    pred_week = int(unique_weeks[year_week + 1].split('_')[1])\n",
    "    pred_condition = (starters['season'] == pred_season) & (starters['week'] == pred_week)\n",
    "    \n",
    "    pred_df_ = starters[pred_condition].copy()\n",
    "    pred_df_['wind'] = pred_df_['wind'].fillna(0)\n",
    "    pred_df_['temp'] = pred_df_['temp'].fillna(72)\n",
    "    pred_df_['week_squared'] = pred_df_['week'] ** 2\n",
    "    \n",
    "    preds = model_.predict(pred_df_[feature_columns])\n",
    "    huber_preds = huber_model_.predict(pred_df_[feature_columns])\n",
    "    en_preds = elasticnet_model_.predict(pred_df_[feature_columns])\n",
    "\n",
    "    starters.loc[pred_condition, 'en_preds'] = en_preds\n",
    "    starters.loc[pred_condition, 'huber_preds'] = huber_preds\n",
    "    starters.loc[pred_condition, 'preds'] = preds\n",
    "    starters.loc[pred_condition, 'train_max'] = unique_weeks[year_week]"
   ]
  },
  {
   "cell_type": "code",
   "execution_count": 58,
   "metadata": {},
   "outputs": [
    {
     "name": "stdout",
     "output_type": "stream",
     "text": [
      "overall MSE of ridge models trained up to each week: 5682.478922672158\n",
      "overall MSE of huber models trained up to each week: 5670.499387294817\n",
      "average residuals ridge: 6.601469319157357\n",
      "average residuals huber: -1.210816509818896\n"
     ]
    }
   ],
   "source": [
    "no_zero = starters[starters['preds'] != 0].copy()\n",
    "no_zero['residual'] = no_zero['preds'] - no_zero['passing_yards']\n",
    "no_zero['huber_residual'] = no_zero['huber_preds'] - no_zero['passing_yards']\n",
    "\n",
    "# no_zero = no_zero[no_zero.index.isin(X_test.index)].copy()\n",
    "\n",
    "print('overall MSE of ridge models trained up to each week:',\n",
    "      mean_squared_error(no_zero['passing_yards'], no_zero['preds'])\n",
    "     )\n",
    "\n",
    "print('overall MSE of huber models trained up to each week:',\n",
    "      mean_squared_error(no_zero['passing_yards'], no_zero['huber_preds'])\n",
    "     )\n",
    "\n",
    "print(\"average residuals ridge:\", no_zero['residual'].mean())\n",
    "print(\"average residuals huber:\", no_zero['huber_residual'].mean())"
   ]
  },
  {
   "cell_type": "code",
   "execution_count": 71,
   "metadata": {},
   "outputs": [
    {
     "name": "stdout",
     "output_type": "stream",
     "text": [
      "mse of ensemble: 5592.241184227261\n",
      "avg residuals of ensemble: -0.007122962666826135\n",
      "what percentage of the y_values are above the quantile_50 predictions? 0.5011887779362815\n"
     ]
    }
   ],
   "source": [
    "from sklearn.model_selection import KFold, cross_val_score\n",
    "from sklearn.linear_model import QuantileRegressor\n",
    "\n",
    "splitter = KFold(n_splits=8, shuffle=True)\n",
    "\n",
    "oof = np.zeros(len(no_zero))\n",
    "\n",
    "oof_95 = np.zeros(len(no_zero))\n",
    "oof_5 = np.zeros(len(no_zero))\n",
    "oof_50 = np.zeros(len(no_zero))\n",
    "\n",
    "X_ensemble = no_zero[['huber_preds', 'preds', 'en_preds']].copy().reset_index(drop=True)\n",
    "y_ensemble = no_zero['passing_yards'].values\n",
    "\n",
    "\n",
    "for train, val in splitter.split(X_ensemble, y_ensemble):\n",
    "    \n",
    "    train_x = X_ensemble.iloc[train]\n",
    "    train_y = y_ensemble[train]\n",
    "    \n",
    "    val_x = X_ensemble.iloc[val]\n",
    "    \n",
    "    model_ = LinearRegression()\n",
    "    model_.fit(train_x, train_y)\n",
    "    \n",
    "    q50_model_ = QuantileRegressor(quantile=0.5, solver='highs')\n",
    "    q95_model_ = QuantileRegressor(quantile=0.95, solver=\"highs\")\n",
    "    q5_model_ = QuantileRegressor(quantile=0.05, solver=\"highs\")\n",
    "    \n",
    "    q50_model_.fit(train_x, train_y)\n",
    "    q95_model_.fit(train_x, train_y)\n",
    "    q5_model_.fit(train_x, train_y)\n",
    "\n",
    "    preds = model_.predict(val_x)\n",
    "    q50_preds = q50_model_.predict(val_x)\n",
    "    q95_preds = q95_model_.predict(val_x)\n",
    "    q5_preds = q5_model_.predict(val_x)\n",
    "    \n",
    "    oof[val] = preds\n",
    "    oof_50[val] = q50_preds\n",
    "    oof_95[val] = q95_preds\n",
    "    oof_5[val] = q5_preds\n",
    "\n",
    "print(\"mse of ensemble:\", mean_squared_error(y_ensemble, oof))\n",
    "print(\"avg residuals of ensemble:\", (y_ensemble - oof).mean())\n",
    "print(\"what percentage of the y_values are above the quantile_50 predictions?\",\n",
    "      (oof_50 > y_ensemble).mean())"
   ]
  },
  {
   "cell_type": "markdown",
   "metadata": {},
   "source": [
    "Creating a linear combination of the three linear models  \n",
    "outperforms using any individual model. The residuals  \n",
    "also drop to 0. \n",
    "\n",
    "The predicted median is also exceeded ~50.1%, which suggests  \n",
    "excellent calibration."
   ]
  },
  {
   "cell_type": "code",
   "execution_count": 60,
   "metadata": {},
   "outputs": [
    {
     "data": {
      "image/png": "[encoded data removed]",
      "text/plain": [
       "<Figure size 400x300 with 1 Axes>"
      ]
     },
     "metadata": {},
     "output_type": "display_data"
    }
   ],
   "source": [
    "fig, ax = plt.subplots(figsize=(4,3))\n",
    "\n",
    "sns.histplot(no_zero['preds'], label='Ridge')\n",
    "sns.histplot(no_zero['huber_preds'], label='Huber')\n",
    "sns.histplot(oof, label='Ensemble', alpha=0.4)\n",
    "plt.legend()\n",
    "plt.show()"
   ]
  },
  {
   "cell_type": "code",
   "execution_count": 94,
   "metadata": {},
   "outputs": [
    {
     "data": {
      "image/png": "[encoded data removed]",
      "text/plain": [
       "<Figure size 300x300 with 1 Axes>"
      ]
     },
     "metadata": {},
     "output_type": "display_data"
    }
   ],
   "source": [
    "no_zero['q50'] = oof_50\n",
    "no_zero['decile'] = (no_zero['passing_yards'] > no_zero['q50']).astype(int)\n",
    "\n",
    "decile_stats = no_zero.groupby(pd.qcut(no_zero['q50'], q=10))['decile'].agg(['mean', 'sem'])\n",
    "decile_stats.index = [f'decile_{n+1}' for n in np.arange(len(decile_stats))]\n",
    "decile_stats.reset_index(inplace=True)\n",
    "decile_stats.columns = ['decile', 'coverage', 'standard_error']\n",
    "\n",
    "plt.figure(figsize=(3, 3))\n",
    "\n",
    "plt.title(\"Overs by Decile\")\n",
    "sns.barplot(x='decile', y='coverage', yerr=decile_stats['standard_error'], data=decile_stats, color='blue')\n",
    "plt.axhline(0.5, linestyle='--', color='red')\n",
    "plt.xticks(rotation=75)\n",
    "plt.show()"
   ]
  },
  {
   "cell_type": "markdown",
   "metadata": {},
   "source": [
    "Not loving this."
   ]
  },
  {
   "cell_type": "code",
   "execution_count": 93,
   "metadata": {},
   "outputs": [
    {
     "name": "stdout",
     "output_type": "stream",
     "text": [
      "the oof coverage of our quantile regressors is: 0.8982406086543033\n"
     ]
    }
   ],
   "source": [
    "# now we'll look at the other quantiles, mostly for fun.  \n",
    "# i don't think there are any alt-lines for QB passing yards.  \n",
    "\n",
    "no_zero['ensemble_preds'] = oof\n",
    "no_zero['ensemble_residual'] = no_zero['passing_yards'] - no_zero['ensemble_preds']\n",
    "no_zero['q95'] = oof_95\n",
    "no_zero['q5'] = oof_5\n",
    "no_zero['inside'] = np.where(no_zero['passing_yards'].between(no_zero['q5'], no_zero['q95']), 1, 0)\n",
    "\n",
    "print(\"the oof coverage of our quantile regressors is:\", no_zero['inside'].mean())\n",
    "\n",
    "no_zero['width'] = no_zero['q95'] - no_zero['q5']"
   ]
  },
  {
   "cell_type": "code",
   "execution_count": 65,
   "metadata": {},
   "outputs": [
    {
     "name": "stdout",
     "output_type": "stream",
     "text": [
      "the t-statistic and p-value of the huber residuals are: -0.737293127009741 0.4610263996794135\n",
      "the t-statistic and p-value of the ensemble residuals are: -0.032006975885898334 0.9744695265004271\n"
     ]
    }
   ],
   "source": [
    "from scipy.stats import ttest_1samp\n",
    "\n",
    "t, p = ttest_1samp(no_zero['huber_residual'], 0)\n",
    "print(\"the t-statistic and p-value of the huber residuals are:\", t, p)\n",
    "\n",
    "t2, p2 = ttest_1samp(no_zero['ensemble_residual'], 0)\n",
    "print(\"the t-statistic and p-value of the ensemble residuals are:\", t2, p2)"
   ]
  },
  {
   "cell_type": "code",
   "execution_count": 66,
   "metadata": {},
   "outputs": [
    {
     "data": {
      "image/png": "[encoded data removed]",
      "text/plain": [
       "<Figure size 300x300 with 1 Axes>"
      ]
     },
     "metadata": {},
     "output_type": "display_data"
    }
   ],
   "source": [
    "# plotting conditional coverage of the quantile models\n",
    "\n",
    "r = no_zero.groupby(pd.qcut(no_zero['ensemble_preds'], q=10))['inside'].mean()\n",
    "r.index = [f'decile_{n+1}' for n in np.arange(len(r))]\n",
    "r = r.reset_index()\n",
    "r.columns = ['decile', 'coverage']\n",
    "\n",
    "plt.figure(figsize=(3, 3))\n",
    "\n",
    "plt.title(\"Conditional Coverage by Decile\")\n",
    "sns.barplot(x='decile', y='coverage', data=r, color='blue')\n",
    "plt.axhline(0.9, linestyle='--', color='red')\n",
    "plt.xticks(rotation=75)\n",
    "plt.show()"
   ]
  },
  {
   "cell_type": "markdown",
   "metadata": {},
   "source": [
    "# Manual Conformalized Quantile Regression  \n",
    "\n",
    "We compute the residuals and adjust the interval for each of the predictions.  \n",
    "\n",
    "The above quantile models already have excellent coverage, but  \n",
    "as an exercise I'm going to compute the residuals with respect to the  \n",
    "interval and conformalize the quantile predictions.  \n",
    "\n",
    "Note that because all of the predictions are 'out of fold', they can all  \n",
    "function as a calibration set.  \n",
    "\n",
    "To better test the performance of the quantile models and the conformalized  \n",
    "predictions we could do nested cross-validation, but in this particular instance  \n",
    "I'm going to skip it. Maybe another football model will require it.  "
   ]
  },
  {
   "cell_type": "code",
   "execution_count": 67,
   "metadata": {},
   "outputs": [],
   "source": [
    "def interval_residuals(intervals, values):\n",
    "    \"calculates the residuals for predictive intervals\"\n",
    "    left_resid = np.maximum(intervals[:,0]-values,0)\n",
    "    right_resid = np.maximum(values-intervals[:,1],0)\n",
    "    return(left_resid+right_resid)"
   ]
  },
  {
   "cell_type": "code",
   "execution_count": 68,
   "metadata": {},
   "outputs": [
    {
     "name": "stdout",
     "output_type": "stream",
     "text": [
      "the conformal adjustment would be: 0.9365\n"
     ]
    }
   ],
   "source": [
    "# since we have out of fold predictions, we can calculate\n",
    "# the interval residuals to create conformalized prediction\n",
    "# intervals\n",
    "\n",
    "intervals = np.array(no_zero[['q5', 'q95']])\n",
    "actual = np.array(no_zero['passing_yards'])\n",
    "\n",
    "residuals = interval_residuals(intervals, actual)\n",
    "num_residuals = len(residuals)\n",
    "qval = 1 - 0.10\n",
    "idx_residual = int(np.ceil(qval * (num_residuals +1))-1)\n",
    "\n",
    "conformal_adjustment = np.sort(residuals)[idx_residual]\n",
    "\n",
    "print(\"the conformal adjustment would be:\", conformal_adjustment.round(4))"
   ]
  },
  {
   "cell_type": "code",
   "execution_count": 69,
   "metadata": {},
   "outputs": [
    {
     "name": "stdout",
     "output_type": "stream",
     "text": [
      "conformalized coverage on the calibration set is: 0.9006181645268664\n"
     ]
    }
   ],
   "source": [
    "# applying the conformal adjustment\n",
    "no_zero['conformed_5'] = no_zero['q5'] - conformal_adjustment\n",
    "no_zero['conformed_95'] = no_zero['q95'] + conformal_adjustment\n",
    "no_zero['inside_conformed'] = (\n",
    "    np.where(no_zero['passing_yards'].between(no_zero['conformed_5'], no_zero['conformed_95']),\n",
    "             1,\n",
    "             0)\n",
    ")\n",
    "\n",
    "print(\"conformalized coverage on the calibration set is:\", no_zero['inside_conformed'].mean())"
   ]
  },
  {
   "cell_type": "markdown",
   "metadata": {},
   "source": [
    "Note that the coverage on the calibration set will of course by 90%."
   ]
  }
 ],
 "metadata": {
  "kernelspec": {
   "display_name": "Python 3 (ipykernel)",
   "language": "python",
   "name": "python3"
  },
  "language_info": {
   "codemirror_mode": {
    "name": "ipython",
    "version": 3
   },
   "file_extension": ".py",
   "mimetype": "text/x-python",
   "name": "python",
   "nbconvert_exporter": "python",
   "pygments_lexer": "ipython3",
   "version": "3.9.16"
  }
 },
 "nbformat": 4,
 "nbformat_minor": 2
}
