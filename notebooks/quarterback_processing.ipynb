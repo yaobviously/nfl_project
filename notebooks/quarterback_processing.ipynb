{
 "cells": [
  {
   "cell_type": "code",
   "execution_count": 1,
   "metadata": {},
   "outputs": [],
   "source": [
    "import os\n",
    "import pandas as pd\n",
    "import numpy as np\n",
    "import matplotlib.pyplot as plt\n",
    "import seaborn as sns\n",
    "\n",
    "from sklearn.metrics import mean_absolute_error\n",
    "\n",
    "from sqlalchemy import create_engine"
   ]
  },
  {
   "cell_type": "code",
   "execution_count": 2,
   "metadata": {},
   "outputs": [],
   "source": [
    "# loading up the postgres credentials\n",
    "user = os.environ['DB_USER']\n",
    "password = os.environ['DB_PASSWORD']\n",
    "host = os.environ['DB_HOST']\n",
    "database = os.environ['DB_NAME']\n",
    "port = os.environ['DB_PORT']\n",
    "    \n",
    "URI = f'postgresql://{user}:{password}@{host}:{port}/{database}'"
   ]
  },
  {
   "cell_type": "code",
   "execution_count": 3,
   "metadata": {},
   "outputs": [],
   "source": [
    "lee_sharpe_query = \"\"\"\n",
    "    select *\n",
    "    from lee_sharpe\n",
    "    where season >= 2012\n",
    "\"\"\"\n",
    "\n",
    "ls = pd.read_sql(lee_sharpe_query, URI)"
   ]
  },
  {
   "cell_type": "code",
   "execution_count": 4,
   "metadata": {},
   "outputs": [],
   "source": [
    "engine = create_engine(URI)\n",
    "\n",
    "query = \"\"\"\n",
    "    select *\n",
    "    from player_stats\n",
    "    where season >=2012 and position = 'QB'\n",
    "    order by season asc, week asc\n",
    "\"\"\"\n",
    "df = pd.read_sql(query, con=engine)"
   ]
  },
  {
   "cell_type": "code",
   "execution_count": 5,
   "metadata": {},
   "outputs": [],
   "source": [
    "# creating a dictionary of all QB starters for each season and week.\n",
    "# this will be used to assign starter status to each player\n",
    "# in the main dataframe in order to include only games in which\n",
    "# the quarterback started\n",
    "\n",
    "ls_dict = (\n",
    "    ls\n",
    "    .groupby(['season', 'week'])[['away_qb_id', 'home_qb_id']]\n",
    "    .agg({'away_qb_id' : 'unique', 'home_qb_id' : 'unique'})\n",
    "    .reset_index()\n",
    "    .assign(all_starters=lambda x: x[['away_qb_id', 'home_qb_id']]\n",
    "                                 .apply(lambda row: np.concatenate(row), axis=1))\n",
    "    .set_index(['season', 'week'])['all_starters']\n",
    "    .to_dict()\n",
    ")\n",
    "\n",
    "df['starter'] = [1 if p in ls_dict[(s, w)] else 0 for p, s, w in zip(df['player_id'], df['season'], df['week'])]"
   ]
  }
 ],
 "metadata": {
  "kernelspec": {
   "display_name": "nfl_project-ABAXyrCM",
   "language": "python",
   "name": "python3"
  },
  "language_info": {
   "codemirror_mode": {
    "name": "ipython",
    "version": 3
   },
   "file_extension": ".py",
   "mimetype": "text/x-python",
   "name": "python",
   "nbconvert_exporter": "python",
   "pygments_lexer": "ipython3",
   "version": "3.11.2"
  },
  "orig_nbformat": 4
 },
 "nbformat": 4,
 "nbformat_minor": 2
}
