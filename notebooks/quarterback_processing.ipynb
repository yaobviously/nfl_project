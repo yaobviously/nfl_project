{
 "cells": [
  {
   "cell_type": "code",
   "execution_count": 57,
   "metadata": {},
   "outputs": [],
   "source": [
    "import os\n",
    "import warnings\n",
    "import pandas as pd\n",
    "import numpy as np\n",
    "import matplotlib.pyplot as plt\n",
    "import seaborn as sns\n",
    "\n",
    "from sklearn.metrics import mean_absolute_error\n",
    "\n",
    "from sqlalchemy import create_engine\n",
    "\n",
    "warnings.filterwarnings('ignore', category=pd.errors.PerformanceWarning)"
   ]
  },
  {
   "cell_type": "code",
   "execution_count": 2,
   "metadata": {},
   "outputs": [],
   "source": [
    "# loading up the postgres credentials\n",
    "user = os.environ['DB_USER']\n",
    "password = os.environ['DB_PASSWORD']\n",
    "host = os.environ['DB_HOST']\n",
    "database = os.environ['DB_NAME']\n",
    "port = os.environ['DB_PORT']\n",
    "    \n",
    "URI = f'postgresql://{user}:{password}@{host}:{port}/{database}'"
   ]
  },
  {
   "cell_type": "code",
   "execution_count": 3,
   "metadata": {},
   "outputs": [],
   "source": [
    "lee_sharpe_query = \"\"\"\n",
    "    select *\n",
    "    from lee_sharpe\n",
    "    where season >= 2012\n",
    "\"\"\"\n",
    "\n",
    "ls = pd.read_sql(lee_sharpe_query, URI)"
   ]
  },
  {
   "cell_type": "code",
   "execution_count": 4,
   "metadata": {},
   "outputs": [],
   "source": [
    "engine = create_engine(URI)\n",
    "\n",
    "query = \"\"\"\n",
    "    select *\n",
    "    from player_stats\n",
    "    where season >=2012 and position = 'QB'\n",
    "    order by season asc, week asc\n",
    "\"\"\"\n",
    "df = pd.read_sql(query, con=engine)"
   ]
  },
  {
   "cell_type": "code",
   "execution_count": 5,
   "metadata": {},
   "outputs": [],
   "source": [
    "# creating a dictionary of all QB starters for each season and week.\n",
    "# this will be used to assign starter status to each player\n",
    "# in the main dataframe in order to include only games in which\n",
    "# the quarterback started\n",
    "\n",
    "ls_dict = (\n",
    "    ls\n",
    "    .groupby(['season', 'week'])[['away_qb_id', 'home_qb_id']]\n",
    "    .agg({'away_qb_id' : 'unique', 'home_qb_id' : 'unique'})\n",
    "    .reset_index()\n",
    "    .assign(all_starters=lambda x: x[['away_qb_id', 'home_qb_id']]\n",
    "                                 .apply(lambda row: np.concatenate(row), axis=1))\n",
    "    .set_index(['season', 'week'])['all_starters']\n",
    "    .to_dict()\n",
    ")\n",
    "\n",
    "df['starter'] = [1 if p in ls_dict[(s, w)] else 0 for p, s, w in zip(df['player_id'], df['season'], df['week'])]\n",
    "\n",
    "# dropping all rows where the player did not start the game\n",
    "df = df[df['starter'] == 1].copy()"
   ]
  },
  {
   "cell_type": "code",
   "execution_count": 16,
   "metadata": {},
   "outputs": [],
   "source": [
    "def rolling_player_statistics(data=None, window=None, min_periods=None):\n",
    "    \"\"\"\n",
    "    Returns a pandas Series with the rolling mean of the data given \n",
    "    a window and minimum number of periods. Shifted by one period.\n",
    "    \"\"\"   \n",
    "    \n",
    "    data_mean = data.shift().rolling(window=window, min_periods=min_periods).mean()\n",
    "    \n",
    "    return data_mean"
   ]
  },
  {
   "cell_type": "code",
   "execution_count": 32,
   "metadata": {},
   "outputs": [],
   "source": [
    "rolling_stats_columns = ['attempts', 'completions', 'passing_yards', 'passing_tds', 'interceptions',\n",
    "                        'sacks', 'sack_yards', 'sack_fumbles', 'passing_air_yards', 'passing_yards_after_catch',\n",
    "                        'passing_first_downs', 'passing_epa', 'pacr', 'carries', 'rushing_yards', 'rushing_first_downs',\n",
    "                        'fantasy_points_ppr']\n",
    "\n",
    "# getting rolling statistics for 5 games\n",
    "for col in rolling_stats_columns:\n",
    "    df[f'rolling_{col}_5'] = df.groupby('player_id')[f'{col}'].transform(lambda x: rolling_player_statistics(x, 5, 1))\n",
    "    \n",
    "# getting rolling statistics for 10 games\n",
    "for col in rolling_stats_columns:\n",
    "    df[f'rolling_{col}_10'] = df.groupby('player_id')[f'{col}'].transform(lambda x: rolling_player_statistics(x, 10, 3))\n",
    "    \n",
    "# getting rolling statistics for 15 games\n",
    "for col in rolling_stats_columns:\n",
    "    df[f'rolling_{col}_15'] = df.groupby('player_id')[f'{col}'].transform(lambda x: rolling_player_statistics(x, 15, 3))\n",
    "\n",
    "# getting expanding statistics for each player\n",
    "for col in rolling_stats_columns:\n",
    "    df[f'expanding_{col}_mean'] = df.groupby('player_id')[f'{col}'].transform(lambda x: x.shift().expanding().mean())\n",
    "    df[f'expanding_{col}_std'] = df.groupby('player_id')[f'{col}'].transform(lambda x: x.shift().expanding().std())"
   ]
  },
  {
   "cell_type": "code",
   "execution_count": 61,
   "metadata": {},
   "outputs": [
    {
     "data": {
      "text/plain": [
       "0.7566192276387919"
      ]
     },
     "execution_count": 61,
     "metadata": {},
     "output_type": "execute_result"
    }
   ],
   "source": [
    "compare_cols = ['interceptions', 'expanding_interceptions_mean']\n",
    "\n",
    "mean_absolute_error(df.dropna(subset=compare_cols)[compare_cols[0]], df.dropna(subset=compare_cols)[compare_cols[1]])"
   ]
  },
  {
   "cell_type": "code",
   "execution_count": 77,
   "metadata": {},
   "outputs": [
    {
     "data": {
      "text/plain": [
       "Index(['player_id', 'player_name', 'player_display_name', 'position',\n",
       "       'position_group', 'headshot_url', 'recent_team', 'season', 'week',\n",
       "       'season_type', 'completions', 'attempts', 'passing_yards',\n",
       "       'passing_tds', 'interceptions', 'sacks', 'sack_yards', 'sack_fumbles',\n",
       "       'sack_fumbles_lost', 'passing_air_yards', 'passing_yards_after_catch',\n",
       "       'passing_first_downs', 'passing_epa', 'passing_2pt_conversions', 'pacr',\n",
       "       'dakota', 'carries', 'rushing_yards', 'rushing_tds', 'rushing_fumbles'],\n",
       "      dtype='object')"
      ]
     },
     "execution_count": 77,
     "metadata": {},
     "output_type": "execute_result"
    }
   ],
   "source": [
    "df.columns[:30]"
   ]
  },
  {
   "cell_type": "code",
   "execution_count": 75,
   "metadata": {},
   "outputs": [
    {
     "data": {
      "text/plain": [
       "Index(['game_id', 'season', 'game_type', 'week', 'gameday', 'weekday',\n",
       "       'gametime', 'away_team', 'away_score', 'home_team', 'home_score',\n",
       "       'location', 'result', 'total', 'overtime', 'old_game_id', 'gsis',\n",
       "       'nfl_detail_id', 'pfr', 'pff', 'espn', 'away_rest', 'home_rest',\n",
       "       'away_moneyline', 'home_moneyline', 'spread_line', 'away_spread_odds',\n",
       "       'home_spread_odds', 'total_line', 'under_odds', 'over_odds', 'div_game',\n",
       "       'roof', 'surface', 'temp', 'wind', 'away_qb_id', 'home_qb_id',\n",
       "       'away_qb_name', 'home_qb_name', 'away_coach', 'home_coach', 'referee',\n",
       "       'stadium_id', 'stadium'],\n",
       "      dtype='object')"
      ]
     },
     "execution_count": 75,
     "metadata": {},
     "output_type": "execute_result"
    }
   ],
   "source": [
    "ls = ls[['season', 'week', 'away_team', 'home_team', 'location', 'away_moneyline',\n",
    "        'home_moneyline', 'away_spread_odds', 'home_spread_odds', 'total_line', \n",
    "        'surface', 'roof', 'temp', 'wind']].copy()"
   ]
  }
 ],
 "metadata": {
  "kernelspec": {
   "display_name": "nfl_project-ABAXyrCM",
   "language": "python",
   "name": "python3"
  },
  "language_info": {
   "codemirror_mode": {
    "name": "ipython",
    "version": 3
   },
   "file_extension": ".py",
   "mimetype": "text/x-python",
   "name": "python",
   "nbconvert_exporter": "python",
   "pygments_lexer": "ipython3",
   "version": "3.11.2"
  },
  "orig_nbformat": 4
 },
 "nbformat": 4,
 "nbformat_minor": 2
}
