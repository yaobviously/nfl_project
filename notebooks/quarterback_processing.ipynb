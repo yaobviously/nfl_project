{
 "cells": [
  {
   "cell_type": "code",
   "execution_count": 3,
   "metadata": {},
   "outputs": [],
   "source": [
    "import os\n",
    "import sys\n",
    "import warnings\n",
    "import pandas as pd\n",
    "import numpy as np\n",
    "import matplotlib.pyplot as plt\n",
    "import seaborn as sns\n",
    "\n",
    "from dotenv import load_dotenv\n",
    "load_dotenv()\n",
    "\n",
    "from sklearn.linear_model import LinearRegression, RidgeCV, LassoCV\n",
    "from sklearn.preprocessing import RobustScaler, StandardScaler\n",
    "from sklearn.metrics import mean_absolute_error\n",
    "\n",
    "sys.path.append('../')\n",
    "\n",
    "from sqlalchemy import create_engine\n",
    "from database.queries import get_game_stats\n",
    "\n",
    "warnings.filterwarnings('ignore', category=pd.errors.PerformanceWarning)"
   ]
  },
  {
   "cell_type": "code",
   "execution_count": 5,
   "metadata": {},
   "outputs": [],
   "source": [
    "# loading up the postgres credentials\n",
    "user = os.getenv('DB_USER')\n",
    "password = os.getenv('DB_PASSWORD')\n",
    "host = os.getenv('DB_HOST')\n",
    "database = os.getenv('DB_NAME')\n",
    "port = os.getenv('DB_PORT')\n",
    "\n",
    "# # creating the URI for the database\n",
    "URI = f'postgresql://{user}:{password}@{host}:{port}/{database}'\n",
    "\n",
    "# # establishing a connection to the database\n",
    "engine = create_engine(URI)"
   ]
  },
  {
   "cell_type": "code",
   "execution_count": 6,
   "metadata": {},
   "outputs": [],
   "source": [
    "lee_sharpe_query = \"\"\"\n",
    "    select *\n",
    "    from lee_sharpe\n",
    "    where season >= 2012\n",
    "\"\"\"\n",
    "\n",
    "ls = pd.read_sql(lee_sharpe_query, URI)"
   ]
  },
  {
   "cell_type": "code",
   "execution_count": 7,
   "metadata": {},
   "outputs": [],
   "source": [
    "# changing the names in the Lee Sharpe dataframe to match the names in the \n",
    "# nflfastr dataframe. This will allow us to combine data more easily, \n",
    "# using game_id. \n",
    "\n",
    "lv_home_condition = (ls['home_team'] == 'OAK') & (ls['season'] < 2020)\n",
    "lv_away_condition = (ls['away_team'] == 'OAK') & (ls['season'] < 2020)\n",
    "ls.loc[lv_home_condition, 'home_team'] = 'LV'\n",
    "ls.loc[lv_away_condition, 'away_team'] = 'LV'\n",
    "\n",
    "la_home_condition = (ls['home_team'] == 'STL') & (ls['season'] < 2016)\n",
    "la_away_condition = (ls['away_team'] == 'STL') & (ls['season'] < 2016)\n",
    "ls.loc[la_home_condition, 'home_team'] = 'LA'\n",
    "ls.loc[la_away_condition, 'away_team'] = 'LA'\n",
    "\n",
    "lac_home_condition = (ls['home_team'] == 'SD') & (ls['season'] < 2017)\n",
    "lac_away_condition = (ls['away_team'] == 'SD') & (ls['season'] < 2017)\n",
    "ls.loc[lac_home_condition, 'home_team'] = 'LAC'\n",
    "ls.loc[lac_away_condition, 'away_team'] = 'LAC'"
   ]
  },
  {
   "cell_type": "code",
   "execution_count": 8,
   "metadata": {},
   "outputs": [],
   "source": [
    "query = \"\"\"\n",
    "    select *\n",
    "    from player_stats\n",
    "    where season >=2012 and position = 'QB'\n",
    "    order by season asc, week asc\n",
    "\"\"\"\n",
    "df = pd.read_sql(query, con=engine)"
   ]
  },
  {
   "cell_type": "code",
   "execution_count": 9,
   "metadata": {},
   "outputs": [
    {
     "name": "stdout",
     "output_type": "stream",
     "text": [
      "there are now 0 missing game ids\n"
     ]
    }
   ],
   "source": [
    "# getting game ids by week from the lee sharpe data. starting with home then\n",
    "# using update to get the away team game ids\n",
    "game_id_dict = ls.set_index(['season', 'week', 'home_team'])['game_id'].to_dict()\n",
    "ls_gameid_away = ls.set_index(['season', 'week', 'away_team'])['game_id'].to_dict()\n",
    "\n",
    "game_id_dict.update(ls_gameid_away)\n",
    "\n",
    "# assigning game ids to the player stats dataframe using the game id dictionary\n",
    "df['game_id'] = 'NA'\n",
    "df['game_id'] = [game_id_dict[(s, w, t)] if (s, w, t) in game_id_dict else 'NA' for s, w, t in zip(df.season, df.week, df.recent_team)]\n",
    "\n",
    "print(\"there are now\", df[df['game_id'] == 'NA'].shape[0], \"missing game ids\")"
   ]
  },
  {
   "cell_type": "code",
   "execution_count": 10,
   "metadata": {},
   "outputs": [
    {
     "data": {
      "text/plain": [
       "set()"
      ]
     },
     "execution_count": 10,
     "metadata": {},
     "output_type": "execute_result"
    }
   ],
   "source": [
    "# merging the lee sharpe data with the player stats data\n",
    "df = df.merge(ls, how='left', on=['game_id', 'season', 'week'], validate='many_to_one')\n",
    "\n",
    "# limit the dataset to only quarterbacks who started the game\n",
    "cond = (df['player_id'] == df['home_qb_id']) | (df['player_id'] == df['away_qb_id'])\n",
    "\n",
    "starters = df[cond].copy()\n",
    "starters.reset_index(drop=True, inplace=True)\n",
    "\n",
    "# are there any missing game ids in lee sharpe\n",
    "set(ls.game_id.unique()).difference(set(starters.game_id.unique()))"
   ]
  },
  {
   "cell_type": "code",
   "execution_count": 12,
   "metadata": {},
   "outputs": [],
   "source": [
    "def rolling_player_statistics(data=None, window=None, min_periods=None):\n",
    "    \"\"\"\n",
    "    Returns a pandas Series with the rolling mean of the data given \n",
    "    a window and minimum number of periods. Shifted by one period.\n",
    "    \"\"\"   \n",
    "    \n",
    "    data_mean = data.shift().rolling(window=window, min_periods=min_periods).mean()\n",
    "    \n",
    "    return data_mean"
   ]
  },
  {
   "cell_type": "code",
   "execution_count": 13,
   "metadata": {},
   "outputs": [],
   "source": [
    "rolling_stats_columns = ['attempts', 'completions', 'passing_yards', 'passing_tds', 'interceptions',\n",
    "                        'sacks', 'sack_yards', 'sack_fumbles', 'passing_air_yards', 'passing_yards_after_catch',\n",
    "                        'passing_first_downs', 'passing_epa', 'pacr', 'carries', 'rushing_yards', 'rushing_first_downs',\n",
    "                        'fantasy_points_ppr']\n",
    "\n",
    "# getting rolling statistics for 5 games\n",
    "for col in rolling_stats_columns:\n",
    "    starters[f'rolling_{col}_5'] = starters.groupby('player_id')[f'{col}'].transform(lambda x: rolling_player_statistics(x, 5, 1))\n",
    "    \n",
    "# getting rolling statistics for 10 games\n",
    "for col in rolling_stats_columns:\n",
    "    starters[f'rolling_{col}_10'] = starters.groupby('player_id')[f'{col}'].transform(lambda x: rolling_player_statistics(x, 10, 3))\n",
    "    \n",
    "# getting rolling statistics for 15 games\n",
    "for col in rolling_stats_columns:\n",
    "    starters[f'rolling_{col}_15'] = starters.groupby('player_id')[f'{col}'].transform(lambda x: rolling_player_statistics(x, 15, 3))\n",
    "\n",
    "# getting expanding statistics for each player\n",
    "for col in rolling_stats_columns:\n",
    "    starters[f'expanding_{col}_mean'] = starters.groupby('player_id')[f'{col}'].transform(lambda x: x.shift().expanding().mean())\n",
    "    starters[f'expanding_{col}_std'] = starters.groupby('player_id')[f'{col}'].transform(lambda x: x.shift().expanding().std())"
   ]
  },
  {
   "cell_type": "code",
   "execution_count": 26,
   "metadata": {},
   "outputs": [
    {
     "data": {
      "text/html": [
       "<style>#sk-container-id-3 {color: black;background-color: white;}#sk-container-id-3 pre{padding: 0;}#sk-container-id-3 div.sk-toggleable {background-color: white;}#sk-container-id-3 label.sk-toggleable__label {cursor: pointer;display: block;width: 100%;margin-bottom: 0;padding: 0.3em;box-sizing: border-box;text-align: center;}#sk-container-id-3 label.sk-toggleable__label-arrow:before {content: \"▸\";float: left;margin-right: 0.25em;color: #696969;}#sk-container-id-3 label.sk-toggleable__label-arrow:hover:before {color: black;}#sk-container-id-3 div.sk-estimator:hover label.sk-toggleable__label-arrow:before {color: black;}#sk-container-id-3 div.sk-toggleable__content {max-height: 0;max-width: 0;overflow: hidden;text-align: left;background-color: #f0f8ff;}#sk-container-id-3 div.sk-toggleable__content pre {margin: 0.2em;color: black;border-radius: 0.25em;background-color: #f0f8ff;}#sk-container-id-3 input.sk-toggleable__control:checked~div.sk-toggleable__content {max-height: 200px;max-width: 100%;overflow: auto;}#sk-container-id-3 input.sk-toggleable__control:checked~label.sk-toggleable__label-arrow:before {content: \"▾\";}#sk-container-id-3 div.sk-estimator input.sk-toggleable__control:checked~label.sk-toggleable__label {background-color: #d4ebff;}#sk-container-id-3 div.sk-label input.sk-toggleable__control:checked~label.sk-toggleable__label {background-color: #d4ebff;}#sk-container-id-3 input.sk-hidden--visually {border: 0;clip: rect(1px 1px 1px 1px);clip: rect(1px, 1px, 1px, 1px);height: 1px;margin: -1px;overflow: hidden;padding: 0;position: absolute;width: 1px;}#sk-container-id-3 div.sk-estimator {font-family: monospace;background-color: #f0f8ff;border: 1px dotted black;border-radius: 0.25em;box-sizing: border-box;margin-bottom: 0.5em;}#sk-container-id-3 div.sk-estimator:hover {background-color: #d4ebff;}#sk-container-id-3 div.sk-parallel-item::after {content: \"\";width: 100%;border-bottom: 1px solid gray;flex-grow: 1;}#sk-container-id-3 div.sk-label:hover label.sk-toggleable__label {background-color: #d4ebff;}#sk-container-id-3 div.sk-serial::before {content: \"\";position: absolute;border-left: 1px solid gray;box-sizing: border-box;top: 0;bottom: 0;left: 50%;z-index: 0;}#sk-container-id-3 div.sk-serial {display: flex;flex-direction: column;align-items: center;background-color: white;padding-right: 0.2em;padding-left: 0.2em;position: relative;}#sk-container-id-3 div.sk-item {position: relative;z-index: 1;}#sk-container-id-3 div.sk-parallel {display: flex;align-items: stretch;justify-content: center;background-color: white;position: relative;}#sk-container-id-3 div.sk-item::before, #sk-container-id-3 div.sk-parallel-item::before {content: \"\";position: absolute;border-left: 1px solid gray;box-sizing: border-box;top: 0;bottom: 0;left: 50%;z-index: -1;}#sk-container-id-3 div.sk-parallel-item {display: flex;flex-direction: column;z-index: 1;position: relative;background-color: white;}#sk-container-id-3 div.sk-parallel-item:first-child::after {align-self: flex-end;width: 50%;}#sk-container-id-3 div.sk-parallel-item:last-child::after {align-self: flex-start;width: 50%;}#sk-container-id-3 div.sk-parallel-item:only-child::after {width: 0;}#sk-container-id-3 div.sk-dashed-wrapped {border: 1px dashed gray;margin: 0 0.4em 0.5em 0.4em;box-sizing: border-box;padding-bottom: 0.4em;background-color: white;}#sk-container-id-3 div.sk-label label {font-family: monospace;font-weight: bold;display: inline-block;line-height: 1.2em;}#sk-container-id-3 div.sk-label-container {text-align: center;}#sk-container-id-3 div.sk-container {/* jupyter's `normalize.less` sets `[hidden] { display: none; }` but bootstrap.min.css set `[hidden] { display: none !important; }` so we also need the `!important` here to be able to override the default hidden behavior on the sphinx rendered scikit-learn.org. See: https://github.com/scikit-learn/scikit-learn/issues/21755 */display: inline-block !important;position: relative;}#sk-container-id-3 div.sk-text-repr-fallback {display: none;}</style><div id=\"sk-container-id-3\" class=\"sk-top-container\"><div class=\"sk-text-repr-fallback\"><pre>LassoCV()</pre><b>In a Jupyter environment, please rerun this cell to show the HTML representation or trust the notebook. <br />On GitHub, the HTML representation is unable to render, please try loading this page with nbviewer.org.</b></div><div class=\"sk-container\" hidden><div class=\"sk-item\"><div class=\"sk-estimator sk-toggleable\"><input class=\"sk-toggleable__control sk-hidden--visually\" id=\"sk-estimator-id-3\" type=\"checkbox\" checked><label for=\"sk-estimator-id-3\" class=\"sk-toggleable__label sk-toggleable__label-arrow\">LassoCV</label><div class=\"sk-toggleable__content\"><pre>LassoCV()</pre></div></div></div></div></div>"
      ],
      "text/plain": [
       "LassoCV()"
      ]
     },
     "execution_count": 26,
     "metadata": {},
     "output_type": "execute_result"
    }
   ],
   "source": [
    "features = ['rolling_passing_yards_5', 'rolling_passing_yards_15', 'expanding_passing_yards_mean',\n",
    "          'wind', 'passing_yards', 'rolling_attempts_15', 'rolling_completions_15', 'temp',\n",
    "          'total_line']\n",
    "\n",
    "model_df = starters[features].copy()\n",
    "model_df['wind'] = model_df['wind'].fillna(0)\n",
    "model_df['temp'] = model_df['temp'].fillna(72)\n",
    "model_df.dropna(subset=['rolling_passing_yards_15'], inplace=True)\n",
    "\n",
    "model = LassoCV()\n",
    "\n",
    "X = model_df.drop('passing_yards', axis=1)\n",
    "y = model_df['passing_yards']\n",
    "\n",
    "X_train, X_test = X.iloc[:4000].copy(), X.iloc[4000:].copy()\n",
    "y_train, y_test = y.iloc[:4000].copy(), y.iloc[4000:].copy()\n",
    "\n",
    "model.fit(X_train, y_train)"
   ]
  },
  {
   "cell_type": "code",
   "execution_count": 29,
   "metadata": {},
   "outputs": [
    {
     "data": {
      "text/html": [
       "<div>\n",
       "<style scoped>\n",
       "    .dataframe tbody tr th:only-of-type {\n",
       "        vertical-align: middle;\n",
       "    }\n",
       "\n",
       "    .dataframe tbody tr th {\n",
       "        vertical-align: top;\n",
       "    }\n",
       "\n",
       "    .dataframe thead th {\n",
       "        text-align: right;\n",
       "    }\n",
       "</style>\n",
       "<table border=\"1\" class=\"dataframe\">\n",
       "  <thead>\n",
       "    <tr style=\"text-align: right;\">\n",
       "      <th></th>\n",
       "      <th>0</th>\n",
       "    </tr>\n",
       "  </thead>\n",
       "  <tbody>\n",
       "    <tr>\n",
       "      <th>intercept</th>\n",
       "      <td>-39.909078</td>\n",
       "    </tr>\n",
       "    <tr>\n",
       "      <th>rolling_passing_yards_5</th>\n",
       "      <td>0.105800</td>\n",
       "    </tr>\n",
       "    <tr>\n",
       "      <th>rolling_passing_yards_15</th>\n",
       "      <td>0.093775</td>\n",
       "    </tr>\n",
       "    <tr>\n",
       "      <th>expanding_passing_yards_mean</th>\n",
       "      <td>0.251238</td>\n",
       "    </tr>\n",
       "    <tr>\n",
       "      <th>wind</th>\n",
       "      <td>-0.756603</td>\n",
       "    </tr>\n",
       "    <tr>\n",
       "      <th>rolling_attempts_15</th>\n",
       "      <td>0.323025</td>\n",
       "    </tr>\n",
       "    <tr>\n",
       "      <th>rolling_completions_15</th>\n",
       "      <td>0.758502</td>\n",
       "    </tr>\n",
       "    <tr>\n",
       "      <th>temp</th>\n",
       "      <td>0.179288</td>\n",
       "    </tr>\n",
       "    <tr>\n",
       "      <th>total_line</th>\n",
       "      <td>3.088982</td>\n",
       "    </tr>\n",
       "  </tbody>\n",
       "</table>\n",
       "</div>"
      ],
      "text/plain": [
       "                                      0\n",
       "intercept                    -39.909078\n",
       "rolling_passing_yards_5        0.105800\n",
       "rolling_passing_yards_15       0.093775\n",
       "expanding_passing_yards_mean   0.251238\n",
       "wind                          -0.756603\n",
       "rolling_attempts_15            0.323025\n",
       "rolling_completions_15         0.758502\n",
       "temp                           0.179288\n",
       "total_line                     3.088982"
      ]
     },
     "execution_count": 29,
     "metadata": {},
     "output_type": "execute_result"
    }
   ],
   "source": [
    "# creating a dataframe with the model params\n",
    "model_params_df = pd.DataFrame({x:y for x, y in zip(X.columns, model.coef_)}, index=[0])\n",
    "model_params_df.insert(0, 'intercept', model.intercept_)\n",
    "\n",
    "model_params_df.T"
   ]
  }
 ],
 "metadata": {
  "kernelspec": {
   "display_name": "nfl_project-ABAXyrCM",
   "language": "python",
   "name": "python3"
  },
  "language_info": {
   "codemirror_mode": {
    "name": "ipython",
    "version": 3
   },
   "file_extension": ".py",
   "mimetype": "text/x-python",
   "name": "python",
   "nbconvert_exporter": "python",
   "pygments_lexer": "ipython3",
   "version": "3.11.2"
  },
  "orig_nbformat": 4
 },
 "nbformat": 4,
 "nbformat_minor": 2
}
